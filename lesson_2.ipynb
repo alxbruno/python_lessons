{
  "nbformat": 4,
  "nbformat_minor": 0,
  "metadata": {
    "colab": {
      "provenance": [],
      "authorship_tag": "ABX9TyOJdpbsAu6XPup78cpVijUC",
      "include_colab_link": true
    },
    "kernelspec": {
      "name": "python3",
      "display_name": "Python 3"
    },
    "language_info": {
      "name": "python"
    }
  },
  "cells": [
    {
      "cell_type": "markdown",
      "metadata": {
        "id": "view-in-github",
        "colab_type": "text"
      },
      "source": [
        "<a href=\"https://colab.research.google.com/github/alxbruno/python_lessons/blob/main/lesson_2.ipynb\" target=\"_parent\"><img src=\"https://colab.research.google.com/assets/colab-badge.svg\" alt=\"Open In Colab\"/></a>"
      ]
    },
    {
      "cell_type": "markdown",
      "source": [
        "**Python Variables**\n",
        "\n",
        "**Variables**\n",
        "Variables are containers for storing data values.\n",
        "\n",
        "**Creating Variables**\n",
        "Python has no command for declaring a variable.\n",
        "\n",
        "A variable is created the moment you first assign a value to it.\n",
        "\n"
      ],
      "metadata": {
        "id": "yM_kLz77Hgyt"
      }
    },
    {
      "cell_type": "code",
      "execution_count": 1,
      "metadata": {
        "colab": {
          "base_uri": "https://localhost:8080/"
        },
        "id": "3Ac5wuwlHekH",
        "outputId": "041ecc5b-fbd6-4151-d4c8-1fce54c11ce5"
      },
      "outputs": [
        {
          "output_type": "stream",
          "name": "stdout",
          "text": [
            "5\n",
            "john\n"
          ]
        }
      ],
      "source": [
        "x=5\n",
        "y=\"john\"\n",
        "print(x)\n",
        "print(y)"
      ]
    },
    {
      "cell_type": "markdown",
      "source": [
        "Variables do not need to be declared with any particular type, and can even change type after they have been set."
      ],
      "metadata": {
        "id": "eUyVDJSnIA5H"
      }
    },
    {
      "cell_type": "code",
      "source": [
        "x=4   # x is of type int\n",
        "y=\"sally\" #x is now of str\n",
        "print(x)"
      ],
      "metadata": {
        "colab": {
          "base_uri": "https://localhost:8080/"
        },
        "id": "4c0FsoyCICLI",
        "outputId": "ddd9874b-b62c-4752-b3c6-e351e7fea992"
      },
      "execution_count": 2,
      "outputs": [
        {
          "output_type": "stream",
          "name": "stdout",
          "text": [
            "4\n"
          ]
        }
      ]
    },
    {
      "cell_type": "markdown",
      "source": [
        "**Casting**\n",
        "\n",
        "If you want to specify the data type of a variable, this can be done with casting.\n",
        "\n"
      ],
      "metadata": {
        "id": "G_qLGhxGJGuY"
      }
    },
    {
      "cell_type": "code",
      "source": [
        "x=str (3)   # x will be '3'\n",
        "y=int (3)   # y will be  3\n",
        "z=float(3)  # z will be  3.0"
      ],
      "metadata": {
        "id": "hySYU07QJLUR"
      },
      "execution_count": 10,
      "outputs": []
    },
    {
      "cell_type": "markdown",
      "source": [
        "**Get the Type**\n",
        "\n",
        "You can get the data type of a variable with the type() function.\n",
        "\n"
      ],
      "metadata": {
        "id": "cEin3o6RK_hy"
      }
    },
    {
      "cell_type": "code",
      "source": [
        "x=5\n",
        "y=\"john\"\n",
        "print(type(x))\n",
        "print(type(y))"
      ],
      "metadata": {
        "colab": {
          "base_uri": "https://localhost:8080/"
        },
        "id": "4f2xI6B-LClB",
        "outputId": "a6c7fa1f-6580-4eff-cafe-5e93f9f43b90"
      },
      "execution_count": 11,
      "outputs": [
        {
          "output_type": "stream",
          "name": "stdout",
          "text": [
            "<class 'int'>\n",
            "<class 'str'>\n"
          ]
        }
      ]
    },
    {
      "cell_type": "markdown",
      "source": [
        "**Single or Double Quotes?**\n",
        "\n",
        "String variables can be declared either by using single or double quotes:\n",
        "\n"
      ],
      "metadata": {
        "id": "mLRfW7yELd5Q"
      }
    },
    {
      "cell_type": "code",
      "source": [
        "x=\"john\"\n",
        "# is the same as\n",
        "x='john'"
      ],
      "metadata": {
        "id": "Q3wRPJl2Lldg"
      },
      "execution_count": 15,
      "outputs": []
    },
    {
      "cell_type": "markdown",
      "source": [
        "**Case-Sensitive**\n",
        "\n",
        "Variable names are case-sensitive.\n",
        "\n"
      ],
      "metadata": {
        "id": "l8Kp1wYlMG8y"
      }
    },
    {
      "cell_type": "code",
      "source": [
        "a=4\n",
        "A=\"sally\"\n",
        "#A will not overwrite a"
      ],
      "metadata": {
        "id": "3od0yAiKMLIU"
      },
      "execution_count": 17,
      "outputs": []
    }
  ]
}