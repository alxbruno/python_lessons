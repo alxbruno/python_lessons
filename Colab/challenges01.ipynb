{
  "nbformat": 4,
  "nbformat_minor": 0,
  "metadata": {
    "colab": {
      "provenance": [],
      "authorship_tag": "ABX9TyN7FuUn3BMdHhh2ONWGamRN",
      "include_colab_link": true
    },
    "kernelspec": {
      "name": "python3",
      "display_name": "Python 3"
    },
    "language_info": {
      "name": "python"
    }
  },
  "cells": [
    {
      "cell_type": "markdown",
      "metadata": {
        "id": "view-in-github",
        "colab_type": "text"
      },
      "source": [
        "<a href=\"https://colab.research.google.com/github/alxbruno/python_lessons/blob/main/Colab/challenges01.ipynb\" target=\"_parent\"><img src=\"https://colab.research.google.com/assets/colab-badge.svg\" alt=\"Open In Colab\"/></a>"
      ]
    },
    {
      "cell_type": "markdown",
      "source": [
        "Challenge 001"
      ],
      "metadata": {
        "id": "7eiiXc-GqnbU"
      }
    },
    {
      "cell_type": "code",
      "execution_count": null,
      "metadata": {
        "id": "taNmfnq4qM7j",
        "colab": {
          "base_uri": "https://localhost:8080/"
        },
        "outputId": "1678b5b1-d70d-4757-dbe5-99bc8642a7c8"
      },
      "outputs": [
        {
          "output_type": "stream",
          "name": "stdout",
          "text": [
            "Enter first name and surname: Alex Bruno\n",
            "Hello Alex Bruno\n"
          ]
        }
      ],
      "source": [
        "x=input(\"Enter username: \")\n",
        "y=\"Hello \"\n",
        "print(y+x)\n",
        "\n"
      ]
    },
    {
      "cell_type": "code",
      "execution_count": null,
      "metadata": {
        "outputId": "e08e46be-c294-41ab-8b43-eadf2dd2e2d5",
        "colab": {
          "base_uri": "https://localhost:8080/"
        },
        "id": "QsLMLUdO3I0L"
      },
      "outputs": [
        {
          "output_type": "stream",
          "name": "stdout",
          "text": [
            "Enter username: zaza\n",
            "Hello zaza\n"
          ]
        }
      ],
      "source": [
        "x=input(\"Enter username: \")\n",
        "print(\"Hello \"+x)\n",
        "\n"
      ]
    },
    {
      "cell_type": "markdown",
      "source": [
        "Challenge 002"
      ],
      "metadata": {
        "id": "YSK7pclS-CX6"
      }
    },
    {
      "cell_type": "code",
      "source": [
        "x=input(\"What is your first name: \")\n",
        "y=input(\"What is your surname: \")\n",
        "print(\"Hello \" + x + \" \" + y)"
      ],
      "metadata": {
        "colab": {
          "base_uri": "https://localhost:8080/"
        },
        "id": "FG_U9Ak2-E1R",
        "outputId": "c5918cce-0d14-4c07-8867-56dc4aaeb072"
      },
      "execution_count": null,
      "outputs": [
        {
          "output_type": "stream",
          "name": "stdout",
          "text": [
            "What is your first name: Alex\n",
            "what is your surname: Bruno\n",
            "Hello Alex Bruno\n"
          ]
        }
      ]
    },
    {
      "cell_type": "markdown",
      "source": [
        "Challenge 003"
      ],
      "metadata": {
        "id": "yhKRS2KU_4IJ"
      }
    },
    {
      "cell_type": "code",
      "source": [
        "print(\"What do you call a bear with no teeth \\n a gummy bear!\")"
      ],
      "metadata": {
        "colab": {
          "base_uri": "https://localhost:8080/"
        },
        "id": "I1t3_cGnAGek",
        "outputId": "8ff38b66-f380-4603-fb0b-d53ff5486ca1"
      },
      "execution_count": null,
      "outputs": [
        {
          "output_type": "stream",
          "name": "stdout",
          "text": [
            "what do you call a bear with no teeth \n",
            " a gummy bear!\n"
          ]
        }
      ]
    },
    {
      "cell_type": "markdown",
      "source": [
        "Challenge 004\n",
        "\n",
        "I created a variable called x and had a user choose a random number and put the random number in x\n",
        "\n",
        "I created a variable called y and had a user choose a random number and put the random number in y\n",
        "\n"
      ],
      "metadata": {
        "id": "t8uryGl1D0rN"
      }
    },
    {
      "cell_type": "code",
      "source": [
        "x=int(input(\"Enter a number: \"))\n",
        "y=int(input(\"Enter a number: \"))\n",
        "print(\"The total is \")\n",
        "print(x+y)"
      ],
      "metadata": {
        "colab": {
          "base_uri": "https://localhost:8080/"
        },
        "id": "cR5oX7H0D0Rr",
        "outputId": "1adedf58-a371-41d4-e528-36a04de8ef84"
      },
      "execution_count": null,
      "outputs": [
        {
          "output_type": "stream",
          "name": "stdout",
          "text": [
            "enter a number: 30\n",
            "enter a number: 11\n",
            "The total is \n",
            "41\n"
          ]
        }
      ]
    },
    {
      "cell_type": "code",
      "source": [
        "x=int(input(\"Enter a number: \"))\n",
        "y=int(input(\"Enter a number: \"))\n",
        "z = x+y\n",
        "print(\"The total is\\n\", z)"
      ],
      "metadata": {
        "outputId": "a00d1476-69a7-4b83-9858-3d3bceb5e638",
        "colab": {
          "base_uri": "https://localhost:8080/"
        },
        "id": "V6Xv6EfCIVMD"
      },
      "execution_count": null,
      "outputs": [
        {
          "output_type": "stream",
          "name": "stdout",
          "text": [
            "enter a number: 4\n",
            "enter a number: 5\n",
            "The total is\n",
            " 9\n"
          ]
        }
      ]
    },
    {
      "cell_type": "markdown",
      "source": [
        "challenge 005"
      ],
      "metadata": {
        "id": "etW-eoMWTNmI"
      }
    },
    {
      "cell_type": "code",
      "source": [
        "x=int(input(\"Enter a number: \"))\n",
        "y=int(input(\"Enter a number: \"))\n",
        "z=int(input(\"Enter a number: \"))\n",
        "print(\"The answer is\")\n",
        "c=(x+y)*z\n",
        "print(c)"
      ],
      "metadata": {
        "colab": {
          "base_uri": "https://localhost:8080/"
        },
        "id": "qoPrlC4CTQWH",
        "outputId": "26adabfb-e3b8-4fbd-9a34-e5d4bfb6b2de"
      },
      "execution_count": null,
      "outputs": [
        {
          "output_type": "stream",
          "name": "stdout",
          "text": [
            "enter a number: 123\n",
            "enter a number: 23\n",
            "enter a number: 14\n",
            "The answer is\n"
          ]
        },
        {
          "output_type": "execute_result",
          "data": {
            "text/plain": [
              "2044"
            ]
          },
          "metadata": {},
          "execution_count": 115
        }
      ]
    },
    {
      "cell_type": "code",
      "source": [
        "x=int(input(\"Enter a number: \"))\n",
        "y=int(input(\"Enter a number: \"))\n",
        "z=int(input(\"Enter a number: \"))\n",
        "c=(x+y)*z\n",
        "print(\"The answer is\\n\", c)"
      ],
      "metadata": {
        "colab": {
          "base_uri": "https://localhost:8080/"
        },
        "id": "-7tejoW8UAEw",
        "outputId": "99a9ee22-c426-4e66-d270-0d04bf09d61b"
      },
      "execution_count": null,
      "outputs": [
        {
          "output_type": "stream",
          "name": "stdout",
          "text": [
            "enter a number: 3\n",
            "enter a number: 2\n",
            "enter a number: 2\n",
            "The answer is\n",
            " 10\n"
          ]
        }
      ]
    },
    {
      "cell_type": "markdown",
      "source": [
        "challenge 006"
      ],
      "metadata": {
        "id": "x2Wia-_7hzRt"
      }
    },
    {
      "cell_type": "code",
      "source": [
        "x=int(input(\"How many pizza slices do you have \"))\n",
        "y=int(input(\"How many pizza slices have you eaten \"))\n",
        "(x-y)"
      ],
      "metadata": {
        "colab": {
          "base_uri": "https://localhost:8080/"
        },
        "id": "CtkggyXBh3RL",
        "outputId": "5077e689-12ab-4cb6-e1e7-2cd93c125b01"
      },
      "execution_count": null,
      "outputs": [
        {
          "name": "stdout",
          "output_type": "stream",
          "text": [
            "how many pizza slices do you have 3\n",
            "how many pizza slices have you eaten 1\n"
          ]
        },
        {
          "output_type": "execute_result",
          "data": {
            "text/plain": [
              "2"
            ]
          },
          "metadata": {},
          "execution_count": 121
        }
      ]
    },
    {
      "cell_type": "markdown",
      "source": [
        "Challenge 7"
      ],
      "metadata": {
        "id": "TqtWppiejr9t"
      }
    },
    {
      "cell_type": "code",
      "source": [
        "x=str(input(\"Whats your name :\"))\n",
        "y=int(input(\"How old are you :\"))\n",
        "print(\"On your next birthday you will be\")\n",
        "(y+1)"
      ],
      "metadata": {
        "colab": {
          "base_uri": "https://localhost:8080/"
        },
        "id": "lebfwWInjxbc",
        "outputId": "ec7a9a0e-67c3-412b-8ae5-7be97a056fa1"
      },
      "execution_count": null,
      "outputs": [
        {
          "output_type": "stream",
          "name": "stdout",
          "text": [
            "whats your name :Raqueline\n",
            "how old are you :47\n",
            "on your next birthday you will be\n"
          ]
        },
        {
          "output_type": "execute_result",
          "data": {
            "text/plain": [
              "48"
            ]
          },
          "metadata": {},
          "execution_count": 130
        }
      ]
    },
    {
      "cell_type": "markdown",
      "source": [
        "Challenge 008"
      ],
      "metadata": {
        "id": "Ltg1aFN4mRFc"
      }
    },
    {
      "cell_type": "code",
      "source": [
        "x=int(input(\"Whats the total price of the bill? \"))\n",
        "y=int(input(\"How many diners are there? \"))\n",
        "print(\"This is how much each person has to pay \")\n",
        "(x/y)"
      ],
      "metadata": {
        "colab": {
          "base_uri": "https://localhost:8080/"
        },
        "id": "NPiDNAOHmQls",
        "outputId": "69560f60-48b8-4405-db07-8e70af6d5282"
      },
      "execution_count": null,
      "outputs": [
        {
          "output_type": "stream",
          "name": "stdout",
          "text": [
            "Whats the total price of the bill? 500\n",
            "How many diners are there? 24\n",
            "This is how much each person has to pay \n"
          ]
        },
        {
          "output_type": "execute_result",
          "data": {
            "text/plain": [
              "20.833333333333332"
            ]
          },
          "metadata": {},
          "execution_count": 138
        }
      ]
    },
    {
      "cell_type": "markdown",
      "source": [
        "Challenge 009"
      ],
      "metadata": {
        "id": "XLJMk6BvonYQ"
      }
    },
    {
      "cell_type": "code",
      "source": [
        "x=int(input(\"Choose a random amount of days \"))\n",
        "H=24\n",
        "print(\"There are this amount of hours\")\n",
        "print(H*x)\n",
        "M=1440\n",
        "print(\"There are this many minutes\")\n",
        "print(M*x)\n",
        "S=86400\n",
        "print(\"There are this amount of seconds\")\n",
        "print(S*x)"
      ],
      "metadata": {
        "colab": {
          "base_uri": "https://localhost:8080/"
        },
        "id": "TNZ7SUo0o1DZ",
        "outputId": "f85da109-5037-4db0-bf62-90cdb03df780"
      },
      "execution_count": null,
      "outputs": [
        {
          "output_type": "stream",
          "name": "stdout",
          "text": [
            "Choose a random amount of days 1\n",
            "There are this amount of hours\n",
            "24\n",
            "There are this many minutes\n",
            "1440\n",
            "There are this amount of seconds\n",
            "86400\n"
          ]
        }
      ]
    },
    {
      "cell_type": "markdown",
      "source": [
        "challenge 010"
      ],
      "metadata": {
        "id": "IHQbC8CFt6XP"
      }
    },
    {
      "cell_type": "code",
      "source": [
        "x=int(input(\"Choose a random amount of kilograms \"))\n",
        "K=2204\n",
        "print(\"There are this many pounds in that amount of kilograms\")\n",
        "print(K*x)"
      ],
      "metadata": {
        "id": "Kbc0JQIyt8ki",
        "outputId": "d0d82cee-bec0-493a-df7a-feecddb85002",
        "colab": {
          "base_uri": "https://localhost:8080/"
        }
      },
      "execution_count": null,
      "outputs": [
        {
          "output_type": "stream",
          "name": "stdout",
          "text": [
            "Choose a random amount of kilograms 1\n",
            "There are this many pounds in that amount of kilograms\n",
            "2204\n"
          ]
        }
      ]
    },
    {
      "cell_type": "markdown",
      "source": [
        "Challenge 011"
      ],
      "metadata": {
        "id": "LuK2uryyu-XD"
      }
    },
    {
      "cell_type": "code",
      "source": [
        "x=int(input(\"Choose a number above 100 \"))\n",
        "y=int(input(\"Choose a number under 10 \"))\n",
        "print(\"That number under 10 goes in the number bigger than 100 this many times \")\n",
        "print(x//y)"
      ],
      "metadata": {
        "id": "DglgqkCqu90T",
        "outputId": "2812731e-d8c0-407d-fa08-921b6eb8de7e",
        "colab": {
          "base_uri": "https://localhost:8080/"
        }
      },
      "execution_count": null,
      "outputs": [
        {
          "output_type": "stream",
          "name": "stdout",
          "text": [
            "Choose a number above 100 110\n",
            "Choose a number under 10 9\n",
            "That number under 10 goes in the number bigger than 100 this many times \n",
            "12\n"
          ]
        }
      ]
    },
    {
      "cell_type": "markdown",
      "source": [
        "Lesson 1"
      ],
      "metadata": {
        "id": "MewJtRb7Fts6"
      }
    },
    {
      "cell_type": "code",
      "source": [
        "num1=90\n",
        "if num1>10:\n",
        "  print(\"This is over 10\")\n",
        "elif num1==10:\n",
        "  print(\"This is equal to 10\")\n",
        "else:\n",
        "  print(\"this is under 10\")"
      ],
      "metadata": {
        "id": "ZDaHDFoyFzAZ",
        "outputId": "c3e0b514-2926-4411-bd19-c2e9781da10b",
        "colab": {
          "base_uri": "https://localhost:8080/"
        }
      },
      "execution_count": null,
      "outputs": [
        {
          "output_type": "stream",
          "name": "stdout",
          "text": [
            "This is over 10\n"
          ]
        }
      ]
    },
    {
      "cell_type": "markdown",
      "source": [
        "Challenge 012"
      ],
      "metadata": {
        "id": "y3eD7FliKTRp"
      }
    },
    {
      "cell_type": "code",
      "source": [
        "n1=int(input(\"Please enter a number :\"))\n",
        "n2=int(input(\"Please enter a number :\"))\n",
        "if n1>n2:\n",
        "  print(n1,n2)\n",
        "elif n2>n1:\n",
        "  print(n2,n1)"
      ],
      "metadata": {
        "id": "R5mJqlerKVz1",
        "outputId": "d33a8b6a-5bcc-4ed1-d69e-2bd7e8bbfdcc",
        "colab": {
          "base_uri": "https://localhost:8080/"
        }
      },
      "execution_count": null,
      "outputs": [
        {
          "output_type": "stream",
          "name": "stdout",
          "text": [
            "Please enter a number :5\n",
            "Please enter a number :7\n",
            "7 5\n"
          ]
        }
      ]
    },
    {
      "cell_type": "markdown",
      "source": [
        "Challenge 013"
      ],
      "metadata": {
        "id": "lyiG_AydOkV9"
      }
    },
    {
      "cell_type": "code",
      "source": [
        "x=int(input(\"Please enter a number lower than 20 \"))\n",
        "y=20\n",
        "if x<y:\n",
        "  print(\"Thank you\")\n",
        "elif x>y:\n",
        "  print(\"Too high\")"
      ],
      "metadata": {
        "id": "XGymT83QOqPi",
        "outputId": "f59db386-787a-4b83-99bb-702c19a2d50c",
        "colab": {
          "base_uri": "https://localhost:8080/"
        }
      },
      "execution_count": null,
      "outputs": [
        {
          "output_type": "stream",
          "name": "stdout",
          "text": [
            "Please enter a number lower than 20 12\n",
            "Thank you\n"
          ]
        }
      ]
    },
    {
      "cell_type": "markdown",
      "source": [
        "Challenge 014"
      ],
      "metadata": {
        "id": "ATbkAsmGQ6yW"
      }
    },
    {
      "cell_type": "code",
      "source": [
        "x=int(input(\"Please enter number within a range of 10 and 20 \"))\n",
        "y=20\n",
        "z=10\n",
        "if x>y:\n",
        "  print(\"Incorrect answer\")\n",
        "elif z<x:\n",
        "  print(\"Thank you\")\n",
        "elif z<x>y:\n",
        "  print(\"Thank you\")\n",
        "elif z>x:\n",
        "  print(\"Incorrect answer\")"
      ],
      "metadata": {
        "id": "07_oFOY8Q-M8",
        "outputId": "fa536aa9-3477-486e-8e26-7b7845eed429",
        "colab": {
          "base_uri": "https://localhost:8080/"
        }
      },
      "execution_count": null,
      "outputs": [
        {
          "output_type": "stream",
          "name": "stdout",
          "text": [
            "Please enter number within a range of 10 and 20 12\n",
            "Thank you\n"
          ]
        }
      ]
    },
    {
      "cell_type": "markdown",
      "source": [
        "Challenge 015"
      ],
      "metadata": {
        "id": "hr_ef7hfTIuq"
      }
    },
    {
      "cell_type": "code",
      "source": [
        "colour=input(\"type your favourite colour: \")\n",
        "if colour==\"red\" or colour==\"RED\" or colour==\"Red\":\n",
        "  print(\"I like red too\")\n",
        "else:\n",
        "  print(\"I dont like that colour I prefer red\")\n"
      ],
      "metadata": {
        "id": "6UrHyDWRTaWZ",
        "outputId": "e4da2fa6-48c2-4d65-bdd2-0deb6cfbe7a3",
        "colab": {
          "base_uri": "https://localhost:8080/"
        }
      },
      "execution_count": 6,
      "outputs": [
        {
          "output_type": "stream",
          "name": "stdout",
          "text": [
            "type your favourite colour: green\n",
            "I dont like that colour I prefer red\n"
          ]
        }
      ]
    },
    {
      "cell_type": "markdown",
      "source": [
        "Challenge 016"
      ],
      "metadata": {
        "id": "Z6vGmZSO3sYb"
      }
    },
    {
      "cell_type": "code",
      "source": [
        "raining=input(\"is it raining? :\")\n",
        "raining=str.lower(raining)\n",
        "if raining==\"yes\":\n",
        "  windy=input(\"is it windy? \")\n",
        "  windy=str.lower(windy)\n",
        "  if windy==\"yes\":\n",
        "    print(\"It is too windy for an umbrella.\")\n",
        "  else:\n",
        "    print(\"Take an umbrella\")\n",
        "else:\n",
        "  print(\"Enjoy your day\")"
      ],
      "metadata": {
        "id": "gnmfrX4c3v5K",
        "outputId": "3efea628-daa4-41e4-c461-1652076f0b62",
        "colab": {
          "base_uri": "https://localhost:8080/"
        }
      },
      "execution_count": 2,
      "outputs": [
        {
          "output_type": "stream",
          "name": "stdout",
          "text": [
            "is it raining? :yes\n",
            "is it windy? no\n",
            "Take an umbrella\n"
          ]
        }
      ]
    },
    {
      "cell_type": "markdown",
      "source": [
        "Challenge 017"
      ],
      "metadata": {
        "id": "6wMke_NE9UPG"
      }
    },
    {
      "cell_type": "code",
      "source": [
        "age=int(input(\"What is your age? \"))\n",
        "if age>=18:\n",
        "  print(\"You can vote\")\n",
        "elif age==17:\n",
        "  print(\"You can learn how to drive\")\n",
        "elif age==16:\n",
        "  print(\"You can buy a lottery ticket\")\n",
        "else:\n",
        "  print(\"You can go trick or treating\")"
      ],
      "metadata": {
        "id": "HBUegjGo8NzI",
        "outputId": "adb37c4d-e8eb-4661-8853-04a9619c3300",
        "colab": {
          "base_uri": "https://localhost:8080/"
        }
      },
      "execution_count": 6,
      "outputs": [
        {
          "output_type": "stream",
          "name": "stdout",
          "text": [
            "What is your age? 18\n",
            "You can vote\n"
          ]
        }
      ]
    },
    {
      "cell_type": "markdown",
      "source": [
        "Challenge 018"
      ],
      "metadata": {
        "id": "5h0E4BHME8Wt"
      }
    },
    {
      "cell_type": "code",
      "source": [
        "num=int(input(\"Enter a number: \"))\n",
        "if num<10:\n",
        "  print(\"Too low\")\n",
        "elif num >=10 and num <=20:\n",
        "  print(\"Correct\")\n",
        "else:\n",
        "  print(\"Too high\")"
      ],
      "metadata": {
        "id": "q8aYfAfYE-XS",
        "outputId": "f4b79181-296b-4cda-c9e5-b70e0697b2d6",
        "colab": {
          "base_uri": "https://localhost:8080/"
        }
      },
      "execution_count": 9,
      "outputs": [
        {
          "output_type": "stream",
          "name": "stdout",
          "text": [
            "Enter a number: 19\n",
            "Correct\n"
          ]
        }
      ]
    },
    {
      "cell_type": "markdown",
      "source": [
        "Challenge 019"
      ],
      "metadata": {
        "id": "D0Rgik5jGkhP"
      }
    },
    {
      "cell_type": "code",
      "source": [
        "num= input(\"Enter 1,2 or 3 \")\n",
        "if num==\"1\":\n",
        "  print(\"Thank you\")\n",
        "elif num==\"2\":\n",
        "  print(\"Well done\")\n",
        "elif num==\"3\":\n",
        "  print(\"Correct\")\n",
        "else:\n",
        "  print(\"Error message\")"
      ],
      "metadata": {
        "id": "yesViDt7GmwI",
        "outputId": "12634d26-3a3a-41c0-b323-0300a5eabb78",
        "colab": {
          "base_uri": "https://localhost:8080/"
        }
      },
      "execution_count": 13,
      "outputs": [
        {
          "output_type": "stream",
          "name": "stdout",
          "text": [
            "Enter 1,2 or 3 3\n",
            "Correct\n"
          ]
        }
      ]
    }
  ]
}