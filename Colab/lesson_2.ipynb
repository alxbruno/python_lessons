{
  "nbformat": 4,
  "nbformat_minor": 0,
  "metadata": {
    "colab": {
      "provenance": [],
      "authorship_tag": "ABX9TyPb+l92yI/woPvkl2Mum142",
      "include_colab_link": true
    },
    "kernelspec": {
      "name": "python3",
      "display_name": "Python 3"
    },
    "language_info": {
      "name": "python"
    }
  },
  "cells": [
    {
      "cell_type": "markdown",
      "metadata": {
        "id": "view-in-github",
        "colab_type": "text"
      },
      "source": [
        "<a href=\"https://colab.research.google.com/github/alxbruno/python_lessons/blob/main/Colab/lesson_2.ipynb\" target=\"_parent\"><img src=\"https://colab.research.google.com/assets/colab-badge.svg\" alt=\"Open In Colab\"/></a>"
      ]
    },
    {
      "cell_type": "markdown",
      "source": [
        "**Python Variables**\n",
        "\n",
        "**Variables**\n",
        "Variables are containers for storing data values.\n",
        "\n",
        "**Creating Variables**\n",
        "Python has no command for declaring a variable.\n",
        "\n",
        "A variable is created the moment you first assign a value to it.\n",
        "\n"
      ],
      "metadata": {
        "id": "yM_kLz77Hgyt"
      }
    },
    {
      "cell_type": "code",
      "execution_count": null,
      "metadata": {
        "colab": {
          "base_uri": "https://localhost:8080/"
        },
        "id": "3Ac5wuwlHekH",
        "outputId": "041ecc5b-fbd6-4151-d4c8-1fce54c11ce5"
      },
      "outputs": [
        {
          "output_type": "stream",
          "name": "stdout",
          "text": [
            "5\n",
            "john\n"
          ]
        }
      ],
      "source": [
        "x=5\n",
        "y=\"john\"\n",
        "print(x)\n",
        "print(y)"
      ]
    },
    {
      "cell_type": "markdown",
      "source": [
        "Variables do not need to be declared with any particular type, and can even change type after they have been set."
      ],
      "metadata": {
        "id": "eUyVDJSnIA5H"
      }
    },
    {
      "cell_type": "code",
      "source": [
        "x=4   # x is of type int\n",
        "y=\"sally\" #x is now of str\n",
        "print(x)"
      ],
      "metadata": {
        "colab": {
          "base_uri": "https://localhost:8080/"
        },
        "id": "4c0FsoyCICLI",
        "outputId": "ddd9874b-b62c-4752-b3c6-e351e7fea992"
      },
      "execution_count": null,
      "outputs": [
        {
          "output_type": "stream",
          "name": "stdout",
          "text": [
            "4\n"
          ]
        }
      ]
    },
    {
      "cell_type": "markdown",
      "source": [
        "**Casting**\n",
        "\n",
        "If you want to specify the data type of a variable, this can be done with casting.\n",
        "\n"
      ],
      "metadata": {
        "id": "G_qLGhxGJGuY"
      }
    },
    {
      "cell_type": "code",
      "source": [
        "x=str (3)   # x will be '3'\n",
        "y=int (3)   # y will be  3\n",
        "z=float(3)  # z will be  3.0"
      ],
      "metadata": {
        "id": "hySYU07QJLUR"
      },
      "execution_count": null,
      "outputs": []
    },
    {
      "cell_type": "markdown",
      "source": [
        "**Get the Type**\n",
        "\n",
        "You can get the data type of a variable with the type() function.\n",
        "\n"
      ],
      "metadata": {
        "id": "cEin3o6RK_hy"
      }
    },
    {
      "cell_type": "code",
      "source": [
        "x=5\n",
        "y=\"john\"\n",
        "print(type(x))\n",
        "print(type(y))"
      ],
      "metadata": {
        "colab": {
          "base_uri": "https://localhost:8080/"
        },
        "id": "4f2xI6B-LClB",
        "outputId": "a6c7fa1f-6580-4eff-cafe-5e93f9f43b90"
      },
      "execution_count": null,
      "outputs": [
        {
          "output_type": "stream",
          "name": "stdout",
          "text": [
            "<class 'int'>\n",
            "<class 'str'>\n"
          ]
        }
      ]
    },
    {
      "cell_type": "markdown",
      "source": [
        "**Single or Double Quotes?**\n",
        "\n",
        "String variables can be declared either by using single or double quotes:\n",
        "\n"
      ],
      "metadata": {
        "id": "mLRfW7yELd5Q"
      }
    },
    {
      "cell_type": "code",
      "source": [
        "x=\"john\"\n",
        "# is the same as\n",
        "x='john'"
      ],
      "metadata": {
        "id": "Q3wRPJl2Lldg"
      },
      "execution_count": null,
      "outputs": []
    },
    {
      "cell_type": "markdown",
      "source": [
        "**Case-Sensitive**\n",
        "\n",
        "Variable names are case-sensitive.\n",
        "\n"
      ],
      "metadata": {
        "id": "l8Kp1wYlMG8y"
      }
    },
    {
      "cell_type": "code",
      "source": [
        "a=4\n",
        "A=\"sally\"\n",
        "#A will not overwrite a"
      ],
      "metadata": {
        "id": "3od0yAiKMLIU"
      },
      "execution_count": null,
      "outputs": []
    },
    {
      "cell_type": "markdown",
      "source": [
        "**Python - Variable Names**\n",
        "\n",
        "**variable names**\n",
        "A variable can have a short name (like x and y) or a more descriptive name (age, carname, total_volume). Rules for Python variables:\n",
        "A variable name must start with a letter or the underscore character\n",
        "A variable name cannot start with a number\n",
        "A variable name can only contain alpha-numeric characters and underscores (A-z, 0-9, and _ )\n",
        "Variable names are case-sensitive (age, Age and AGE are three different variables)\n",
        "A variable name cannot be any of the Python keywords.\n",
        "\n"
      ],
      "metadata": {
        "id": "zjOQ_PyFOnLo"
      }
    },
    {
      "cell_type": "code",
      "source": [
        "myvar=\"John\"\n",
        "my_var=\"John\"\n",
        "_my_var = \"John\"\n",
        "myVar = \"John\"\n",
        "MYVAR = \"John\"\n",
        "myvar2 = \"John\""
      ],
      "metadata": {
        "id": "QEqSHC2rN52m"
      },
      "execution_count": null,
      "outputs": []
    },
    {
      "cell_type": "markdown",
      "source": [
        "incorrect way"
      ],
      "metadata": {
        "id": "1rcV5OlkPIc2"
      }
    },
    {
      "cell_type": "code",
      "source": [
        "2myvar=\"john\"\n",
        "my-var = \"John\"\n",
        "my var = \"John\"\n"
      ],
      "metadata": {
        "id": "fMucuLhEOxAr",
        "outputId": "1d6b8c32-2981-45bb-8fbf-fea8c77add60",
        "colab": {
          "base_uri": "https://localhost:8080/",
          "height": 130
        }
      },
      "execution_count": null,
      "outputs": [
        {
          "output_type": "error",
          "ename": "SyntaxError",
          "evalue": "ignored",
          "traceback": [
            "\u001b[0;36m  File \u001b[0;32m\"<ipython-input-2-eb200b8af75c>\"\u001b[0;36m, line \u001b[0;32m1\u001b[0m\n\u001b[0;31m    2myvar=\"john\"\u001b[0m\n\u001b[0m    ^\u001b[0m\n\u001b[0;31mSyntaxError\u001b[0m\u001b[0;31m:\u001b[0m invalid decimal literal\n"
          ]
        }
      ]
    },
    {
      "cell_type": "markdown",
      "source": [
        "**Multi Words Variable Names**\n",
        "Variable names with more than one word can be difficult to read.\n",
        "\n",
        "There are several techniques you can use to make them more readable:\n",
        "\n",
        "**Camel Case**\n",
        "Each word, except the first, starts with a capital letter:"
      ],
      "metadata": {
        "id": "KeCg9SGWPSJ9"
      }
    },
    {
      "cell_type": "code",
      "source": [
        "myVariablename=\"John\""
      ],
      "metadata": {
        "id": "1kf2DZmlPUiO"
      },
      "execution_count": null,
      "outputs": []
    },
    {
      "cell_type": "markdown",
      "source": [
        "**Pascal Case**\n",
        "\n",
        "Each word starts with a capital letter:"
      ],
      "metadata": {
        "id": "0zNxp8J_Ph7U"
      }
    },
    {
      "cell_type": "code",
      "source": [
        "MyVariableName=\"John\""
      ],
      "metadata": {
        "id": "CyfUcLHLPycm"
      },
      "execution_count": null,
      "outputs": []
    },
    {
      "cell_type": "markdown",
      "source": [
        "**Snake Case**\n",
        "\n",
        "Each word is separated by an underscore character:"
      ],
      "metadata": {
        "id": "u_jo1X-gaQP-"
      }
    },
    {
      "cell_type": "code",
      "source": [
        "my_variable_name=\"John\""
      ],
      "metadata": {
        "id": "X7vQcllKagub"
      },
      "execution_count": null,
      "outputs": []
    },
    {
      "cell_type": "markdown",
      "source": [
        "**Python - Output Variables**\n",
        "\n",
        "**Output Variables**\n",
        "\n",
        "The Python print() function is often used to output variables."
      ],
      "metadata": {
        "id": "MAbNzvcx8LJC"
      }
    },
    {
      "cell_type": "code",
      "source": [
        "x=\"python is awsome\"\n",
        "print(x)"
      ],
      "metadata": {
        "id": "zboIGAS88VsJ",
        "outputId": "f5ec9ed8-2b11-4bf8-8161-e1d88a125253",
        "colab": {
          "base_uri": "https://localhost:8080/"
        }
      },
      "execution_count": 1,
      "outputs": [
        {
          "output_type": "stream",
          "name": "stdout",
          "text": [
            "python is awsome\n"
          ]
        }
      ]
    },
    {
      "cell_type": "markdown",
      "source": [
        "In the print() function, you output multiple variables, separated by a comma:"
      ],
      "metadata": {
        "id": "zI2EWHqG8kNy"
      }
    },
    {
      "cell_type": "code",
      "source": [
        "x=\"python\"\n",
        "y=\"is\"\n",
        "z=\"awsome\"\n",
        "print(x,y,z)"
      ],
      "metadata": {
        "id": "BBzkHso78nPR",
        "outputId": "acb62fbd-b852-4d36-bc3a-937428dd7913",
        "colab": {
          "base_uri": "https://localhost:8080/"
        }
      },
      "execution_count": 2,
      "outputs": [
        {
          "output_type": "stream",
          "name": "stdout",
          "text": [
            "python is awsome\n"
          ]
        }
      ]
    },
    {
      "cell_type": "markdown",
      "source": [
        "You can also use the + operator to output multiple variables:"
      ],
      "metadata": {
        "id": "W7q4TfgE88Ty"
      }
    },
    {
      "cell_type": "code",
      "source": [
        "x=\"python \"\n",
        "y=\"is \"\n",
        "z=\"awsome \"\n",
        "print(x+y+z)"
      ],
      "metadata": {
        "id": "lGxgUggr8-nc",
        "outputId": "040b1b49-b9e8-48b4-ecca-5cd33ef130ef",
        "colab": {
          "base_uri": "https://localhost:8080/"
        }
      },
      "execution_count": 4,
      "outputs": [
        {
          "output_type": "stream",
          "name": "stdout",
          "text": [
            "python is awsome \n"
          ]
        }
      ]
    },
    {
      "cell_type": "markdown",
      "source": [
        "Notice the space character after \"Python \" and \"is \", without them the result would be \"Pythonisawesome\"."
      ],
      "metadata": {
        "id": "jpdB6Agf9Wcd"
      }
    },
    {
      "cell_type": "markdown",
      "source": [
        "\n",
        "For numbers, the + character works as a mathematical operator:"
      ],
      "metadata": {
        "id": "PIUGn1Mn9YwA"
      }
    },
    {
      "cell_type": "code",
      "source": [
        "x=5\n",
        "y=10\n",
        "print(x+y)"
      ],
      "metadata": {
        "id": "Yp02sSRl9fOY",
        "outputId": "f5a65dad-3435-44d6-ad97-2157d1bc88bd",
        "colab": {
          "base_uri": "https://localhost:8080/"
        }
      },
      "execution_count": 5,
      "outputs": [
        {
          "output_type": "stream",
          "name": "stdout",
          "text": [
            "15\n"
          ]
        }
      ]
    },
    {
      "cell_type": "markdown",
      "source": [
        "In the print() function, when you try to combine a string and a number with the + operator, Python will give you an error:"
      ],
      "metadata": {
        "id": "itEDNkXg9pmg"
      }
    },
    {
      "cell_type": "markdown",
      "source": [
        "improper way is"
      ],
      "metadata": {
        "id": "yGsP3j6S9yVl"
      }
    },
    {
      "cell_type": "code",
      "source": [
        "x=5\n",
        "y=\"john\"\n",
        "print(x+y)"
      ],
      "metadata": {
        "id": "bAFvM4ty91zX"
      },
      "execution_count": null,
      "outputs": []
    },
    {
      "cell_type": "markdown",
      "source": [
        "The best way to output multiple variables in the print() function is to separate them with commas, which even support different data types:"
      ],
      "metadata": {
        "id": "8dpdu1ls9-gp"
      }
    },
    {
      "cell_type": "code",
      "source": [
        "x=5\n",
        "y=\"john\"\n",
        "print(x,y)"
      ],
      "metadata": {
        "id": "RWBtpfQh-Bp7",
        "outputId": "dfb30fc5-e8eb-4f18-cc9a-f687e811b9fb",
        "colab": {
          "base_uri": "https://localhost:8080/"
        }
      },
      "execution_count": 7,
      "outputs": [
        {
          "output_type": "stream",
          "name": "stdout",
          "text": [
            "5 john\n"
          ]
        }
      ]
    }
  ]
}