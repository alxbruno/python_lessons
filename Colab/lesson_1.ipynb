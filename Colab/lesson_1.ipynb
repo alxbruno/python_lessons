{
  "nbformat": 4,
  "nbformat_minor": 0,
  "metadata": {
    "colab": {
      "provenance": [],
      "authorship_tag": "ABX9TyPkBy/UemWWydUoIGv1fUup",
      "include_colab_link": true
    },
    "kernelspec": {
      "name": "python3",
      "display_name": "Python 3"
    },
    "language_info": {
      "name": "python"
    }
  },
  "cells": [
    {
      "cell_type": "markdown",
      "metadata": {
        "id": "view-in-github",
        "colab_type": "text"
      },
      "source": [
        "<a href=\"https://colab.research.google.com/github/alxbruno/python_lessons/blob/main/Colab/lesson_1.ipynb\" target=\"_parent\"><img src=\"https://colab.research.google.com/assets/colab-badge.svg\" alt=\"Open In Colab\"/></a>"
      ]
    },
    {
      "cell_type": "markdown",
      "source": [
        "This lesson belongs to the W3School - Python course -> https://www.w3schools.com/python/\n",
        "\n",
        "**Python Syntax**\n",
        "\n",
        "As we learned in the previous page, Python syntax can be executed by writing directly in the Command Line:"
      ],
      "metadata": {
        "id": "QKWMqMrHhD-E"
      }
    },
    {
      "cell_type": "code",
      "execution_count": 5,
      "metadata": {
        "id": "mejFSaNlaPwY",
        "colab": {
          "base_uri": "https://localhost:8080/"
        },
        "outputId": "0a84e854-b421-4dfa-b499-7d48c0205460"
      },
      "outputs": [
        {
          "output_type": "stream",
          "name": "stdout",
          "text": [
            "hello world!\n"
          ]
        }
      ],
      "source": [
        "print('hello world!')"
      ]
    },
    {
      "cell_type": "markdown",
      "source": [
        "**Python Indentation**\n",
        "\n",
        "Indentation refers to the spaces at the beginning of a code line.\n",
        "\n",
        "Where in other programming languages the indentation in code is for readability only, the indentation in Python is very important.\n",
        "\n",
        "Python uses indentation to indicate a block of code."
      ],
      "metadata": {
        "id": "y7RioHfTjgkB"
      }
    },
    {
      "cell_type": "code",
      "source": [
        "if 5>2:\n",
        "  print(\"five is greater than 2\")"
      ],
      "metadata": {
        "id": "9mDgsEkgjyhp"
      },
      "execution_count": 9,
      "outputs": []
    },
    {
      "cell_type": "markdown",
      "source": [
        "Python will give you an error if you skip the indentation:"
      ],
      "metadata": {
        "id": "-kqc6Mapk59Q"
      }
    },
    {
      "cell_type": "code",
      "source": [
        "if 5>2:\n",
        "print(\"five is greater than two\")"
      ],
      "metadata": {
        "colab": {
          "base_uri": "https://localhost:8080/",
          "height": 130
        },
        "id": "XRe0FZoilU9C",
        "outputId": "cce47214-b95f-4737-aa8d-2400ce3ee347"
      },
      "execution_count": 11,
      "outputs": [
        {
          "output_type": "error",
          "ename": "IndentationError",
          "evalue": "ignored",
          "traceback": [
            "\u001b[0;36m  File \u001b[0;32m\"<ipython-input-11-8c576a6b42b2>\"\u001b[0;36m, line \u001b[0;32m2\u001b[0m\n\u001b[0;31m    print(\"five is greater than two\")\u001b[0m\n\u001b[0m    ^\u001b[0m\n\u001b[0;31mIndentationError\u001b[0m\u001b[0;31m:\u001b[0m expected an indented block after 'if' statement on line 1\n"
          ]
        }
      ]
    },
    {
      "cell_type": "markdown",
      "source": [
        "The number of spaces is up to you as a programmer, the most common use is four, but it has to be at least one.\n",
        "\n"
      ],
      "metadata": {
        "id": "RlxOphs9lu-o"
      }
    },
    {
      "cell_type": "code",
      "source": [
        "if 5>2:\n",
        "  print(\"usando 1 tab\")\n",
        "    \n",
        "if 4<20:\n",
        "    print(\"usando 2 tabs\")\n",
        " \n"
      ],
      "metadata": {
        "colab": {
          "base_uri": "https://localhost:8080/"
        },
        "id": "YPq9LQ9RluK2",
        "outputId": "ac25cda8-cf53-40c6-f662-7a5ddd6e4ae7"
      },
      "execution_count": 14,
      "outputs": [
        {
          "output_type": "stream",
          "name": "stdout",
          "text": [
            "usando 1 tab\n",
            "usando 2 tabs\n"
          ]
        }
      ]
    },
    {
      "cell_type": "markdown",
      "source": [
        "**Python Comments**\n",
        "\n",
        "Comments can be used to explain Python code.\n",
        "\n",
        "Comments can be used to make the code more readable.\n",
        "\n",
        "Comments can be used to prevent execution when testing code.\n",
        "\n",
        "**Creating a Comment**\n",
        "\n",
        "Comments starts with a `#`, and Python will ignore them:"
      ],
      "metadata": {
        "id": "vWe6gMWynwrU"
      }
    },
    {
      "cell_type": "code",
      "source": [
        "#this is a comment\n",
        "\n",
        "print(\"hello world\")"
      ],
      "metadata": {
        "id": "BHuewr5XoaUX",
        "outputId": "f6f4ae76-18a0-4913-9051-d586f9f86f01",
        "colab": {
          "base_uri": "https://localhost:8080/"
        }
      },
      "execution_count": 18,
      "outputs": [
        {
          "output_type": "stream",
          "name": "stdout",
          "text": [
            "hello world\n"
          ]
        }
      ]
    },
    {
      "cell_type": "markdown",
      "source": [
        "Comments can be placed at the end of a line, and Python will ignore the rest of the line:\n",
        "\n"
      ],
      "metadata": {
        "id": "PtZk3g-vpsUI"
      }
    },
    {
      "cell_type": "code",
      "source": [
        "print(\"hello world!\")#this is a comment"
      ],
      "metadata": {
        "id": "qwY1z1SvpuFu",
        "outputId": "3eb08959-d7ae-498b-c0eb-1762652d6d43",
        "colab": {
          "base_uri": "https://localhost:8080/"
        }
      },
      "execution_count": 20,
      "outputs": [
        {
          "output_type": "stream",
          "name": "stdout",
          "text": [
            "hello world!\n"
          ]
        }
      ]
    },
    {
      "cell_type": "markdown",
      "source": [
        "A comment does not have to be text that explains the code, it can also be used to prevent Python from executing code:\n",
        "\n"
      ],
      "metadata": {
        "id": "ORDkbjbLp-Z7"
      }
    },
    {
      "cell_type": "code",
      "source": [
        "#print(\"hello, world!\")\n",
        "print(\"cheers, mate\")"
      ],
      "metadata": {
        "id": "-tDq_WVwqCf1",
        "outputId": "da7de779-f067-4995-a0d3-65c954315335",
        "colab": {
          "base_uri": "https://localhost:8080/"
        }
      },
      "execution_count": 23,
      "outputs": [
        {
          "output_type": "stream",
          "name": "stdout",
          "text": [
            "cheers, mate\n"
          ]
        }
      ]
    },
    {
      "cell_type": "markdown",
      "source": [
        "**Multiline Comments**\n",
        "\n",
        "Python does not really have a syntax for multiline comments.\n",
        "\n",
        "To add a multiline comment you could insert a # for each line:"
      ],
      "metadata": {
        "id": "67yHQ0nYqwws"
      }
    },
    {
      "cell_type": "code",
      "source": [
        "#this is a comment line 1\n",
        "#this is a comment line 2\n",
        "#this is a comment line 3\n",
        "print(\"hello world!\")"
      ],
      "metadata": {
        "id": "5opkH0VAq6yO",
        "outputId": "9357b8f8-258b-4fb0-9a9e-671f924d0b0d",
        "colab": {
          "base_uri": "https://localhost:8080/"
        }
      },
      "execution_count": 24,
      "outputs": [
        {
          "output_type": "stream",
          "name": "stdout",
          "text": [
            "hello world!\n"
          ]
        }
      ]
    },
    {
      "cell_type": "markdown",
      "source": [
        "Or, not quite as intended, you can use a multiline string.\n",
        "\n",
        "Since Python will ignore string literals that are not assigned to a variable, you can add a multiline string (triple quotes) in your code, and place your comment inside it:"
      ],
      "metadata": {
        "id": "PtAlvhrerRHA"
      }
    },
    {
      "cell_type": "code",
      "source": [
        "\"\"\"\n",
        "this is a comment line 1\n",
        "this is a comment line 2\n",
        "this is a comment line 3\n",
        "\"\"\"\n",
        "print(\"hello world!\")"
      ],
      "metadata": {
        "id": "BSh1piwurVfr",
        "outputId": "26ae4c48-ea30-49ed-fb4a-464de53419d1",
        "colab": {
          "base_uri": "https://localhost:8080/"
        }
      },
      "execution_count": 25,
      "outputs": [
        {
          "output_type": "stream",
          "name": "stdout",
          "text": [
            "hello world!\n"
          ]
        }
      ]
    },
    {
      "cell_type": "markdown",
      "source": [
        "As long as the string is not assigned to a variable, Python will read the code, but then ignore it, and you have made a multiline comment.\n",
        "\n"
      ],
      "metadata": {
        "id": "7-OmI-JEr0Z_"
      }
    }
  ]
}