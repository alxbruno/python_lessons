{
  "nbformat": 4,
  "nbformat_minor": 0,
  "metadata": {
    "colab": {
      "provenance": [],
      "authorship_tag": "ABX9TyOr+AHpexyZbUxOow39yXsy",
      "include_colab_link": true
    },
    "kernelspec": {
      "name": "python3",
      "display_name": "Python 3"
    },
    "language_info": {
      "name": "python"
    }
  },
  "cells": [
    {
      "cell_type": "markdown",
      "metadata": {
        "id": "view-in-github",
        "colab_type": "text"
      },
      "source": [
        "<a href=\"https://colab.research.google.com/github/alxbruno/python_lessons/blob/main/Colab/challenges01.ipynb\" target=\"_parent\"><img src=\"https://colab.research.google.com/assets/colab-badge.svg\" alt=\"Open In Colab\"/></a>"
      ]
    },
    {
      "cell_type": "markdown",
      "source": [
        "Challenge 001"
      ],
      "metadata": {
        "id": "7eiiXc-GqnbU"
      }
    },
    {
      "cell_type": "code",
      "execution_count": 32,
      "metadata": {
        "id": "taNmfnq4qM7j",
        "colab": {
          "base_uri": "https://localhost:8080/"
        },
        "outputId": "1678b5b1-d70d-4757-dbe5-99bc8642a7c8"
      },
      "outputs": [
        {
          "output_type": "stream",
          "name": "stdout",
          "text": [
            "Enter first name and surname: Alex Bruno\n",
            "Hello Alex Bruno\n"
          ]
        }
      ],
      "source": [
        "x=input(\"Enter username: \")\n",
        "y=\"Hello \"\n",
        "print(y+x)\n",
        "\n"
      ]
    },
    {
      "cell_type": "code",
      "execution_count": 30,
      "metadata": {
        "outputId": "e08e46be-c294-41ab-8b43-eadf2dd2e2d5",
        "colab": {
          "base_uri": "https://localhost:8080/"
        },
        "id": "QsLMLUdO3I0L"
      },
      "outputs": [
        {
          "output_type": "stream",
          "name": "stdout",
          "text": [
            "Enter username: zaza\n",
            "Hello zaza\n"
          ]
        }
      ],
      "source": [
        "x=input(\"Enter username: \")\n",
        "print(\"Hello \"+x)\n",
        "\n"
      ]
    },
    {
      "cell_type": "markdown",
      "source": [
        "Challenge 002"
      ],
      "metadata": {
        "id": "YSK7pclS-CX6"
      }
    },
    {
      "cell_type": "code",
      "source": [
        "x=input(\"What is your first name: \")\n",
        "y=input(\"what is your surname: \")\n",
        "print(\"Hello \" + x + \" \" + y)"
      ],
      "metadata": {
        "colab": {
          "base_uri": "https://localhost:8080/"
        },
        "id": "FG_U9Ak2-E1R",
        "outputId": "c5918cce-0d14-4c07-8867-56dc4aaeb072"
      },
      "execution_count": 37,
      "outputs": [
        {
          "output_type": "stream",
          "name": "stdout",
          "text": [
            "What is your first name: Alex\n",
            "what is your surname: Bruno\n",
            "Hello Alex Bruno\n"
          ]
        }
      ]
    },
    {
      "cell_type": "markdown",
      "source": [
        "Challenge 003"
      ],
      "metadata": {
        "id": "yhKRS2KU_4IJ"
      }
    },
    {
      "cell_type": "code",
      "source": [
        "print(\"what do you call a bear with no teeth \\n a gummy bear!\")"
      ],
      "metadata": {
        "id": "I1t3_cGnAGek",
        "outputId": "8ff38b66-f380-4603-fb0b-d53ff5486ca1",
        "colab": {
          "base_uri": "https://localhost:8080/"
        }
      },
      "execution_count": 45,
      "outputs": [
        {
          "output_type": "stream",
          "name": "stdout",
          "text": [
            "what do you call a bear with no teeth \n",
            " a gummy bear!\n"
          ]
        }
      ]
    }
  ]
}