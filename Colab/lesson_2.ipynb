{
  "nbformat": 4,
  "nbformat_minor": 0,
  "metadata": {
    "colab": {
      "provenance": [],
      "authorship_tag": "ABX9TyNhY7aQCOuS25l4yS5MhMdb",
      "include_colab_link": true
    },
    "kernelspec": {
      "name": "python3",
      "display_name": "Python 3"
    },
    "language_info": {
      "name": "python"
    }
  },
  "cells": [
    {
      "cell_type": "markdown",
      "metadata": {
        "id": "view-in-github",
        "colab_type": "text"
      },
      "source": [
        "<a href=\"https://colab.research.google.com/github/alxbruno/python_lessons/blob/main/Colab/lesson_2.ipynb\" target=\"_parent\"><img src=\"https://colab.research.google.com/assets/colab-badge.svg\" alt=\"Open In Colab\"/></a>"
      ]
    },
    {
      "cell_type": "markdown",
      "source": [
        "**Python Variables**\n",
        "\n",
        "**Variables**\n",
        "Variables are containers for storing data values.\n",
        "\n",
        "**Creating Variables**\n",
        "Python has no command for declaring a variable.\n",
        "\n",
        "A variable is created the moment you first assign a value to it.\n",
        "\n",
        "I created a variable called x and I put 5 in x\n",
        "\n"
      ],
      "metadata": {
        "id": "yM_kLz77Hgyt"
      }
    },
    {
      "cell_type": "code",
      "execution_count": null,
      "metadata": {
        "colab": {
          "base_uri": "https://localhost:8080/"
        },
        "id": "3Ac5wuwlHekH",
        "outputId": "041ecc5b-fbd6-4151-d4c8-1fce54c11ce5"
      },
      "outputs": [
        {
          "output_type": "stream",
          "name": "stdout",
          "text": [
            "5\n",
            "john\n"
          ]
        }
      ],
      "source": [
        "x=5\n",
        "y=\"john\"\n",
        "print(x)\n",
        "print(y)"
      ]
    },
    {
      "cell_type": "markdown",
      "source": [
        "Variables do not need to be declared with any particular type, and can even change type after they have been set."
      ],
      "metadata": {
        "id": "eUyVDJSnIA5H"
      }
    },
    {
      "cell_type": "code",
      "source": [
        "x=4   # x is of type int\n",
        "y=\"sally\" #x is now of str\n",
        "print(x)"
      ],
      "metadata": {
        "colab": {
          "base_uri": "https://localhost:8080/"
        },
        "id": "4c0FsoyCICLI",
        "outputId": "ddd9874b-b62c-4752-b3c6-e351e7fea992"
      },
      "execution_count": null,
      "outputs": [
        {
          "output_type": "stream",
          "name": "stdout",
          "text": [
            "4\n"
          ]
        }
      ]
    },
    {
      "cell_type": "markdown",
      "source": [
        "**Casting**\n",
        "\n",
        "If you want to specify the data type of a variable, this can be done with casting.\n",
        "\n"
      ],
      "metadata": {
        "id": "G_qLGhxGJGuY"
      }
    },
    {
      "cell_type": "code",
      "source": [
        "x=str (3)   # x will be '3'\n",
        "y=int (3)   # y will be  3\n",
        "z=float(3)  # z will be  3.0"
      ],
      "metadata": {
        "id": "hySYU07QJLUR"
      },
      "execution_count": null,
      "outputs": []
    },
    {
      "cell_type": "markdown",
      "source": [
        "**Get the Type**\n",
        "\n",
        "You can get the data type of a variable with the type() function.\n",
        "\n"
      ],
      "metadata": {
        "id": "cEin3o6RK_hy"
      }
    },
    {
      "cell_type": "code",
      "source": [
        "x=5\n",
        "y=\"john\"\n",
        "print(type(x))\n",
        "print(type(y))"
      ],
      "metadata": {
        "colab": {
          "base_uri": "https://localhost:8080/"
        },
        "id": "4f2xI6B-LClB",
        "outputId": "a6c7fa1f-6580-4eff-cafe-5e93f9f43b90"
      },
      "execution_count": null,
      "outputs": [
        {
          "output_type": "stream",
          "name": "stdout",
          "text": [
            "<class 'int'>\n",
            "<class 'str'>\n"
          ]
        }
      ]
    },
    {
      "cell_type": "markdown",
      "source": [
        "**Single or Double Quotes?**\n",
        "\n",
        "String variables can be declared either by using single or double quotes:\n",
        "\n"
      ],
      "metadata": {
        "id": "mLRfW7yELd5Q"
      }
    },
    {
      "cell_type": "code",
      "source": [
        "x=\"john\"\n",
        "# is the same as\n",
        "x='john'"
      ],
      "metadata": {
        "id": "Q3wRPJl2Lldg"
      },
      "execution_count": null,
      "outputs": []
    },
    {
      "cell_type": "markdown",
      "source": [
        "**Case-Sensitive**\n",
        "\n",
        "Variable names are case-sensitive.\n",
        "\n"
      ],
      "metadata": {
        "id": "l8Kp1wYlMG8y"
      }
    },
    {
      "cell_type": "code",
      "source": [
        "a=4\n",
        "A=\"sally\"\n",
        "#A will not overwrite a"
      ],
      "metadata": {
        "id": "3od0yAiKMLIU"
      },
      "execution_count": null,
      "outputs": []
    },
    {
      "cell_type": "markdown",
      "source": [
        "**Python - Variable Names**\n",
        "\n",
        "**variable names**\n",
        "A variable can have a short name (like x and y) or a more descriptive name (age, carname, total_volume). Rules for Python variables:\n",
        "A variable name must start with a letter or the underscore character\n",
        "A variable name cannot start with a number\n",
        "A variable name can only contain alpha-numeric characters and underscores (A-z, 0-9, and _ )\n",
        "Variable names are case-sensitive (age, Age and AGE are three different variables)\n",
        "A variable name cannot be any of the Python keywords.\n",
        "\n"
      ],
      "metadata": {
        "id": "zjOQ_PyFOnLo"
      }
    },
    {
      "cell_type": "code",
      "source": [
        "myvar=\"John\"\n",
        "my_var=\"John\"\n",
        "_my_var = \"John\"\n",
        "myVar = \"John\"\n",
        "MYVAR = \"John\"\n",
        "myvar2 = \"John\""
      ],
      "metadata": {
        "id": "QEqSHC2rN52m"
      },
      "execution_count": null,
      "outputs": []
    },
    {
      "cell_type": "markdown",
      "source": [
        "incorrect way"
      ],
      "metadata": {
        "id": "1rcV5OlkPIc2"
      }
    },
    {
      "cell_type": "code",
      "source": [
        "2myvar=\"john\"\n",
        "my-var = \"John\"\n",
        "my var = \"John\"\n"
      ],
      "metadata": {
        "id": "fMucuLhEOxAr",
        "outputId": "1d6b8c32-2981-45bb-8fbf-fea8c77add60",
        "colab": {
          "base_uri": "https://localhost:8080/",
          "height": 130
        }
      },
      "execution_count": null,
      "outputs": [
        {
          "output_type": "error",
          "ename": "SyntaxError",
          "evalue": "ignored",
          "traceback": [
            "\u001b[0;36m  File \u001b[0;32m\"<ipython-input-2-eb200b8af75c>\"\u001b[0;36m, line \u001b[0;32m1\u001b[0m\n\u001b[0;31m    2myvar=\"john\"\u001b[0m\n\u001b[0m    ^\u001b[0m\n\u001b[0;31mSyntaxError\u001b[0m\u001b[0;31m:\u001b[0m invalid decimal literal\n"
          ]
        }
      ]
    },
    {
      "cell_type": "markdown",
      "source": [
        "**Multi Words Variable Names**\n",
        "Variable names with more than one word can be difficult to read.\n",
        "\n",
        "There are several techniques you can use to make them more readable:\n",
        "\n",
        "**Camel Case**\n",
        "Each word, except the first, starts with a capital letter:"
      ],
      "metadata": {
        "id": "KeCg9SGWPSJ9"
      }
    },
    {
      "cell_type": "code",
      "source": [
        "myVariablename=\"John\""
      ],
      "metadata": {
        "id": "1kf2DZmlPUiO"
      },
      "execution_count": null,
      "outputs": []
    },
    {
      "cell_type": "markdown",
      "source": [
        "**Pascal Case**\n",
        "\n",
        "Each word starts with a capital letter:"
      ],
      "metadata": {
        "id": "0zNxp8J_Ph7U"
      }
    },
    {
      "cell_type": "code",
      "source": [
        "MyVariableName=\"John\""
      ],
      "metadata": {
        "id": "CyfUcLHLPycm"
      },
      "execution_count": null,
      "outputs": []
    },
    {
      "cell_type": "markdown",
      "source": [
        "**Snake Case**\n",
        "\n",
        "Each word is separated by an underscore character:"
      ],
      "metadata": {
        "id": "u_jo1X-gaQP-"
      }
    },
    {
      "cell_type": "code",
      "source": [
        "my_variable_name=\"John\""
      ],
      "metadata": {
        "id": "X7vQcllKagub"
      },
      "execution_count": null,
      "outputs": []
    },
    {
      "cell_type": "markdown",
      "source": [
        "**Python - Output Variables**\n",
        "\n",
        "**Output Variables**\n",
        "\n",
        "The Python print() function is often used to output variables."
      ],
      "metadata": {
        "id": "MAbNzvcx8LJC"
      }
    },
    {
      "cell_type": "code",
      "source": [
        "x=\"python is awsome\"\n",
        "print(x)"
      ],
      "metadata": {
        "id": "zboIGAS88VsJ",
        "outputId": "f5ec9ed8-2b11-4bf8-8161-e1d88a125253",
        "colab": {
          "base_uri": "https://localhost:8080/"
        }
      },
      "execution_count": null,
      "outputs": [
        {
          "output_type": "stream",
          "name": "stdout",
          "text": [
            "python is awsome\n"
          ]
        }
      ]
    },
    {
      "cell_type": "markdown",
      "source": [
        "In the print() function, you output multiple variables, separated by a comma:"
      ],
      "metadata": {
        "id": "zI2EWHqG8kNy"
      }
    },
    {
      "cell_type": "code",
      "source": [
        "x=\"python\"\n",
        "y=\"is\"\n",
        "z=\"awsome\"\n",
        "print(x,y,z)"
      ],
      "metadata": {
        "id": "BBzkHso78nPR",
        "outputId": "acb62fbd-b852-4d36-bc3a-937428dd7913",
        "colab": {
          "base_uri": "https://localhost:8080/"
        }
      },
      "execution_count": null,
      "outputs": [
        {
          "output_type": "stream",
          "name": "stdout",
          "text": [
            "python is awsome\n"
          ]
        }
      ]
    },
    {
      "cell_type": "markdown",
      "source": [
        "You can also use the + operator to output multiple variables:"
      ],
      "metadata": {
        "id": "W7q4TfgE88Ty"
      }
    },
    {
      "cell_type": "code",
      "source": [
        "x=\"python \"\n",
        "y=\"is \"\n",
        "z=\"awsome \"\n",
        "print(x+y+z)"
      ],
      "metadata": {
        "id": "lGxgUggr8-nc",
        "outputId": "040b1b49-b9e8-48b4-ecca-5cd33ef130ef",
        "colab": {
          "base_uri": "https://localhost:8080/"
        }
      },
      "execution_count": null,
      "outputs": [
        {
          "output_type": "stream",
          "name": "stdout",
          "text": [
            "python is awsome \n"
          ]
        }
      ]
    },
    {
      "cell_type": "markdown",
      "source": [
        "Notice the space character after \"Python \" and \"is \", without them the result would be \"Pythonisawesome\"."
      ],
      "metadata": {
        "id": "jpdB6Agf9Wcd"
      }
    },
    {
      "cell_type": "markdown",
      "source": [
        "\n",
        "For numbers, the + character works as a mathematical operator:"
      ],
      "metadata": {
        "id": "PIUGn1Mn9YwA"
      }
    },
    {
      "cell_type": "code",
      "source": [
        "x=5\n",
        "y=10\n",
        "print(x+y)"
      ],
      "metadata": {
        "id": "Yp02sSRl9fOY",
        "outputId": "f5a65dad-3435-44d6-ad97-2157d1bc88bd",
        "colab": {
          "base_uri": "https://localhost:8080/"
        }
      },
      "execution_count": null,
      "outputs": [
        {
          "output_type": "stream",
          "name": "stdout",
          "text": [
            "15\n"
          ]
        }
      ]
    },
    {
      "cell_type": "markdown",
      "source": [
        "In the print() function, when you try to combine a string and a number with the + operator, Python will give you an error:"
      ],
      "metadata": {
        "id": "itEDNkXg9pmg"
      }
    },
    {
      "cell_type": "markdown",
      "source": [
        "improper way is"
      ],
      "metadata": {
        "id": "yGsP3j6S9yVl"
      }
    },
    {
      "cell_type": "code",
      "source": [
        "x=5\n",
        "y=\"john\"\n",
        "print(x+y)"
      ],
      "metadata": {
        "id": "bAFvM4ty91zX"
      },
      "execution_count": null,
      "outputs": []
    },
    {
      "cell_type": "markdown",
      "source": [
        "The best way to output multiple variables in the print() function is to separate them with commas, which even support different data types:"
      ],
      "metadata": {
        "id": "8dpdu1ls9-gp"
      }
    },
    {
      "cell_type": "code",
      "source": [
        "x=5\n",
        "y=\"john\"\n",
        "print(x,y)"
      ],
      "metadata": {
        "id": "RWBtpfQh-Bp7",
        "outputId": "dfb30fc5-e8eb-4f18-cc9a-f687e811b9fb",
        "colab": {
          "base_uri": "https://localhost:8080/"
        }
      },
      "execution_count": null,
      "outputs": [
        {
          "output_type": "stream",
          "name": "stdout",
          "text": [
            "5 john\n"
          ]
        }
      ]
    },
    {
      "cell_type": "markdown",
      "source": [
        "**Python - Global Variables**\n",
        "\n",
        "**Global Variables**\n",
        "Variables that are created outside of a function (as in all of the examples above) are known as global variables.\n",
        "\n",
        "Global variables can be used by everyone, both inside of functions and outside.\n",
        "\n"
      ],
      "metadata": {
        "id": "MUrT38nzpsP4"
      }
    },
    {
      "cell_type": "code",
      "source": [
        "# x is a global variable\n",
        "x=\"awsome\"\n",
        "\n",
        "\n",
        "def aba():\n",
        "    global y\n",
        "    y = \"smart\"\n",
        "    print(\"Alex is \"+ x )\n",
        "    #print(\"Alex is \" + z)\n",
        "    print(\"Alex is \" + y)\n",
        "\n",
        "\n",
        "aba()\n",
        "print(x)\n",
        "\n",
        "\n",
        "\n",
        "def ila():\n",
        "    # z is a local variable\n",
        "    z = \"beatiful\"\n",
        "    x = \"ugly\"\n",
        "    print(\"Igor is \" + x)\n",
        "    print(z)\n",
        "    print(\"Igor is \" + z)\n",
        "    print(\"Igor is also \" + y)\n",
        "\n",
        "\n",
        "#print(z)\n",
        "ila()\n",
        "print(x)\n",
        "print(y)"
      ],
      "metadata": {
        "id": "JRwVr_v8pyh2",
        "outputId": "bdca7486-f3e5-45fc-bc95-89252eb01816",
        "colab": {
          "base_uri": "https://localhost:8080/"
        }
      },
      "execution_count": null,
      "outputs": [
        {
          "output_type": "stream",
          "name": "stdout",
          "text": [
            "Alex is awsome\n",
            "Alex is smart\n",
            "awsome\n",
            "Igor is ugly\n",
            "beatiful\n",
            "Igor is beatiful\n",
            "Igor is also smart\n",
            "awsome\n",
            "smart\n"
          ]
        }
      ]
    },
    {
      "cell_type": "markdown",
      "source": [
        "If you create a variable with the same name inside a function, this variable will be local, and can only be used inside the function. The global variable with the same name will remain as it was, global and with the original value."
      ],
      "metadata": {
        "id": "cVpYzUAUqvdy"
      }
    },
    {
      "cell_type": "code",
      "source": [
        "x = \"awesome\"\n",
        "\n",
        "def myfunc():\n",
        "  x = \"fantastic\"\n",
        "  print(\"Python is \" + x)\n",
        "\n",
        "myfunc()\n",
        "\n",
        "print(\"Python is \" + x)"
      ],
      "metadata": {
        "id": "AktEX0LFq0ld",
        "outputId": "5bce81b1-2659-489a-882e-7e336770f7eb",
        "colab": {
          "base_uri": "https://localhost:8080/"
        }
      },
      "execution_count": null,
      "outputs": [
        {
          "output_type": "stream",
          "name": "stdout",
          "text": [
            "Python is fantastic\n",
            "Python is awesome\n"
          ]
        }
      ]
    },
    {
      "cell_type": "markdown",
      "source": [
        "**The global Keyword**\n",
        "\n",
        "Normally, when you create a variable inside a function, that variable is local, and can only be used inside that function.\n",
        "\n",
        "To create a global variable inside a function, you can use the global keyword."
      ],
      "metadata": {
        "id": "yBipj39DrFk0"
      }
    },
    {
      "cell_type": "code",
      "source": [
        "def myfunc():\n",
        "  global x\n",
        "  x = \"fantastic\"\n",
        "\n",
        "myfunc()\n",
        "\n",
        "print(\"Python is \" + x)"
      ],
      "metadata": {
        "id": "s1BqriMYrP4G",
        "outputId": "3d34ab63-9ab7-4856-dfff-d78a5c64c09a",
        "colab": {
          "base_uri": "https://localhost:8080/"
        }
      },
      "execution_count": null,
      "outputs": [
        {
          "output_type": "stream",
          "name": "stdout",
          "text": [
            "Python is fantastic\n"
          ]
        }
      ]
    },
    {
      "cell_type": "markdown",
      "source": [
        "Also, use the global keyword if you want to change a global variable inside a function."
      ],
      "metadata": {
        "id": "czvZvr0crhdT"
      }
    },
    {
      "cell_type": "code",
      "source": [
        "x=\"awsome\"\n",
        "\n",
        "\n",
        "def myfunc():\n",
        "  global x\n",
        "  x=\"fantastic\"\n",
        "\n",
        "\n",
        "myfunc()\n",
        "\n",
        "print(\"python is \"+x)"
      ],
      "metadata": {
        "id": "8eMsNhadrkmN",
        "outputId": "1f25212e-e552-4820-ad3f-fcc91b5bc1e3",
        "colab": {
          "base_uri": "https://localhost:8080/"
        }
      },
      "execution_count": null,
      "outputs": [
        {
          "output_type": "stream",
          "name": "stdout",
          "text": [
            "python is fantastic\n"
          ]
        }
      ]
    },
    {
      "cell_type": "markdown",
      "source": [
        "***Python Data Types***"
      ],
      "metadata": {
        "id": "YOJi276M90-1"
      }
    },
    {
      "cell_type": "markdown",
      "source": [
        "**Built-in Data Types**\n",
        "\n",
        "In programming, data type is an important concept.\n",
        "\n",
        "Variables can store data of different types, and different types can do different things.\n",
        "\n",
        "Python has the following data types built-in by default, in these categories:\n",
        "\n",
        "Text Type:\tstr\n",
        "Numeric Types:\tint, float, complex\n",
        "Sequence Types:\tlist, tuple, range\n",
        "Mapping Type:\tdict\n",
        "Set Types:\tset, frozenset\n",
        "Boolean Type:\tbool\n",
        "Binary Types:\tbytes, bytearray, memoryview\n",
        "None Type:\tNoneType"
      ],
      "metadata": {
        "id": "2NB74cf9-Hnc"
      }
    },
    {
      "cell_type": "markdown",
      "source": [
        "**Getting the Data Type**\n",
        "\n",
        "You can get the data type of any object by using the type() function:"
      ],
      "metadata": {
        "id": "YC9fwJty-KgX"
      }
    },
    {
      "cell_type": "code",
      "source": [
        "x=5\n",
        "print(type(x))"
      ],
      "metadata": {
        "colab": {
          "base_uri": "https://localhost:8080/"
        },
        "id": "NMpZIzOM-OiA",
        "outputId": "45895989-2b65-4491-b496-72507562f2bd"
      },
      "execution_count": null,
      "outputs": [
        {
          "output_type": "stream",
          "name": "stdout",
          "text": [
            "<class 'int'>\n"
          ]
        }
      ]
    },
    {
      "cell_type": "markdown",
      "source": [
        "**Setting the Data Type**\n",
        "\n",
        "In Python, the data type is set when you assign a value to a variable:\n",
        "\n",
        "Example\tData Type\tTry it\n",
        "x = \"Hello World\"\tstr\n",
        "x = 20\tint\n",
        "x = 20.5\tfloat\n",
        "x = 1j\tcomplex\n",
        "x = [\"apple\", \"banana\", \"cherry\"]\tlist\n",
        "x = (\"apple\", \"banana\", \"cherry\")\ttuple\n",
        "x = range(6)\trange\n",
        "x = {\"name\" : \"John\", \"age\" : 36}\tdict\n",
        "x = {\"apple\", \"banana\", \"cherry\"}\tset\n",
        "x = frozenset({\"apple\", \"banana\", \"cherry\"})\tfrozenset\n",
        "x = True\tbool\n",
        "x = b\"Hello\"\tbytes\n",
        "x = bytearray(5)\tbytearray\n",
        "x = memoryview(bytes(5))\tmemoryview\n",
        "x = None\tNoneType"
      ],
      "metadata": {
        "id": "c-qFLGBj-VIw"
      }
    },
    {
      "cell_type": "markdown",
      "source": [
        "**Setting the Specific Data Type**\n",
        "\n",
        "If you want to specify the data type, you can use the following constructor functions:\n",
        "\n",
        "Example\tData Type\tTry it\n",
        "x = str(\"Hello World\")\tstr\n",
        "x = int(20)\tint\n",
        "x = float(20.5)\tfloat\n",
        "x = complex(1j)\tcomplex\n",
        "x = list((\"apple\", \"banana\", \"cherry\"))\tlist\n",
        "x = tuple((\"apple\", \"banana\", \"cherry\"))\ttuple\n",
        "x = range(6)\trange\n",
        "x = dict(name=\"John\", age=36)\tdict\n",
        "x = set((\"apple\", \"banana\", \"cherry\"))\tset\n",
        "x = frozenset((\"apple\", \"banana\", \"cherry\"))\tfrozenset\n",
        "x = bool(5)\tbool\n",
        "x = bytes(5)\tbytes\n",
        "x = bytearray(5)\tbytearray\n",
        "x = memoryview(bytes(5))\tmemoryview\n"
      ],
      "metadata": {
        "id": "eo8jVDj9-go5"
      }
    },
    {
      "cell_type": "markdown",
      "source": [
        "**Python Numbers**"
      ],
      "metadata": {
        "id": "fD4iRvPl-_1t"
      }
    },
    {
      "cell_type": "markdown",
      "source": [
        "**Python Numbers**\n",
        "\n",
        "There are three numeric types in Python:\n",
        "\n",
        "int\n",
        "float\n",
        "complex\n",
        "Variables of numeric types are created when you assign a value to them:\n",
        "\n"
      ],
      "metadata": {
        "id": "CZ-ligEK_Ckk"
      }
    },
    {
      "cell_type": "code",
      "source": [
        "x=1 #int\n",
        "y=2.8 #float\n",
        "z=1j #complex"
      ],
      "metadata": {
        "id": "buwktSHr_G2F"
      },
      "execution_count": null,
      "outputs": []
    },
    {
      "cell_type": "markdown",
      "source": [
        "To verify the type of any object in Python, use the type() function:"
      ],
      "metadata": {
        "id": "_4lKhCVU_UQX"
      }
    },
    {
      "cell_type": "code",
      "source": [
        "print(type(x))\n",
        "print(type(y))\n",
        "print(type(z))"
      ],
      "metadata": {
        "id": "QzL_X7mt_X-S"
      },
      "execution_count": null,
      "outputs": []
    },
    {
      "cell_type": "markdown",
      "source": [
        "**Int**\n",
        "\n",
        "Int, or integer, is a whole number, positive or negative, without decimals, of unlimited length."
      ],
      "metadata": {
        "id": "MGdG8lB0_jFp"
      }
    },
    {
      "cell_type": "code",
      "source": [
        "x=1\n",
        "y=35656222554887711\n",
        "z=-3255522\n",
        "\n",
        "\n",
        "print(type(x))\n",
        "print(type(y))\n",
        "print(type(z))"
      ],
      "metadata": {
        "colab": {
          "base_uri": "https://localhost:8080/"
        },
        "id": "UfTrn157_rH7",
        "outputId": "48e19085-1e75-4882-fa05-e5a79f79093a"
      },
      "execution_count": null,
      "outputs": [
        {
          "output_type": "stream",
          "name": "stdout",
          "text": [
            "<class 'int'>\n",
            "<class 'int'>\n",
            "<class 'int'>\n"
          ]
        }
      ]
    },
    {
      "cell_type": "markdown",
      "source": [
        "**Float**\n",
        "\n",
        "Float, or \"floating point number\" is a number, positive or negative, containing one or more decimals"
      ],
      "metadata": {
        "id": "pu-gsloQ__iZ"
      }
    },
    {
      "cell_type": "code",
      "source": [
        "x=1.10\n",
        "y=1.0\n",
        "z=35.59\n",
        "\n",
        "\n",
        "print(type(x))\n",
        "print(type(y))\n",
        "print(type(z))"
      ],
      "metadata": {
        "colab": {
          "base_uri": "https://localhost:8080/"
        },
        "id": "s_DfakygAHWI",
        "outputId": "9784597c-9a9d-416f-d0b0-0e74005f4cca"
      },
      "execution_count": null,
      "outputs": [
        {
          "output_type": "stream",
          "name": "stdout",
          "text": [
            "<class 'float'>\n",
            "<class 'float'>\n",
            "<class 'float'>\n"
          ]
        }
      ]
    },
    {
      "cell_type": "markdown",
      "source": [
        "Float can also be scientific numbers with an \"e\" to indicate the power of 10."
      ],
      "metadata": {
        "id": "cyNj1_XQAiJa"
      }
    },
    {
      "cell_type": "code",
      "source": [
        "x=35e3\n",
        "y=12e4\n",
        "z=-87.7e100\n",
        "\n",
        "\n",
        "print(type(x))\n",
        "print(type(y))\n",
        "print(type(z))"
      ],
      "metadata": {
        "colab": {
          "base_uri": "https://localhost:8080/"
        },
        "id": "wWA76t5LAkZf",
        "outputId": "3275b112-ad6c-406e-8ecd-b2c8f84bfead"
      },
      "execution_count": null,
      "outputs": [
        {
          "output_type": "stream",
          "name": "stdout",
          "text": [
            "<class 'float'>\n",
            "<class 'float'>\n",
            "<class 'float'>\n"
          ]
        }
      ]
    },
    {
      "cell_type": "markdown",
      "source": [
        "**Complex**\n",
        "\n",
        "Complex numbers are written with a \"j\" as the imaginary part:\n",
        "\n"
      ],
      "metadata": {
        "id": "_0D--JtKA6_h"
      }
    },
    {
      "cell_type": "code",
      "source": [
        "x=3+5j\n",
        "y=5j\n",
        "z=-5j\n",
        "\n",
        "\n",
        "print(type(x))\n",
        "print(type(y))\n",
        "print(type(z))"
      ],
      "metadata": {
        "colab": {
          "base_uri": "https://localhost:8080/"
        },
        "id": "UMrDYnFDBAFx",
        "outputId": "59e1a81d-2e67-4903-9efe-2f91fba97ce6"
      },
      "execution_count": null,
      "outputs": [
        {
          "output_type": "stream",
          "name": "stdout",
          "text": [
            "<class 'complex'>\n",
            "<class 'complex'>\n",
            "<class 'complex'>\n"
          ]
        }
      ]
    },
    {
      "cell_type": "markdown",
      "source": [
        "**Type Conversion**\n",
        "You can convert from one type to another with the int(), float(), and complex() methods:"
      ],
      "metadata": {
        "id": "4IZBYwsBBUEk"
      }
    },
    {
      "cell_type": "code",
      "source": [
        "x=1 #int\n",
        "y=2.8 #float\n",
        "z=1j #complex\n",
        "\n",
        "\n",
        "#convert from int to float:\n",
        "a=float(x)\n",
        "\n",
        "\n",
        "#convert from float to int:\n",
        "b=int(y)\n",
        "\n",
        "\n",
        "#convert from in to complex:\n",
        "c=complex(x)\n",
        "\n",
        "\n",
        "print(a)\n",
        "print(b)\n",
        "print(c)\n",
        "\n",
        "\n",
        "print(type(a))\n",
        "print(type(b))\n",
        "print(type(c))"
      ],
      "metadata": {
        "id": "TvyR5ThUBXWz"
      },
      "execution_count": null,
      "outputs": []
    },
    {
      "cell_type": "markdown",
      "source": [
        "**Random Number**\n",
        "\n",
        "Python does not have a random() function to make a random number, but Python has a built-in module called random that can be used to make random numbers:\n",
        "\n"
      ],
      "metadata": {
        "id": "lPPFQtsVCgmS"
      }
    },
    {
      "cell_type": "code",
      "source": [
        "import random as rd\n",
        "\n",
        "#print(randrange(1,10))\n",
        "print(rd.randrange (1,10))\n",
        "print(random.randrange(1,10))"
      ],
      "metadata": {
        "colab": {
          "base_uri": "https://localhost:8080/"
        },
        "id": "Pz90Ns1BCj1o",
        "outputId": "adc26f67-69c1-4a48-d09c-c740d65c873a"
      },
      "execution_count": null,
      "outputs": [
        {
          "output_type": "stream",
          "name": "stdout",
          "text": [
            "6\n",
            "5\n"
          ]
        }
      ]
    },
    {
      "cell_type": "markdown",
      "source": [
        "**Python Casting**"
      ],
      "metadata": {
        "id": "juzkMpv3ztlw"
      }
    },
    {
      "cell_type": "markdown",
      "source": [
        "**Specify a Variable Type**\n",
        "\n",
        "There may be times when you want to specify a type on to a variable. This can be done with casting. Python is an object-orientated language, and as such it uses classes to define data types, including its primitive types.\n",
        "\n",
        "Casting in python is therefore done using constructor functions:\n",
        "\n",
        "int() - constructs an integer number from an integer literal, a float literal (by removing all decimals), or a string literal (providing the string represents a whole number)\n",
        "float() - constructs a float number from an integer literal, a float literal or a string literal (providing the string represents a float or an integer)\n",
        "str() - constructs a string from a wide variety of data types, including strings, integer literals and float literals\n"
      ],
      "metadata": {
        "id": "22iPmS6gz6uP"
      }
    },
    {
      "cell_type": "code",
      "source": [
        "x = int(1)   # x will be 1\n",
        "y = int(2.8) # y will be 2\n",
        "z = int(\"3\") # z will be 3"
      ],
      "metadata": {
        "id": "fJrVh-oh0AKH"
      },
      "execution_count": null,
      "outputs": []
    },
    {
      "cell_type": "code",
      "source": [
        "x = float(1)     # x will be 1.0\n",
        "y = float(2.8)   # y will be 2.8\n",
        "z = float(\"3\")   # z will be 3.0\n",
        "w = float(\"4.2\") # w will be 4.2"
      ],
      "metadata": {
        "id": "aDKX3zns0KmK"
      },
      "execution_count": null,
      "outputs": []
    },
    {
      "cell_type": "code",
      "source": [
        "x = str(\"s1\") #x will be 's1'\n",
        "y=str(2)      #y will be '2'\n",
        "z=str(3.0)    #z will be '3.0'"
      ],
      "metadata": {
        "id": "fYH-eoWT0foe"
      },
      "execution_count": null,
      "outputs": []
    },
    {
      "cell_type": "markdown",
      "source": [
        "**Python Strings**"
      ],
      "metadata": {
        "id": "AzpRtm6U1PjF"
      }
    },
    {
      "cell_type": "markdown",
      "source": [
        "**Strings**\n",
        "Strings in python are surrounded by either single quotation marks, or double quotation marks.\n",
        "\n",
        "'hello' is the same as \"hello\".\n",
        "\n",
        "You can display a string literal with the print() function:\n",
        "\n"
      ],
      "metadata": {
        "id": "h52yRe_z1Syg"
      }
    },
    {
      "cell_type": "code",
      "source": [
        "print(\"hello\")\n",
        "print('hello')"
      ],
      "metadata": {
        "id": "zekR1sus1XIB",
        "outputId": "f2785fce-3b7a-4c05-ec1f-a11ebcafb775",
        "colab": {
          "base_uri": "https://localhost:8080/"
        }
      },
      "execution_count": null,
      "outputs": [
        {
          "output_type": "stream",
          "name": "stdout",
          "text": [
            "hello\n",
            "hello\n"
          ]
        }
      ]
    },
    {
      "cell_type": "markdown",
      "source": [
        "**Assign String to a Variable**\n",
        "\n",
        "Assigning a string to a variable is done with the variable name followed by an equal sign and the string:"
      ],
      "metadata": {
        "id": "pGqY5qbS1ewZ"
      }
    },
    {
      "cell_type": "code",
      "source": [
        "a=\"hello\"\n",
        "print(a)"
      ],
      "metadata": {
        "id": "Hi3DK6Ka1n2D",
        "outputId": "b909d71f-c326-4b9d-c270-77640737a82e",
        "colab": {
          "base_uri": "https://localhost:8080/"
        }
      },
      "execution_count": null,
      "outputs": [
        {
          "output_type": "stream",
          "name": "stdout",
          "text": [
            "hello\n"
          ]
        }
      ]
    },
    {
      "cell_type": "markdown",
      "source": [
        "**Multiline Strings**\n",
        "\n",
        "You can assign a multiline string to a variable by using three quotes:"
      ],
      "metadata": {
        "id": "IHbmO5S012R2"
      }
    },
    {
      "cell_type": "code",
      "source": [
        "a = \"\"\"Lorem ipsum dolor sit amet,\n",
        "consectetur adipiscing elit,\n",
        "sed do eiusmod tempor incididunt\n",
        "ut labore et dolore magna aliqua.\"\"\"\n",
        "print(a)"
      ],
      "metadata": {
        "id": "0TfI0fzM1_MP",
        "outputId": "ad0cd941-d7b6-443c-dd30-90f1e9289350",
        "colab": {
          "base_uri": "https://localhost:8080/"
        }
      },
      "execution_count": null,
      "outputs": [
        {
          "output_type": "stream",
          "name": "stdout",
          "text": [
            "Lorem ipsum dolor sit amet,\n",
            "consectetur adipiscing elit,\n",
            "sed do eiusmod tempor incididunt\n",
            "ut labore et dolore magna aliqua.\n"
          ]
        }
      ]
    },
    {
      "cell_type": "markdown",
      "source": [
        "Or three single quotes:"
      ],
      "metadata": {
        "id": "2vE1ME522Gq8"
      }
    },
    {
      "cell_type": "code",
      "source": [
        "a = '''Lorem ipsum dolor sit amet,\n",
        "consectetur adipiscing elit,\n",
        "sed do eiusmod tempor incididunt\n",
        "ut labore et dolore magna aliqua.'''\n",
        "print(a)"
      ],
      "metadata": {
        "id": "Yj6ldtDG2H6K",
        "outputId": "6cdf65ba-0cbe-49eb-ddeb-dec8dbe9180e",
        "colab": {
          "base_uri": "https://localhost:8080/"
        }
      },
      "execution_count": null,
      "outputs": [
        {
          "output_type": "stream",
          "name": "stdout",
          "text": [
            "Lorem ipsum dolor sit amet,\n",
            "consectetur adipiscing elit,\n",
            "sed do eiusmod tempor incididunt\n",
            "ut labore et dolore magna aliqua.\n"
          ]
        }
      ]
    },
    {
      "cell_type": "markdown",
      "source": [
        "**Note:** in the result, the line breaks are inserted at the same position as in the code."
      ],
      "metadata": {
        "id": "XyiJI9bf2WqS"
      }
    },
    {
      "cell_type": "markdown",
      "source": [
        "**Strings are Arrays**\n",
        "\n",
        "Like many other popular programming languages, strings in Python are arrays of bytes representing unicode characters.\n",
        "\n",
        "However, Python does not have a character data type, a single character is simply a string with a length of 1.\n",
        "\n",
        "Square brackets can be used to access elements of the string."
      ],
      "metadata": {
        "id": "MA_swmgx2jG3"
      }
    },
    {
      "cell_type": "code",
      "source": [
        "a=\"hello, world!\"\n",
        "print(a[1])"
      ],
      "metadata": {
        "id": "zZzrUyTQ2sRX",
        "outputId": "ee472034-616d-438c-caf3-679b51e14e85",
        "colab": {
          "base_uri": "https://localhost:8080/"
        }
      },
      "execution_count": null,
      "outputs": [
        {
          "output_type": "stream",
          "name": "stdout",
          "text": [
            "e\n"
          ]
        }
      ]
    },
    {
      "cell_type": "markdown",
      "source": [
        "**Looping Through a String**\n",
        "\n",
        "Since strings are arrays, we can loop through the characters in a string, with a for loop."
      ],
      "metadata": {
        "id": "yatOPt-e29Pl"
      }
    },
    {
      "cell_type": "code",
      "source": [
        "for x in \"banana\":\n",
        "  print(x)"
      ],
      "metadata": {
        "id": "uALUHAAB2_M0",
        "outputId": "7e7089cf-abc0-47d3-c36d-ea6dc84b6a9a",
        "colab": {
          "base_uri": "https://localhost:8080/"
        }
      },
      "execution_count": null,
      "outputs": [
        {
          "output_type": "stream",
          "name": "stdout",
          "text": [
            "b\n",
            "a\n",
            "n\n",
            "a\n",
            "n\n",
            "a\n"
          ]
        }
      ]
    },
    {
      "cell_type": "markdown",
      "source": [
        "**String Length**\n",
        "\n",
        "To get the length of a string, use the len() function."
      ],
      "metadata": {
        "id": "99zexOLG3a_B"
      }
    },
    {
      "cell_type": "code",
      "source": [
        "a=\"hello, world\"\n",
        "print(len(a))"
      ],
      "metadata": {
        "id": "amlwNukV3hjS",
        "outputId": "2c4566f4-c0cc-4525-d872-0adfb263bfdc",
        "colab": {
          "base_uri": "https://localhost:8080/"
        }
      },
      "execution_count": null,
      "outputs": [
        {
          "output_type": "stream",
          "name": "stdout",
          "text": [
            "12\n"
          ]
        }
      ]
    },
    {
      "cell_type": "markdown",
      "source": [
        "**Check String**\n",
        "\n",
        "To check if a certain phrase or character is present in a string, we can use the keyword in."
      ],
      "metadata": {
        "id": "OKna5cxt3sDH"
      }
    },
    {
      "cell_type": "code",
      "source": [
        "txt=\"the best things in life are free\"\n",
        "print(\"free\" in txt)"
      ],
      "metadata": {
        "id": "5SiXxCSl35dK",
        "outputId": "ccce1daa-00c6-4f5c-9343-c0d168b45171",
        "colab": {
          "base_uri": "https://localhost:8080/"
        }
      },
      "execution_count": null,
      "outputs": [
        {
          "output_type": "stream",
          "name": "stdout",
          "text": [
            "True\n"
          ]
        }
      ]
    },
    {
      "cell_type": "markdown",
      "source": [
        "Use it in an if statement:"
      ],
      "metadata": {
        "id": "7SOcMtPB4M6I"
      }
    },
    {
      "cell_type": "code",
      "source": [
        "txt=\"the best things in life are free!\"\n",
        "if \"free\" in txt:\n",
        "  print(\"yes, 'free' is present.\")"
      ],
      "metadata": {
        "id": "hhiWHeRt4RLh",
        "outputId": "637b9070-576c-40ab-f9e8-31f28072c717",
        "colab": {
          "base_uri": "https://localhost:8080/"
        }
      },
      "execution_count": null,
      "outputs": [
        {
          "output_type": "stream",
          "name": "stdout",
          "text": [
            "yes, 'free' is present.\n"
          ]
        }
      ]
    },
    {
      "cell_type": "markdown",
      "source": [
        "**Check if NOT**\n",
        "\n",
        "To check if a certain phrase or character is NOT present in a string, we can use the keyword not in.\n",
        "\n"
      ],
      "metadata": {
        "id": "HFEgmVIM41D_"
      }
    },
    {
      "cell_type": "code",
      "source": [
        "txt=\"the best things in life are free!\"\n",
        "if \"expensive\" not in txt:\n",
        "  print(\"No, 'expensive' is NOT present.\")"
      ],
      "metadata": {
        "id": "usM44cNA5Dbs",
        "outputId": "5e220a5a-71d1-4fea-c053-bbfea397c6b5",
        "colab": {
          "base_uri": "https://localhost:8080/"
        }
      },
      "execution_count": null,
      "outputs": [
        {
          "output_type": "stream",
          "name": "stdout",
          "text": [
            "No, 'expensive' is NOT present.\n"
          ]
        }
      ]
    },
    {
      "cell_type": "markdown",
      "source": [
        "**Python - Slicing Strings**"
      ],
      "metadata": {
        "id": "1HbsYHiN5m-b"
      }
    },
    {
      "cell_type": "markdown",
      "source": [
        "**Slicing**\n",
        "\n",
        "You can return a range of characters by using the slice syntax.\n",
        "\n",
        "Specify the start index and the end index, separated by a colon, to return a part of the string.\n",
        "\n"
      ],
      "metadata": {
        "id": "_hbt-aLG6UR2"
      }
    },
    {
      "cell_type": "code",
      "source": [
        "b=\"hello, world!\"\n",
        "print(b[2:5])"
      ],
      "metadata": {
        "id": "DTV5NSFT6YYa",
        "outputId": "e0ad45c8-0842-454d-f466-11d920a1b61d",
        "colab": {
          "base_uri": "https://localhost:8080/"
        }
      },
      "execution_count": null,
      "outputs": [
        {
          "output_type": "stream",
          "name": "stdout",
          "text": [
            "llo\n"
          ]
        }
      ]
    },
    {
      "cell_type": "markdown",
      "source": [
        "**Slice From the Start**\n",
        "\n",
        "By leaving out the start index, the range will start at the first character:\n",
        "\n"
      ],
      "metadata": {
        "id": "gDyRAuqf6vdt"
      }
    },
    {
      "cell_type": "code",
      "source": [
        "b = \"Hello, World!\"\n",
        "print(b[:5])"
      ],
      "metadata": {
        "id": "xUpBZeZL60f4",
        "outputId": "5f564db4-1c64-41f4-d0be-d5de0cfe1baf",
        "colab": {
          "base_uri": "https://localhost:8080/"
        }
      },
      "execution_count": null,
      "outputs": [
        {
          "output_type": "stream",
          "name": "stdout",
          "text": [
            "Hello\n"
          ]
        }
      ]
    },
    {
      "cell_type": "markdown",
      "source": [
        "**Slice To the End**\n",
        "\n",
        "By leaving out the end index, the range will go to the end:"
      ],
      "metadata": {
        "id": "FoJFPfrZ64vq"
      }
    },
    {
      "cell_type": "markdown",
      "source": [
        "**Negative Indexing**\n",
        "\n",
        "Use negative indexes to start the slice from the end of the string:\n"
      ],
      "metadata": {
        "id": "b98qOCAD7B34"
      }
    },
    {
      "cell_type": "code",
      "source": [
        "b = \"Hello, World!\"\n",
        "print(b[-5:-2])"
      ],
      "metadata": {
        "id": "dtrsrG0J7Gp9",
        "outputId": "5277458a-7d5b-41a2-d839-3e8b1436136a",
        "colab": {
          "base_uri": "https://localhost:8080/"
        }
      },
      "execution_count": null,
      "outputs": [
        {
          "output_type": "stream",
          "name": "stdout",
          "text": [
            "orl\n"
          ]
        }
      ]
    },
    {
      "cell_type": "markdown",
      "source": [
        "**Python - Modify Strings**"
      ],
      "metadata": {
        "id": "Y8OjmTYr7TCz"
      }
    },
    {
      "cell_type": "markdown",
      "source": [
        "**Upper Case**"
      ],
      "metadata": {
        "id": "Jp4l5eJS7W6B"
      }
    },
    {
      "cell_type": "code",
      "source": [
        "a = \"Hello, World!\"\n",
        "print(a.upper())"
      ],
      "metadata": {
        "id": "8QaJizF27fBP",
        "outputId": "8451044d-3aa8-49ab-cd55-0230826fe004",
        "colab": {
          "base_uri": "https://localhost:8080/"
        }
      },
      "execution_count": null,
      "outputs": [
        {
          "output_type": "stream",
          "name": "stdout",
          "text": [
            "HELLO, WORLD!\n"
          ]
        }
      ]
    },
    {
      "cell_type": "markdown",
      "source": [
        "**Lower Case**"
      ],
      "metadata": {
        "id": "LZb9f0Dm7oM5"
      }
    },
    {
      "cell_type": "code",
      "source": [
        "a = \"Hello, World!\"\n",
        "print(a.lower())"
      ],
      "metadata": {
        "id": "4V6DpGCi7z_A",
        "outputId": "427739f3-e1f9-4e23-8aba-26e92bade6a3",
        "colab": {
          "base_uri": "https://localhost:8080/"
        }
      },
      "execution_count": null,
      "outputs": [
        {
          "output_type": "stream",
          "name": "stdout",
          "text": [
            "hello, world!\n"
          ]
        }
      ]
    },
    {
      "cell_type": "markdown",
      "source": [
        "**Remove Whitespace**\n",
        "\n",
        "Whitespace is the space before and/or after the actual text, and very often you want to remove this space."
      ],
      "metadata": {
        "id": "5hsTC4rz792l"
      }
    },
    {
      "cell_type": "code",
      "source": [
        "a = \" Hello, World! \"\n",
        "print(a.strip()) #returns \"Hello, World!\""
      ],
      "metadata": {
        "id": "y68haXkF8BDj",
        "outputId": "609e4521-deeb-4c43-e361-c851c8f4fa3f",
        "colab": {
          "base_uri": "https://localhost:8080/"
        }
      },
      "execution_count": null,
      "outputs": [
        {
          "output_type": "stream",
          "name": "stdout",
          "text": [
            "Hello, World!\n"
          ]
        }
      ]
    },
    {
      "cell_type": "markdown",
      "source": [
        "**Replace String**"
      ],
      "metadata": {
        "id": "23gQHgyJ8Whk"
      }
    },
    {
      "cell_type": "code",
      "source": [
        "a = \"Hello, World!\"\n",
        "print(a.replace(\"H\",\"J\"))"
      ],
      "metadata": {
        "id": "93lqM3HI8Yuu",
        "outputId": "7fd6b978-2999-4b9c-9efd-519eb32c054f",
        "colab": {
          "base_uri": "https://localhost:8080/"
        }
      },
      "execution_count": null,
      "outputs": [
        {
          "output_type": "stream",
          "name": "stdout",
          "text": [
            "Jello, World!\n"
          ]
        }
      ]
    },
    {
      "cell_type": "markdown",
      "source": [
        "**Split String**\n",
        "\n",
        "The split() method returns a list where the text between the specified separator becomes the list items."
      ],
      "metadata": {
        "id": "AY-MSa_L8s3A"
      }
    },
    {
      "cell_type": "code",
      "source": [
        "a = \"Hello, World!\"\n",
        "print(a.split(\",\")) # returns ['Hello', ' World!']"
      ],
      "metadata": {
        "id": "N80hFuW89JZY",
        "outputId": "33a093cf-c6f0-4a42-e3ec-1020e4d0f3f2",
        "colab": {
          "base_uri": "https://localhost:8080/"
        }
      },
      "execution_count": null,
      "outputs": [
        {
          "output_type": "stream",
          "name": "stdout",
          "text": [
            "['Hello', ' World!']\n"
          ]
        }
      ]
    },
    {
      "cell_type": "markdown",
      "source": [
        "Python - String Concatenation\n"
      ],
      "metadata": {
        "id": "T2nJ49r99_6O"
      }
    },
    {
      "cell_type": "markdown",
      "source": [
        "**String Concatenation**\n",
        "\n",
        "To concatenate, or combine, two strings you can use the + operator."
      ],
      "metadata": {
        "id": "9OHfSSdu-jED"
      }
    },
    {
      "cell_type": "code",
      "source": [
        "a = \"Hello\"\n",
        "b = \"World\"\n",
        "c = a + b\n",
        "print(c)"
      ],
      "metadata": {
        "id": "rZd0VMVl-pfm",
        "outputId": "10304fb7-90a9-4323-bdf8-642408f1f52b",
        "colab": {
          "base_uri": "https://localhost:8080/"
        }
      },
      "execution_count": null,
      "outputs": [
        {
          "output_type": "stream",
          "name": "stdout",
          "text": [
            "HelloWorld\n"
          ]
        }
      ]
    },
    {
      "cell_type": "code",
      "source": [
        "a = \"Hello\"\n",
        "b = \"World\"\n",
        "c = a + \" \" + b\n",
        "print(c)"
      ],
      "metadata": {
        "id": "Afg7sBvS-sGT",
        "outputId": "c8cb191c-8117-4c1e-b169-3ef3df681d90",
        "colab": {
          "base_uri": "https://localhost:8080/"
        }
      },
      "execution_count": null,
      "outputs": [
        {
          "output_type": "stream",
          "name": "stdout",
          "text": [
            "Hello World\n"
          ]
        }
      ]
    },
    {
      "cell_type": "markdown",
      "source": [
        "**Python - Format - Strings**"
      ],
      "metadata": {
        "id": "WkHTkE5IJWy1"
      }
    },
    {
      "cell_type": "markdown",
      "source": [
        "**String Format**\n",
        "\n",
        "As we learned in the Python Variables chapter, we cannot combine strings and numbers like this:\n",
        "\n"
      ],
      "metadata": {
        "id": "SSzU34v1JaWo"
      }
    },
    {
      "cell_type": "code",
      "source": [
        "age = 36\n",
        "txt = \"My name is John, I am \" + age\n",
        "print(txt)"
      ],
      "metadata": {
        "id": "nKnWDrT_JdGy",
        "outputId": "0379ece3-3ed1-4375-e461-add78a13abcd",
        "colab": {
          "base_uri": "https://localhost:8080/",
          "height": 200
        }
      },
      "execution_count": null,
      "outputs": [
        {
          "output_type": "error",
          "ename": "TypeError",
          "evalue": "ignored",
          "traceback": [
            "\u001b[0;31m---------------------------------------------------------------------------\u001b[0m",
            "\u001b[0;31mTypeError\u001b[0m                                 Traceback (most recent call last)",
            "\u001b[0;32m<ipython-input-32-4d1b227cff41>\u001b[0m in \u001b[0;36m<cell line: 2>\u001b[0;34m()\u001b[0m\n\u001b[1;32m      1\u001b[0m \u001b[0mage\u001b[0m \u001b[0;34m=\u001b[0m \u001b[0;36m36\u001b[0m\u001b[0;34m\u001b[0m\u001b[0;34m\u001b[0m\u001b[0m\n\u001b[0;32m----> 2\u001b[0;31m \u001b[0mtxt\u001b[0m \u001b[0;34m=\u001b[0m \u001b[0;34m\"My name is John, I am \"\u001b[0m \u001b[0;34m+\u001b[0m \u001b[0mage\u001b[0m\u001b[0;34m\u001b[0m\u001b[0;34m\u001b[0m\u001b[0m\n\u001b[0m\u001b[1;32m      3\u001b[0m \u001b[0mprint\u001b[0m\u001b[0;34m(\u001b[0m\u001b[0mtxt\u001b[0m\u001b[0;34m)\u001b[0m\u001b[0;34m\u001b[0m\u001b[0;34m\u001b[0m\u001b[0m\n",
            "\u001b[0;31mTypeError\u001b[0m: can only concatenate str (not \"int\") to str"
          ]
        }
      ]
    },
    {
      "cell_type": "markdown",
      "source": [
        "But we can combine strings and numbers by using the format() method!\n",
        "\n",
        "The format() method takes the passed arguments, formats them, and places them in the string where the placeholders {} are:"
      ],
      "metadata": {
        "id": "JiKe8Is2Jiba"
      }
    },
    {
      "cell_type": "code",
      "source": [
        "age = 36\n",
        "txt = \"My name is John, and I am {}\"\n",
        "print(txt.format(age))"
      ],
      "metadata": {
        "id": "MHUQNbp4JjhL",
        "outputId": "becfc380-1ce4-4afb-82ff-22242c6ab8c5",
        "colab": {
          "base_uri": "https://localhost:8080/"
        }
      },
      "execution_count": null,
      "outputs": [
        {
          "output_type": "stream",
          "name": "stdout",
          "text": [
            "My name is John, and I am 36\n"
          ]
        }
      ]
    },
    {
      "cell_type": "markdown",
      "source": [
        "The format() method takes unlimited number of arguments, and are placed into the respective placeholders:"
      ],
      "metadata": {
        "id": "DMlbfKgOJnN9"
      }
    },
    {
      "cell_type": "code",
      "source": [
        "quantity = 3\n",
        "itemno = 567\n",
        "price = 49.95\n",
        "myorder = \"I want {} pieces of item {} for {} dollars.\"\n",
        "print(myorder.format(quantity, itemno, price))"
      ],
      "metadata": {
        "id": "1CteZ-ptJo_2",
        "outputId": "36a2a7e7-d3a6-46a8-e265-58a9694a1072",
        "colab": {
          "base_uri": "https://localhost:8080/"
        }
      },
      "execution_count": null,
      "outputs": [
        {
          "output_type": "stream",
          "name": "stdout",
          "text": [
            "I want 3 pieces of item 567 for 49.95 dollars.\n"
          ]
        }
      ]
    },
    {
      "cell_type": "markdown",
      "source": [
        "You can use index numbers {0} to be sure the arguments are placed in the correct placeholders:"
      ],
      "metadata": {
        "id": "24Tdq_slJvqg"
      }
    },
    {
      "cell_type": "code",
      "source": [
        "quantity=3\n",
        "itemno=567\n",
        "price=49.95\n",
        "myorder=\"I want to pay {2} dolars for {0} pieces of item {1}\"\n",
        "print(myorder.format(quantity, itemno, price))"
      ],
      "metadata": {
        "id": "Deb-akmVJywy",
        "outputId": "f6929a80-bdd3-4619-af18-a5d26a830d70",
        "colab": {
          "base_uri": "https://localhost:8080/"
        }
      },
      "execution_count": null,
      "outputs": [
        {
          "output_type": "stream",
          "name": "stdout",
          "text": [
            "I want to pay 49.95 dolars for 3 pieces of item 567\n"
          ]
        }
      ]
    },
    {
      "cell_type": "markdown",
      "source": [
        "**Python - Escape Characters**"
      ],
      "metadata": {
        "id": "LhMlgSZyKYX7"
      }
    },
    {
      "cell_type": "markdown",
      "source": [
        "**Escape Character**\n",
        "\n",
        "To insert characters that are illegal in a string, use an escape character.\n",
        "\n",
        "An escape character is a backslash \\ followed by the character you want to insert.\n",
        "\n",
        "An example of an illegal character is a double quote inside a string that is surrounded by double quotes:\n",
        "\n"
      ],
      "metadata": {
        "id": "YrUgHYqPKfWq"
      }
    },
    {
      "cell_type": "code",
      "source": [
        "txt = \"We are the so-called \"Vikings\" from the north.\""
      ],
      "metadata": {
        "id": "zvdguZl_KjmT",
        "outputId": "5f42d7e4-964b-4536-81e1-a2b0ce7e89df",
        "colab": {
          "base_uri": "https://localhost:8080/",
          "height": 130
        }
      },
      "execution_count": null,
      "outputs": [
        {
          "output_type": "error",
          "ename": "SyntaxError",
          "evalue": "ignored",
          "traceback": [
            "\u001b[0;36m  File \u001b[0;32m\"<ipython-input-37-56cdf4283a8e>\"\u001b[0;36m, line \u001b[0;32m1\u001b[0m\n\u001b[0;31m    txt = \"We are the so-called \"Vikings\" from the north.\"\u001b[0m\n\u001b[0m                                 ^\u001b[0m\n\u001b[0;31mSyntaxError\u001b[0m\u001b[0;31m:\u001b[0m invalid syntax\n"
          ]
        }
      ]
    },
    {
      "cell_type": "markdown",
      "source": [
        "To fix this problem, use the escape character \\\":"
      ],
      "metadata": {
        "id": "eiY7NJVHKoV9"
      }
    },
    {
      "cell_type": "code",
      "source": [
        "txt=\"we are the so called \\\"Vikings\\\"from the north.\""
      ],
      "metadata": {
        "id": "0Vf4yHmLKpOA"
      },
      "execution_count": null,
      "outputs": []
    },
    {
      "cell_type": "markdown",
      "source": [
        "Code\tResult\n",
        "\\'\tSingle Quote\n",
        "\\\\\tBackslash\n",
        "\\n\tNew Line\n",
        "\\r\tCarriage Return\n",
        "\\t\tTab\n",
        "\\b\tBackspace\n",
        "\\f\tForm Feed\n",
        "\\ooo\tOctal value\n",
        "\\xhh\tHex value"
      ],
      "metadata": {
        "id": "5l-2s0GnLKPw"
      }
    },
    {
      "cell_type": "markdown",
      "source": [
        "**Python - String Methods**"
      ],
      "metadata": {
        "id": "gc3ljzlLLN_4"
      }
    },
    {
      "cell_type": "markdown",
      "source": [
        "**String Methods**\n",
        "\n",
        "Python has a set of built-in methods that you can use on strings."
      ],
      "metadata": {
        "id": "iNa9IZCTLO8Q"
      }
    },
    {
      "cell_type": "markdown",
      "source": [
        "Note: All string methods return new values. They do not change the original string."
      ],
      "metadata": {
        "id": "RJDvxM2GLVAR"
      }
    },
    {
      "cell_type": "markdown",
      "source": [
        "Method\tDescription\n",
        "capitalize()\tConverts the first character to upper case\n",
        "casefold()\tConverts string into lower case\n",
        "center()\tReturns a centered string\n",
        "count()\tReturns the number of times a specified value occurs in a string\n",
        "encode()\tReturns an encoded version of the string\n",
        "endswith()\tReturns true if the string ends with the specified value\n",
        "expandtabs()\tSets the tab size of the string\n",
        "find()\tSearches the string for a specified value and returns the position of where it was found\n",
        "format()\tFormats specified values in a string\n",
        "format_map()\tFormats specified values in a string\n",
        "index()\tSearches the string for a specified value and returns the position of where it was found\n",
        "isalnum()\tReturns True if all characters in the string are alphanumeric\n",
        "isalpha()\tReturns True if all characters in the string are in the alphabet\n",
        "isdecimal()\tReturns True if all characters in the string are decimals\n",
        "isdigit()\tReturns True if all characters in the string are digits\n",
        "isidentifier()\tReturns True if the string is an identifier\n",
        "islower()\tReturns True if all characters in the string are lower case\n",
        "isnumeric()\tReturns True if all characters in the string are numeric\n",
        "isprintable()\tReturns True if all characters in the string are printable\n",
        "isspace()\tReturns True if all characters in the string are whitespaces\n",
        "istitle()\tReturns True if the string follows the rules of a title\n",
        "isupper()\tReturns True if all characters in the string are upper case\n",
        "join()\tJoins the elements of an iterable to the end of the string\n",
        "ljust()\tReturns a left justified version of the string\n",
        "lower()\tConverts a string into lower case\n",
        "lstrip()\tReturns a left trim version of the string\n",
        "maketrans()\tReturns a translation table to be used in translations\n",
        "partition()\tReturns a tuple where the string is parted into three parts\n",
        "replace()\tReturns a string where a specified value is replaced with a specified value\n",
        "rfind()\tSearches the string for a specified value and returns the last position of where it was found\n",
        "rindex()\tSearches the string for a specified value and returns the last position of where it was found\n",
        "rjust()\tReturns a right justified version of the string\n",
        "rpartition()\tReturns a tuple where the string is parted into three parts\n",
        "rsplit()\tSplits the string at the specified separator, and returns a list\n",
        "rstrip()\tReturns a right trim version of the string\n",
        "split()\tSplits the string at the specified separator, and returns a list\n",
        "splitlines()\tSplits the string at line breaks and returns a list\n",
        "startswith()\tReturns true if the string starts with the specified value\n",
        "strip()\tReturns a trimmed version of the string\n",
        "swapcase()\tSwaps cases, lower case becomes upper case and vice versa\n",
        "title()\tConverts the first character of each word to upper case\n",
        "translate()\tReturns a translated string\n",
        "upper()\tConverts a string into upper case\n",
        "zfill()\tFills the string with a specified number of 0 values at the beginning\n"
      ],
      "metadata": {
        "id": "osfamTreLWBN"
      }
    },
    {
      "cell_type": "markdown",
      "source": [
        "**Python Booleans**"
      ],
      "metadata": {
        "id": "Ssw9HeE0_C2s"
      }
    },
    {
      "cell_type": "markdown",
      "source": [
        "**Boolean Values**\n",
        "In programming you often need to know if an expression is True or False.\n",
        "\n",
        "You can evaluate any expression in Python, and get one of two answers, True or False.\n",
        "\n",
        "When you compare two values, the expression is evaluated and Python returns the Boolean answer:\n",
        "\n"
      ],
      "metadata": {
        "id": "lqVgoXsn_Edm"
      }
    },
    {
      "cell_type": "code",
      "source": [
        "print(10>9)\n",
        "print(10==9)\n",
        "print(10<9)"
      ],
      "metadata": {
        "id": "oyeKJHOO_OZV",
        "outputId": "493e1106-6eab-4225-90aa-3d6f337c4000",
        "colab": {
          "base_uri": "https://localhost:8080/"
        }
      },
      "execution_count": null,
      "outputs": [
        {
          "output_type": "stream",
          "name": "stdout",
          "text": [
            "True\n",
            "False\n",
            "False\n"
          ]
        }
      ]
    },
    {
      "cell_type": "markdown",
      "source": [
        "When you run a condition in an if statement, Python returns True or False:"
      ],
      "metadata": {
        "id": "wuMchAic_kx3"
      }
    },
    {
      "cell_type": "code",
      "source": [
        "a=200\n",
        "b=33\n",
        "if b>a:\n",
        "  print(\"b is greater than a\")\n",
        "else:\n",
        "  print(\"b is not greater than a\")"
      ],
      "metadata": {
        "id": "eL-TOtBn_mwT"
      },
      "execution_count": null,
      "outputs": []
    },
    {
      "cell_type": "markdown",
      "source": [
        "**Evaluate Values and Variables**\n",
        "The bool() function allows you to evaluate any value, and give you True or False in return,"
      ],
      "metadata": {
        "id": "mG-MBTvwANnz"
      }
    },
    {
      "cell_type": "code",
      "source": [
        "print(bool(\"Hello\"))\n",
        "print(bool(15))"
      ],
      "metadata": {
        "id": "Od2PRYcZASx2"
      },
      "execution_count": null,
      "outputs": []
    },
    {
      "cell_type": "code",
      "source": [
        "x=\"hello\"\n",
        "y=15\n",
        "\n",
        "print(bool(x))\n",
        "print(bool(y))"
      ],
      "metadata": {
        "id": "tlKYDM_0AWDM",
        "outputId": "dc8f29cc-93c9-42d8-e61c-1c73be20c37b",
        "colab": {
          "base_uri": "https://localhost:8080/"
        }
      },
      "execution_count": null,
      "outputs": [
        {
          "output_type": "stream",
          "name": "stdout",
          "text": [
            "True\n",
            "True\n"
          ]
        }
      ]
    },
    {
      "cell_type": "markdown",
      "source": [
        "**Most Values are True**\n",
        "Almost any value is evaluated to True if it has some sort of content.\n",
        "\n",
        "Any string is True, except empty strings.\n",
        "\n",
        "Any number is True, except 0.\n",
        "\n",
        "Any list, tuple, set, and dictionary are True, except empty ones."
      ],
      "metadata": {
        "id": "mCMaZzqGAzl3"
      }
    },
    {
      "cell_type": "code",
      "source": [
        "bool(\"abc\")\n",
        "bool(123)\n",
        "bool([\"apple\", \"cherry\", \"banana\"])"
      ],
      "metadata": {
        "id": "nTHZeO5NA33x"
      },
      "execution_count": null,
      "outputs": []
    },
    {
      "cell_type": "markdown",
      "source": [
        "**Some Values are False**\n",
        "In fact, there are not many values that evaluate to False, except empty values, such as (), [], {}, \"\", the number 0, and the value None. And of course the value False evaluates to False."
      ],
      "metadata": {
        "id": "wChknaE_Bqej"
      }
    },
    {
      "cell_type": "code",
      "source": [
        "bool(False)\n",
        "bool(None)\n",
        "bool(0)\n",
        "bool(\"\")\n",
        "bool(())\n",
        "bool([])\n",
        "bool({})"
      ],
      "metadata": {
        "id": "nGVwz7cgBtdD"
      },
      "execution_count": null,
      "outputs": []
    },
    {
      "cell_type": "markdown",
      "source": [
        "One more value, or object in this case, evaluates to False, and that is if you have an object that is made from a class with a __len__ function that returns 0 or False:"
      ],
      "metadata": {
        "id": "2ctGr3K2BwVv"
      }
    },
    {
      "cell_type": "code",
      "source": [
        "class myclass():\n",
        "  def __len__(self):\n",
        "    return 0\n",
        "\n",
        "myobj = myclass()\n",
        "print(bool(myobj))"
      ],
      "metadata": {
        "id": "uCqIXrxIBw7r"
      },
      "execution_count": null,
      "outputs": []
    },
    {
      "cell_type": "markdown",
      "source": [
        "**Functions can Return a Boolean**\n",
        "You can create functions that returns a Boolean Value:"
      ],
      "metadata": {
        "id": "fRcy2wYFB0DB"
      }
    },
    {
      "cell_type": "code",
      "source": [
        "def myFunction():\n",
        "  return True\n",
        "\n",
        "\n",
        "print(myFunction())"
      ],
      "metadata": {
        "id": "SjNYqN8_B3RP",
        "outputId": "58b9935d-0eba-4449-ec04-05979f99fdfe",
        "colab": {
          "base_uri": "https://localhost:8080/"
        }
      },
      "execution_count": null,
      "outputs": [
        {
          "output_type": "stream",
          "name": "stdout",
          "text": [
            "True\n"
          ]
        }
      ]
    },
    {
      "cell_type": "markdown",
      "source": [
        "You can execute code based on the Boolean answer of a function:"
      ],
      "metadata": {
        "id": "LtYRf91dCaGe"
      }
    },
    {
      "cell_type": "code",
      "source": [
        "def myFunction() :\n",
        "  return True\n",
        "\n",
        "if myFunction():\n",
        "  print(\"YES!\")\n",
        "else:\n",
        "  print(\"NO!\")"
      ],
      "metadata": {
        "id": "Pa09hiKBCbE1"
      },
      "execution_count": null,
      "outputs": []
    },
    {
      "cell_type": "markdown",
      "source": [
        "Python also has many built-in functions that return a boolean value, like the isinstance() function, which can be used to determine if an object is of a certain data type:"
      ],
      "metadata": {
        "id": "fd5cRbIUCjJ9"
      }
    },
    {
      "cell_type": "code",
      "source": [
        "x = 200\n",
        "print(isinstance(x, int))"
      ],
      "metadata": {
        "id": "nmomocoSCovZ"
      },
      "execution_count": null,
      "outputs": []
    },
    {
      "cell_type": "markdown",
      "source": [
        "**Python Operators**"
      ],
      "metadata": {
        "id": "KslVnIQJDBK8"
      }
    },
    {
      "cell_type": "markdown",
      "source": [
        "**Python Operators**\n",
        "Operators are used to perform operations on variables and values.\n",
        "\n",
        "In the example below, we use the + operator to add together two values:"
      ],
      "metadata": {
        "id": "wnRScBzgDFjA"
      }
    },
    {
      "cell_type": "code",
      "source": [
        "print(10+5)"
      ],
      "metadata": {
        "id": "STmpiTHLDHgU",
        "outputId": "f7388539-b872-4059-e38a-120d926ab1e6",
        "colab": {
          "base_uri": "https://localhost:8080/"
        }
      },
      "execution_count": null,
      "outputs": [
        {
          "output_type": "stream",
          "name": "stdout",
          "text": [
            "15\n"
          ]
        }
      ]
    },
    {
      "cell_type": "markdown",
      "source": [
        "Python divides the operators in the following groups:\n",
        "\n",
        "Arithmetic operators\n",
        "Assignment operators\n",
        "Comparison operators\n",
        "Logical operators\n",
        "Identity operators\n",
        "Membership operators\n",
        "Bitwise operators"
      ],
      "metadata": {
        "id": "mLH4J4glDL_L"
      }
    },
    {
      "cell_type": "markdown",
      "source": [
        "**Python Arithmetic Operators**\n",
        "Arithmetic operators are used with numeric values to perform common mathematical operations:"
      ],
      "metadata": {
        "id": "rixvmFgsDOyZ"
      }
    },
    {
      "cell_type": "markdown",
      "source": [
        "Operator\tName\tExample\n",
        "+\tAddition\tx + y\n",
        "-\tSubtraction\tx - y\n",
        "*\tMultiplication\tx * y\n",
        "/\tDivision\tx / y\n",
        "%\tModulus\tx % y\n",
        "**\tExponentiation\tx ** y\n",
        "//\tFloor division\tx // y"
      ],
      "metadata": {
        "id": "I7-lwYZ7DTDR"
      }
    },
    {
      "cell_type": "markdown",
      "source": [
        "**Python Assignment Operators**\n",
        "Assignment operators are used to assign values to variables:\n",
        "\n",
        "Operator\tExample\tSame As\n",
        "=\tx = 5\tx = 5\n",
        "+=\tx += 3\tx = x + 3\n",
        "-=\tx -= 3\tx = x - 3\n",
        "*=\tx *= 3\tx = x * 3\n",
        "/=\tx /= 3\tx = x / 3\n",
        "%=\tx %= 3\tx = x % 3\n",
        "//=\tx //= 3\tx = x // 3\n",
        "**=\tx **= 3\tx = x ** 3\n",
        "&=\tx &= 3\tx = x & 3\n",
        "|=\tx |= 3\tx = x | 3\n",
        "^=\tx ^= 3\tx = x ^ 3\n",
        ">>=\tx >>= 3\tx = x >> 3\n",
        "<<=\tx <<= 3\tx = x << 3"
      ],
      "metadata": {
        "id": "gTpuy1t9DUrh"
      }
    },
    {
      "cell_type": "markdown",
      "source": [
        "**Python Comparison Operators**\n",
        "Comparison operators are used to compare two values:\n",
        "\n",
        "Operator\tName\tExample\tTry it\n",
        "==\tEqual\tx == y\n",
        "!=\tNot equal\tx != y\n",
        ">\tGreater than\tx > y\n",
        "<\tLess than\tx < y\n",
        ">=\tGreater than or equal to\tx >= y\n",
        "<=\tLess than or equal to\tx <= y"
      ],
      "metadata": {
        "id": "9z6Ud2TpDg0y"
      }
    },
    {
      "cell_type": "markdown",
      "source": [
        "**Python Logical Operators**\n",
        "Logical operators are used to combine conditional statements:\n",
        "\n",
        "Operator\tDescription\tExample\n",
        "and \tReturns True if both statements are true\tx < 5 and  x < 10\n",
        "or\tReturns True if one of the statements is true\tx < 5 or x < 4\n",
        "not\tReverse the result, returns False if the result is true\tnot(x < 5 and x < 10)\n"
      ],
      "metadata": {
        "id": "eMrELSq1Dl3P"
      }
    },
    {
      "cell_type": "markdown",
      "source": [
        "**Python Identity Operators**\n",
        "Identity operators are used to compare the objects, not if they are equal, but if they are actually the same object, with the same memory location:\n",
        "\n",
        "Operator\tDescription\tExample\n",
        "is \tReturns True if both variables are the same object\tx is y\n",
        "is not\tReturns True if both variables are not the same object\tx is not y"
      ],
      "metadata": {
        "id": "sRnpFlIODsdM"
      }
    },
    {
      "cell_type": "markdown",
      "source": [
        "**Python Membership Operators**\n",
        "Membership operators are used to test if a sequence is presented in an object:\n",
        "\n",
        "Operator\tDescription\tExample\n",
        "in \tReturns True if a sequence with the specified value is present in the object\tx in y\n",
        "not in\tReturns True if a sequence with the specified value is not present in the object\tx not in y\n"
      ],
      "metadata": {
        "id": "bgfd6Za0Dw0v"
      }
    },
    {
      "cell_type": "markdown",
      "source": [
        "Python Bitwise Operators\n",
        "Bitwise operators are used to compare (binary) numbers:\n",
        "\n",
        "Operator\tName\tDescription\tExample\n",
        "& \tAND\tSets each bit to 1 if both bits are 1\tx & y\n",
        "|\tOR\tSets each bit to 1 if one of two bits is 1\tx | y\n",
        "^\tXOR\tSets each bit to 1 if only one of two bits is 1\tx ^ y\n",
        "~\tNOT\tInverts all the bits\t~x\n",
        "<<\tZero fill left shift\tShift left by pushing zeros in from the right and let the leftmost bits fall off\tx << 2\n",
        ">>\tSigned right shift\tShift right by pushing copies of the leftmost bit in from the left, and let the rightmost bits fall off\tx >> 2"
      ],
      "metadata": {
        "id": "QyKprd86D0-b"
      }
    },
    {
      "cell_type": "markdown",
      "source": [
        "**Operator Precedence**\n",
        "Operator precedence describes the order in which operations are performed."
      ],
      "metadata": {
        "id": "DsyMhD0GD4_b"
      }
    },
    {
      "cell_type": "code",
      "source": [
        "print((6 + 3) - (6 + 3))"
      ],
      "metadata": {
        "id": "GsLY5Fd5D_ly",
        "outputId": "310a25f3-4d1d-4181-91dd-8d3a70c6f2df",
        "colab": {
          "base_uri": "https://localhost:8080/"
        }
      },
      "execution_count": null,
      "outputs": [
        {
          "output_type": "stream",
          "name": "stdout",
          "text": [
            "0\n"
          ]
        }
      ]
    },
    {
      "cell_type": "code",
      "source": [
        "print(100+5*3)"
      ],
      "metadata": {
        "id": "1bFXJib-EFLb",
        "outputId": "f948c47c-485b-476c-fbf4-87cd93d64aae",
        "colab": {
          "base_uri": "https://localhost:8080/"
        }
      },
      "execution_count": null,
      "outputs": [
        {
          "output_type": "stream",
          "name": "stdout",
          "text": [
            "115\n"
          ]
        }
      ]
    },
    {
      "cell_type": "markdown",
      "source": [
        "The precedence order is described in the table below, starting with the highest precedence at the top:"
      ],
      "metadata": {
        "id": "Vz9gdxMfEP-3"
      }
    },
    {
      "cell_type": "markdown",
      "source": [
        "Operator\tDescription\n",
        "()\tParentheses\n",
        "**\tExponentiation\n",
        "+x  -x  ~x\tUnary plus, unary minus, and bitwise NOT\n",
        "*  /  //  %\tMultiplication, division, floor division, and modulus\n",
        "+  -\tAddition and subtraction\n",
        "<<  >>\tBitwise left and right shifts\n",
        "&\tBitwise AND\n",
        "^\tBitwise XOR\n",
        "|\tBitwise OR\n",
        "==  !=  >  >=  <  <=  is  is not  in  not in \tComparisons, identity, and membership operators\n",
        "not\tLogical NOT\n",
        "and\tAND\n",
        "or\tOR\n",
        "If two operators have the same precedence, the expression is evaluated from left to right."
      ],
      "metadata": {
        "id": "1JdYyUsaEQrT"
      }
    },
    {
      "cell_type": "code",
      "source": [
        "print(5+4-7+3)"
      ],
      "metadata": {
        "id": "m5dNhG-FEYMr",
        "outputId": "3c093507-e6be-4fb8-9f7a-bdb57448d6a0",
        "colab": {
          "base_uri": "https://localhost:8080/"
        }
      },
      "execution_count": null,
      "outputs": [
        {
          "output_type": "stream",
          "name": "stdout",
          "text": [
            "5\n"
          ]
        }
      ]
    },
    {
      "cell_type": "markdown",
      "source": [
        "**Python Booleans**"
      ],
      "metadata": {
        "id": "LEJ-v-PuQ8g_"
      }
    },
    {
      "cell_type": "markdown",
      "source": [
        "**Boolean Values**\n",
        "\n",
        "In programming you often need to know if an expression is True or False.\n",
        "\n",
        "You can evaluate any expression in Python, and get one of two answers, True or False.\n",
        "\n",
        "When you compare two values, the expression is evaluated and Python returns the Boolean answer:"
      ],
      "metadata": {
        "id": "4sTnmi2_RDrt"
      }
    },
    {
      "cell_type": "code",
      "source": [
        "print(10 > 9)\n",
        "print(10 == 9)\n",
        "print(10 < 9)"
      ],
      "metadata": {
        "id": "RykXlfqhRNLm",
        "outputId": "29d518d2-8e6d-4fa1-eb70-0851c398299a",
        "colab": {
          "base_uri": "https://localhost:8080/"
        }
      },
      "execution_count": null,
      "outputs": [
        {
          "output_type": "stream",
          "name": "stdout",
          "text": [
            "True\n",
            "False\n",
            "False\n"
          ]
        }
      ]
    },
    {
      "cell_type": "markdown",
      "source": [
        "When you run a condition in an if statement, Python returns True or False"
      ],
      "metadata": {
        "id": "sZ3jEo35SAuJ"
      }
    },
    {
      "cell_type": "code",
      "source": [
        "a=200\n",
        "b=33\n",
        "\n",
        "if b > a:\n",
        "  print(\"b is greater than a\")\n",
        "else:\n",
        "  print(\"b is not greater than a\")"
      ],
      "metadata": {
        "id": "6tzDf9POSFVw",
        "outputId": "e6d000e6-73de-4f52-88bb-07cabc2d5b96",
        "colab": {
          "base_uri": "https://localhost:8080/"
        }
      },
      "execution_count": null,
      "outputs": [
        {
          "output_type": "stream",
          "name": "stdout",
          "text": [
            "b is not greater than a\n"
          ]
        }
      ]
    },
    {
      "cell_type": "markdown",
      "source": [
        "**Evaluate Values and Variables**\n",
        "\n",
        "The bool() function allows you to evaluate any value, and give you True or False in return,"
      ],
      "metadata": {
        "id": "6Rte0aRHSpwV"
      }
    },
    {
      "cell_type": "code",
      "source": [
        "print(bool(\"hello\"))\n",
        "print(bool(15))"
      ],
      "metadata": {
        "id": "x6hWQlArSu1D",
        "outputId": "c8c78de1-43b0-42e4-d76e-ec7b565cd11a",
        "colab": {
          "base_uri": "https://localhost:8080/"
        }
      },
      "execution_count": null,
      "outputs": [
        {
          "output_type": "stream",
          "name": "stdout",
          "text": [
            "True\n",
            "True\n"
          ]
        }
      ]
    },
    {
      "cell_type": "code",
      "source": [
        "x=\"hello\"\n",
        "y=15\n",
        "\n",
        "\n",
        "print(bool(x))\n",
        "print(bool(y))"
      ],
      "metadata": {
        "id": "qIyKV6bvS1fx",
        "outputId": "0cc8df37-6376-4134-ee96-95bbfa7c669d",
        "colab": {
          "base_uri": "https://localhost:8080/"
        }
      },
      "execution_count": null,
      "outputs": [
        {
          "output_type": "stream",
          "name": "stdout",
          "text": [
            "True\n",
            "True\n"
          ]
        }
      ]
    },
    {
      "cell_type": "markdown",
      "source": [
        "**Most Values are True**\n",
        "\n",
        "Almost any value is evaluated to True if it has some sort of content.\n",
        "\n",
        "Any string is True, except empty strings.\n",
        "\n",
        "Any number is True, except 0.\n",
        "\n",
        "Any list, tuple, set, and dictionary are True, except empty ones."
      ],
      "metadata": {
        "id": "pCliK99mTPh-"
      }
    },
    {
      "cell_type": "code",
      "source": [
        "bool(\"abc\")\n",
        "bool(123)\n",
        "bool([\"apple\", \"cherry\", \"banana\"])"
      ],
      "metadata": {
        "id": "ClKePXwcTTDR",
        "outputId": "36c00986-edac-4f6a-c04c-ab1568daf9ac",
        "colab": {
          "base_uri": "https://localhost:8080/"
        }
      },
      "execution_count": null,
      "outputs": [
        {
          "output_type": "execute_result",
          "data": {
            "text/plain": [
              "True"
            ]
          },
          "metadata": {},
          "execution_count": 5
        }
      ]
    },
    {
      "cell_type": "markdown",
      "source": [
        "**Some Values are False**\n",
        "In fact, there are not many values that evaluate to False, except empty values, such as (), [], {}, \"\", the number 0, and the value None. And of course the value False evaluates to False."
      ],
      "metadata": {
        "id": "8EIg9hy_TV5p"
      }
    },
    {
      "cell_type": "code",
      "source": [
        "bool(False)\n",
        "bool(None)\n",
        "bool(0)\n",
        "bool(\"\")\n",
        "bool(())\n",
        "bool([])\n",
        "bool({})"
      ],
      "metadata": {
        "id": "CCSKQwAVTaEj"
      },
      "execution_count": null,
      "outputs": []
    },
    {
      "cell_type": "markdown",
      "source": [
        "One more value, or object in this case, evaluates to False, and that is if you have an object that is made from a class with a __len__ function that returns 0 or False:"
      ],
      "metadata": {
        "id": "hwsDK0Y_TdcE"
      }
    },
    {
      "cell_type": "code",
      "source": [
        "class myclass():\n",
        "  def __len__(self):\n",
        "    return 0\n",
        "\n",
        "myobj = myclass()\n",
        "print(bool(myobj))"
      ],
      "metadata": {
        "id": "48TiJ4UiTyEa"
      },
      "execution_count": null,
      "outputs": []
    },
    {
      "cell_type": "markdown",
      "source": [
        "Functions can Return a Boolean\n",
        "You can create functions that returns a Boolean Value:"
      ],
      "metadata": {
        "id": "UCBzY7BhTzwU"
      }
    },
    {
      "cell_type": "code",
      "source": [
        "def myFunction() :\n",
        "  return True\n",
        "\n",
        "\n",
        "print(myFunction())"
      ],
      "metadata": {
        "id": "J7aOssQhTyJL",
        "outputId": "4f11c597-6835-46b7-b63d-e2133eda10b2",
        "colab": {
          "base_uri": "https://localhost:8080/"
        }
      },
      "execution_count": null,
      "outputs": [
        {
          "output_type": "stream",
          "name": "stdout",
          "text": [
            "True\n"
          ]
        }
      ]
    },
    {
      "cell_type": "markdown",
      "source": [
        "You can execute code based on the Boolean answer of a function:"
      ],
      "metadata": {
        "id": "wxsA_DYtUZoK"
      }
    },
    {
      "cell_type": "code",
      "source": [
        "def myFunction() :\n",
        "  return True\n",
        "\n",
        "\n",
        "if myFunction() :\n",
        "  print(\"YES!\")\n",
        "else:\n",
        "  print(\"NO!\")"
      ],
      "metadata": {
        "id": "FhjKXKLRUez1",
        "outputId": "bc5a0af0-f67c-456e-c604-23f69984fc69",
        "colab": {
          "base_uri": "https://localhost:8080/"
        }
      },
      "execution_count": null,
      "outputs": [
        {
          "output_type": "stream",
          "name": "stdout",
          "text": [
            "YES!\n"
          ]
        }
      ]
    },
    {
      "cell_type": "markdown",
      "source": [
        "Python also has many built-in functions that return a boolean value, like the isinstance() function, which can be used to determine if an object is of a certain data type:"
      ],
      "metadata": {
        "id": "pXgj_BmuVQ3t"
      }
    },
    {
      "cell_type": "code",
      "source": [
        "x=200\n",
        "print(isinstance(x,int))"
      ],
      "metadata": {
        "id": "DWdKbpcfVPmq",
        "outputId": "99456bb8-9024-4dc6-8be5-fae9b1656d4f",
        "colab": {
          "base_uri": "https://localhost:8080/"
        }
      },
      "execution_count": null,
      "outputs": [
        {
          "output_type": "stream",
          "name": "stdout",
          "text": [
            "True\n"
          ]
        }
      ]
    },
    {
      "cell_type": "markdown",
      "source": [
        "**Python If ... Else**"
      ],
      "metadata": {
        "id": "LQ8Xf3WnV284"
      }
    },
    {
      "cell_type": "markdown",
      "source": [
        "**Python Conditions and If statements**\n",
        "\n",
        "Python supports the usual logical conditions from mathematics:\n",
        "\n",
        "Equals: a == b\n",
        "Not Equals: a != b\n",
        "Less than: a < b\n",
        "Less than or equal to: a <= b\n",
        "Greater than: a > b\n",
        "Greater than or equal to: a >= b\n",
        "These conditions can be used in several ways, most commonly in \"if statements\" and loops.\n",
        "\n",
        "An \"if statement\" is written by using the if keyword."
      ],
      "metadata": {
        "id": "px5eIddwV5Kk"
      }
    },
    {
      "cell_type": "code",
      "source": [
        "a=33\n",
        "b=200\n",
        "if b>a:\n",
        "  print(\"b is greater than a\")"
      ],
      "metadata": {
        "id": "RZF0R4ShWJYn",
        "outputId": "52593348-cb34-4161-c066-50e1d65ec639",
        "colab": {
          "base_uri": "https://localhost:8080/"
        }
      },
      "execution_count": null,
      "outputs": [
        {
          "output_type": "stream",
          "name": "stdout",
          "text": [
            "b is greater than a\n"
          ]
        }
      ]
    },
    {
      "cell_type": "markdown",
      "source": [
        "In this example we use two variables, a and b, which are used as part of the if statement to test whether b is greater than a. As a is 33, and b is 200, we know that 200 is greater than 33, and so we print to screen that \"b is greater than a\".\n",
        "\n",
        "**Indentation**\n",
        "\n",
        "Python relies on indentation (whitespace at the beginning of a line) to define scope in the code. Other programming languages often use curly-brackets for this purpose.\n",
        "\n"
      ],
      "metadata": {
        "id": "7t4-v35UWZ_1"
      }
    },
    {
      "cell_type": "code",
      "source": [
        "a=33\n",
        "b=200\n",
        "if b>a:\n",
        "print(\"b is greater than a\") #there will be an error"
      ],
      "metadata": {
        "id": "sigxqzmIWtZj",
        "outputId": "baf5ae12-69ea-4f31-a5ba-105e4da665ad",
        "colab": {
          "base_uri": "https://localhost:8080/",
          "height": 130
        }
      },
      "execution_count": null,
      "outputs": [
        {
          "output_type": "error",
          "ename": "IndentationError",
          "evalue": "ignored",
          "traceback": [
            "\u001b[0;36m  File \u001b[0;32m\"<ipython-input-10-434cd7d10ea1>\"\u001b[0;36m, line \u001b[0;32m4\u001b[0m\n\u001b[0;31m    print(\"b is greater than a\") #there will be an error\u001b[0m\n\u001b[0m    ^\u001b[0m\n\u001b[0;31mIndentationError\u001b[0m\u001b[0;31m:\u001b[0m expected an indented block after 'if' statement on line 3\n"
          ]
        }
      ]
    },
    {
      "cell_type": "markdown",
      "source": [
        "**Elif**\n",
        "\n",
        "The elif keyword is Python's way of saying \"if the previous conditions were not true, then try this condition\"."
      ],
      "metadata": {
        "id": "W44PGxbjXPYs"
      }
    },
    {
      "cell_type": "code",
      "source": [
        "a=33\n",
        "b=33\n",
        "\n",
        "if b>a:\n",
        "  print(\"b is greater than a\")\n",
        "elif a==b:\n",
        "  print(\"a and b are equal\")"
      ],
      "metadata": {
        "id": "Z5baHmeqXOYh",
        "outputId": "7d8a72c2-223c-4d8b-e485-b6c6f77b23c7",
        "colab": {
          "base_uri": "https://localhost:8080/"
        }
      },
      "execution_count": null,
      "outputs": [
        {
          "output_type": "stream",
          "name": "stdout",
          "text": [
            "a and b are equal\n"
          ]
        }
      ]
    },
    {
      "cell_type": "markdown",
      "source": [
        "In this example a is equal to b, so the first condition is not true, but the elif condition is true, so we print to screen that \"a and b are equal\".\n",
        "\n",
        "**Else**\n",
        "\n",
        "The else keyword catches anything which isn't caught by the preceding conditions."
      ],
      "metadata": {
        "id": "hf16StsEX6Ad"
      }
    },
    {
      "cell_type": "code",
      "source": [
        "a=200\n",
        "b=33\n",
        "if b>a:\n",
        "  print(\"b is greater than a\")\n",
        "elif a==b:\n",
        "  print(\"a and b are equal\")\n",
        "else:\n",
        "  print(\"a is greater than b\")"
      ],
      "metadata": {
        "id": "6e62jz4xX9DM",
        "outputId": "cafc0bd8-0636-4814-ad23-15a30d8972db",
        "colab": {
          "base_uri": "https://localhost:8080/"
        }
      },
      "execution_count": null,
      "outputs": [
        {
          "output_type": "stream",
          "name": "stdout",
          "text": [
            "a is greater than b\n"
          ]
        }
      ]
    },
    {
      "cell_type": "markdown",
      "source": [
        "In this example a is greater than b, so the first condition is not true, also the elif condition is not true, so we go to the else condition and print to screen that \"a is greater than b\".\n",
        "\n",
        "You can also have an else without the elif:"
      ],
      "metadata": {
        "id": "lgnnXQsFYikz"
      }
    },
    {
      "cell_type": "code",
      "source": [
        "a=200\n",
        "b=33\n",
        "if b>a:\n",
        "  print(\"b is greater than a\")\n",
        "else:\n",
        "  print(\"b is not greater than a\")"
      ],
      "metadata": {
        "id": "vv4wp17KYske"
      },
      "execution_count": null,
      "outputs": []
    },
    {
      "cell_type": "markdown",
      "source": [
        "**Short Hand If**\n",
        "\n",
        "If you have only one statement to execute, you can put it on the same line as the if statement."
      ],
      "metadata": {
        "id": "fpaRQF5zZXTG"
      }
    },
    {
      "cell_type": "code",
      "source": [
        "if a>b: print(\"a is greater than b\")"
      ],
      "metadata": {
        "id": "EBlp8IzmZb-0",
        "outputId": "2a9bb9ed-c61d-44af-ddb5-a1f00bf4f724",
        "colab": {
          "base_uri": "https://localhost:8080/"
        }
      },
      "execution_count": null,
      "outputs": [
        {
          "output_type": "stream",
          "name": "stdout",
          "text": [
            "a is greater than b\n"
          ]
        }
      ]
    },
    {
      "cell_type": "markdown",
      "source": [
        "***Short Hand If ... Else***\n",
        "\n",
        "If you have only one statement to execute, one for if, and one for else, you can put it all on the same line:"
      ],
      "metadata": {
        "id": "4rA4ushvZnlj"
      }
    },
    {
      "cell_type": "code",
      "source": [
        "a=2\n",
        "b=330\n",
        "print(\"A\") if a>b else print(\"B\")"
      ],
      "metadata": {
        "id": "cj6M0n1WZt_X",
        "outputId": "1ddcc2ab-dec0-4b61-e7cf-3943cf578a15",
        "colab": {
          "base_uri": "https://localhost:8080/"
        }
      },
      "execution_count": null,
      "outputs": [
        {
          "output_type": "stream",
          "name": "stdout",
          "text": [
            "B\n"
          ]
        }
      ]
    },
    {
      "cell_type": "markdown",
      "source": [
        "This technique is known as Ternary Operators, or Conditional Expressions."
      ],
      "metadata": {
        "id": "q0LCOTbPaDA6"
      }
    },
    {
      "cell_type": "markdown",
      "source": [
        "You can also have multiple else statements on the same line:"
      ],
      "metadata": {
        "id": "cnekoCpAaFiq"
      }
    },
    {
      "cell_type": "code",
      "source": [
        "a=330\n",
        "b=330\n",
        "print(\"A\") if a>b else print(\"=\") if a==b else print(\"B\")"
      ],
      "metadata": {
        "id": "Bosztuh5aGDd",
        "outputId": "2665dc55-e443-4f4b-d6cb-39f1913bc44f",
        "colab": {
          "base_uri": "https://localhost:8080/"
        }
      },
      "execution_count": null,
      "outputs": [
        {
          "output_type": "stream",
          "name": "stdout",
          "text": [
            "=\n"
          ]
        }
      ]
    },
    {
      "cell_type": "markdown",
      "source": [
        "**And**\n",
        "\n",
        "The and keyword is a logical operator, and is used to combine conditional statements:"
      ],
      "metadata": {
        "id": "Fj1KGVJaahs5"
      }
    },
    {
      "cell_type": "code",
      "source": [
        "a=200\n",
        "b=33\n",
        "c=500\n",
        "if a>b and a>c:\n",
        "  print(\"both conditions are true\")"
      ],
      "metadata": {
        "id": "dCFr8UkibdM9"
      },
      "execution_count": null,
      "outputs": []
    },
    {
      "cell_type": "markdown",
      "source": [
        "**Or**\n",
        "The or keyword is a logical operator, and is used to combine conditional statements."
      ],
      "metadata": {
        "id": "wq1X3EypbqLi"
      }
    },
    {
      "cell_type": "code",
      "source": [
        "a=200\n",
        "b=33\n",
        "c=500\n",
        "if a>b or a>c:\n",
        "  print(\"at least one of the conditions is true\")"
      ],
      "metadata": {
        "id": "FmbqpjRSa1y5",
        "outputId": "dc2fe7a8-bbb9-480a-a7f8-e8c76771eb79",
        "colab": {
          "base_uri": "https://localhost:8080/"
        }
      },
      "execution_count": null,
      "outputs": [
        {
          "output_type": "stream",
          "name": "stdout",
          "text": [
            "at least one of the conditions are true\n"
          ]
        }
      ]
    },
    {
      "cell_type": "markdown",
      "source": [
        "**Not**\n",
        "\n",
        "The not keyword is a logical operator, and is used to reverse the result of the conditional statement:"
      ],
      "metadata": {
        "id": "KpihDNU0bztl"
      }
    },
    {
      "cell_type": "code",
      "source": [
        "a=33\n",
        "b=200\n",
        "if not a>b:\n",
        "  print(\"a is Not greater than b\")"
      ],
      "metadata": {
        "id": "NLahiOYZb7Xd",
        "outputId": "4846dfff-d12f-49f6-af27-0ed9efc018d7",
        "colab": {
          "base_uri": "https://localhost:8080/"
        }
      },
      "execution_count": null,
      "outputs": [
        {
          "output_type": "stream",
          "name": "stdout",
          "text": [
            "a is Not greater than b\n"
          ]
        }
      ]
    },
    {
      "cell_type": "markdown",
      "source": [
        "**Nested If**\n",
        "You can have if statements inside if statements, this is called nested if statements."
      ],
      "metadata": {
        "id": "lJgLzLg1cWQ1"
      }
    },
    {
      "cell_type": "code",
      "source": [
        "x = 41\n",
        "\n",
        "if x > 10:\n",
        "  print(\"Above ten,\")\n",
        "  if x > 20:\n",
        "    print(\"and also above 20!\")\n",
        "  else:\n",
        "    print(\"but not above 20.\")"
      ],
      "metadata": {
        "id": "eovC4tWlcfg8",
        "outputId": "f00f5cd1-b520-4f04-d203-ea099f933d72",
        "colab": {
          "base_uri": "https://localhost:8080/"
        }
      },
      "execution_count": null,
      "outputs": [
        {
          "output_type": "stream",
          "name": "stdout",
          "text": [
            "Above ten,\n",
            "and also above 20!\n"
          ]
        }
      ]
    },
    {
      "cell_type": "markdown",
      "source": [
        "**The pass Statement**\n",
        "if statements cannot be empty, but if you for some reason have an if statement with no content, put in the pass statement to avoid getting an error."
      ],
      "metadata": {
        "id": "IfqErenAclnI"
      }
    },
    {
      "cell_type": "code",
      "source": [
        "a = 33\n",
        "b = 200\n",
        "\n",
        "if b > a:\n",
        "  pass"
      ],
      "metadata": {
        "id": "7nYSVMEwcrt0"
      },
      "execution_count": null,
      "outputs": []
    },
    {
      "cell_type": "markdown",
      "source": [
        "**Python Functions**"
      ],
      "metadata": {
        "id": "QI91U09VlbyT"
      }
    },
    {
      "cell_type": "markdown",
      "source": [
        "A function is a block of code which only runs when it is called.\n",
        "\n",
        "You can pass data, known as parameters, into a function.\n",
        "\n",
        "A function can return data as a result.\n",
        "\n",
        "**Creating a Function**\n",
        "In Python a function is defined using the def keyword:"
      ],
      "metadata": {
        "id": "IFCZsreMlc62"
      }
    },
    {
      "cell_type": "code",
      "source": [
        "def my_function():\n",
        "  print(\"Hello from a function\")"
      ],
      "metadata": {
        "id": "39_AZxtclght"
      },
      "execution_count": null,
      "outputs": []
    },
    {
      "cell_type": "markdown",
      "source": [
        "**Calling a Function**\n",
        "To call a function, use the function name followed by parenthesis:"
      ],
      "metadata": {
        "id": "gUHZmQ_6ljGN"
      }
    },
    {
      "cell_type": "code",
      "source": [
        "def my_function():\n",
        "  print(\"Hello from a function\")\n",
        "\n",
        "my_function()"
      ],
      "metadata": {
        "id": "5sW_CY1ullu-",
        "outputId": "6431c79d-06ca-4231-d5a7-1b3dc93b5c72",
        "colab": {
          "base_uri": "https://localhost:8080/"
        }
      },
      "execution_count": null,
      "outputs": [
        {
          "output_type": "stream",
          "name": "stdout",
          "text": [
            "Hello from a function\n"
          ]
        }
      ]
    },
    {
      "cell_type": "markdown",
      "source": [
        "**Arguments**\n",
        "Information can be passed into functions as arguments.\n",
        "\n",
        "Arguments are specified after the function name, inside the parentheses. You can add as many arguments as you want, just separate them with a comma.\n",
        "\n",
        "The following example has a function with one argument (fname). When the function is called, we pass along a first name, which is used inside the function to print the full name:"
      ],
      "metadata": {
        "id": "If7kLbVnlpnt"
      }
    },
    {
      "cell_type": "code",
      "source": [
        "def my_function(fname):\n",
        "  print(fname + \" Refsnes\")\n",
        "\n",
        "my_function(\"Emil\")\n",
        "my_function(\"Tobias\")\n",
        "my_function(\"Linus\")"
      ],
      "metadata": {
        "id": "thzg3SlGln3j",
        "outputId": "37592dc8-a5c9-44bd-bfcd-b7aee3c1c806",
        "colab": {
          "base_uri": "https://localhost:8080/"
        }
      },
      "execution_count": null,
      "outputs": [
        {
          "output_type": "stream",
          "name": "stdout",
          "text": [
            "Emil Refsnes\n",
            "Tobias Refsnes\n",
            "Linus Refsnes\n"
          ]
        }
      ]
    },
    {
      "cell_type": "markdown",
      "source": [
        "Arguments are often shortened to args in Python documentations."
      ],
      "metadata": {
        "id": "TeutVngMlwZN"
      }
    },
    {
      "cell_type": "markdown",
      "source": [
        "**Parameters or Arguments?**\n",
        "The terms parameter and argument can be used for the same thing: information that are passed into a function.\n",
        "\n",
        "From a function's perspective:\n",
        "\n",
        "A parameter is the variable listed inside the parentheses in the function definition.\n",
        "\n",
        "An argument is the value that is sent to the function when it is called.\n",
        "\n",
        "**Number of Arguments**\n",
        "By default, a function must be called with the correct number of arguments. Meaning that if your function expects 2 arguments, you have to call the function with 2 arguments, not more, and not less.\n",
        "\n"
      ],
      "metadata": {
        "id": "D661K6XplwyH"
      }
    },
    {
      "cell_type": "code",
      "source": [
        "def my_function(fname, lname):\n",
        "  print(fname + \" \" + lname)\n",
        "\n",
        "my_function(\"Emil\", \"Refsnes\")"
      ],
      "metadata": {
        "id": "Rpy0g17nmAsV",
        "outputId": "386aec5c-2198-4d90-a59a-c7fcc60f80dc",
        "colab": {
          "base_uri": "https://localhost:8080/"
        }
      },
      "execution_count": null,
      "outputs": [
        {
          "output_type": "stream",
          "name": "stdout",
          "text": [
            "Emil Refsnes\n"
          ]
        }
      ]
    },
    {
      "cell_type": "markdown",
      "source": [
        "If you try to call the function with 1 or 3 arguments, you will get an error:"
      ],
      "metadata": {
        "id": "vkEFMAigmDd8"
      }
    },
    {
      "cell_type": "code",
      "source": [
        "def my_function(fname, lname):\n",
        "  print(fname + \" \" + lname)\n",
        "\n",
        "my_function(\"Emil\")"
      ],
      "metadata": {
        "id": "502wlSlymFF2",
        "outputId": "3f203d24-df4f-4359-a926-bc3e4f2e97ea",
        "colab": {
          "base_uri": "https://localhost:8080/",
          "height": 200
        }
      },
      "execution_count": null,
      "outputs": [
        {
          "output_type": "error",
          "ename": "TypeError",
          "evalue": "ignored",
          "traceback": [
            "\u001b[0;31m---------------------------------------------------------------------------\u001b[0m",
            "\u001b[0;31mTypeError\u001b[0m                                 Traceback (most recent call last)",
            "\u001b[0;32m<ipython-input-5-49655f8043be>\u001b[0m in \u001b[0;36m<cell line: 4>\u001b[0;34m()\u001b[0m\n\u001b[1;32m      2\u001b[0m   \u001b[0mprint\u001b[0m\u001b[0;34m(\u001b[0m\u001b[0mfname\u001b[0m \u001b[0;34m+\u001b[0m \u001b[0;34m\" \"\u001b[0m \u001b[0;34m+\u001b[0m \u001b[0mlname\u001b[0m\u001b[0;34m)\u001b[0m\u001b[0;34m\u001b[0m\u001b[0;34m\u001b[0m\u001b[0m\n\u001b[1;32m      3\u001b[0m \u001b[0;34m\u001b[0m\u001b[0m\n\u001b[0;32m----> 4\u001b[0;31m \u001b[0mmy_function\u001b[0m\u001b[0;34m(\u001b[0m\u001b[0;34m\"Emil\"\u001b[0m\u001b[0;34m)\u001b[0m\u001b[0;34m\u001b[0m\u001b[0;34m\u001b[0m\u001b[0m\n\u001b[0m",
            "\u001b[0;31mTypeError\u001b[0m: my_function() missing 1 required positional argument: 'lname'"
          ]
        }
      ]
    },
    {
      "cell_type": "markdown",
      "source": [
        "Arbitrary Arguments, *args **bold text**\n",
        "If you do not know how many arguments that will be passed into your function, add a * before the parameter name in the function definition.\n",
        "\n",
        "This way the function will receive a tuple of arguments, and can access the items accordingly:"
      ],
      "metadata": {
        "id": "y9vSOxwTmIan"
      }
    },
    {
      "cell_type": "code",
      "source": [
        "def my_function(*kids):\n",
        "  print(\"The youngest child is \" + kids[2])\n",
        "\n",
        "my_function(\"Emil\", \"Tobias\", \"Linus\")"
      ],
      "metadata": {
        "id": "BdnTP_PKmH55",
        "outputId": "3fb3450c-6264-446d-f826-e17447533666",
        "colab": {
          "base_uri": "https://localhost:8080/"
        }
      },
      "execution_count": null,
      "outputs": [
        {
          "output_type": "stream",
          "name": "stdout",
          "text": [
            "The youngest child is Linus\n"
          ]
        }
      ]
    },
    {
      "cell_type": "markdown",
      "source": [
        "Arbitrary Arguments are often shortened to *args in Python documentations."
      ],
      "metadata": {
        "id": "xBVJ5qjAmZj4"
      }
    },
    {
      "cell_type": "markdown",
      "source": [
        "**Keyword Arguments**\n",
        "You can also send arguments with the key = value syntax.\n",
        "\n",
        "This way the order of the arguments does not matter."
      ],
      "metadata": {
        "id": "qTPGuthRmbfC"
      }
    },
    {
      "cell_type": "code",
      "source": [
        "def my_function(child3, child2, child1):\n",
        "  print(\"The youngest child is \" + child3)\n",
        "\n",
        "my_function(child1 = \"Emil\", child2 = \"Tobias\", child3 = \"Linus\")"
      ],
      "metadata": {
        "id": "J0r9VKIlmc_a"
      },
      "execution_count": null,
      "outputs": []
    },
    {
      "cell_type": "markdown",
      "source": [
        "The phrase Keyword Arguments are often shortened to kwargs in Python documentations.\n",
        "\n",
        "**Arbitrary Keyword Arguments,** **kwargs\n",
        "If you do not know how many keyword arguments that will be passed into your function, add two asterisk: ** before the parameter name in the function definition.\n",
        "\n",
        "This way the function will receive a dictionary of arguments, and can access the items accordingly:"
      ],
      "metadata": {
        "id": "otSmeDvcmfN1"
      }
    },
    {
      "cell_type": "code",
      "source": [
        "def my_function(**kid):\n",
        "  print(\"His last name is \" + kid[\"lname\"])\n",
        "\n",
        "my_function(fname = \"Tobias\", lname = \"Refsnes\")"
      ],
      "metadata": {
        "id": "cy0RZoaXmvZX"
      },
      "execution_count": null,
      "outputs": []
    },
    {
      "cell_type": "markdown",
      "source": [
        "Arbitrary Kword Arguments are often shortened to **kwargs in Python documentations.\n",
        "\n",
        "**Default Parameter Value**\n",
        "The following example shows how to use a default parameter value.\n",
        "\n",
        "If we call the function without argument, it uses the default value:"
      ],
      "metadata": {
        "id": "7J3WM-MKmxtU"
      }
    },
    {
      "cell_type": "code",
      "source": [
        "def my_function(country = \"Norway\"):\n",
        "  print(\"I am from \" + country)\n",
        "\n",
        "my_function(\"Sweden\")\n",
        "my_function(\"India\")\n",
        "my_function()\n",
        "my_function(\"Brazil\")"
      ],
      "metadata": {
        "id": "SdcKskgKm2qr",
        "outputId": "c6295260-9a9c-4fc2-a5b6-669ee84b963d",
        "colab": {
          "base_uri": "https://localhost:8080/"
        }
      },
      "execution_count": null,
      "outputs": [
        {
          "output_type": "stream",
          "name": "stdout",
          "text": [
            "I am from Sweden\n",
            "I am from India\n",
            "I am from Norway\n",
            "I am from Brazil\n"
          ]
        }
      ]
    },
    {
      "cell_type": "markdown",
      "source": [
        "**Passing a List as an Argument**\n",
        "You can send any data types of argument to a function (string, number, list, dictionary etc.), and it will be treated as the same data type inside the function.\n",
        "\n",
        "E.g. if you send a List as an argument, it will still be a List when it reaches the function:"
      ],
      "metadata": {
        "id": "5wbK0TuInC91"
      }
    },
    {
      "cell_type": "code",
      "source": [
        "def my_function(food):\n",
        "  for x in food:\n",
        "    print(x)\n",
        "\n",
        "fruits = [\"apple\", \"banana\", \"cherry\"]\n",
        "\n",
        "my_function(fruits)"
      ],
      "metadata": {
        "id": "yitnMF_FnEjr",
        "outputId": "e986dcc9-0a93-43b2-f0b2-3b94513d03d4",
        "colab": {
          "base_uri": "https://localhost:8080/"
        }
      },
      "execution_count": null,
      "outputs": [
        {
          "output_type": "stream",
          "name": "stdout",
          "text": [
            "apple\n",
            "banana\n",
            "cherry\n"
          ]
        }
      ]
    },
    {
      "cell_type": "markdown",
      "source": [
        "**Return Values**\n",
        "To let a function return a value, use the return statement:"
      ],
      "metadata": {
        "id": "XvXZHj2wnHPE"
      }
    },
    {
      "cell_type": "code",
      "source": [
        "def my_function(x):\n",
        "  return 5 * x\n",
        "\n",
        "print(my_function(3))\n",
        "print(my_function(5))\n",
        "print(my_function(9))"
      ],
      "metadata": {
        "id": "qzVpVm4EneN5"
      },
      "execution_count": null,
      "outputs": []
    },
    {
      "cell_type": "markdown",
      "source": [
        "**The pass Statement**\n",
        "function definitions cannot be empty, but if you for some reason have a function definition with no content, put in the pass statement to avoid getting an error."
      ],
      "metadata": {
        "id": "nkDaeui2ndiy"
      }
    },
    {
      "cell_type": "code",
      "source": [
        "def myfunction():\n",
        "  pass"
      ],
      "metadata": {
        "id": "kCSL_iXBnqch"
      },
      "execution_count": null,
      "outputs": []
    },
    {
      "cell_type": "markdown",
      "source": [
        "**Recursion**\n",
        "Python also accepts function recursion, which means a defined function can call itself.\n",
        "\n",
        "Recursion is a common mathematical and programming concept. It means that a function calls itself. This has the benefit of meaning that you can loop through data to reach a result.\n",
        "\n",
        "The developer should be very careful with recursion as it can be quite easy to slip into writing a function which never terminates, or one that uses excess amounts of memory or processor power. However, when written correctly recursion can be a very efficient and mathematically-elegant approach to programming.\n",
        "\n",
        "In this example, tri_recursion() is a function that we have defined to call itself (\"recurse\"). We use the k variable as the data, which decrements (-1) every time we recurse. The recursion ends when the condition is not greater than 0 (i.e. when it is 0).\n",
        "\n",
        "To a new developer it can take some time to work out how exactly this works, best way to find out is by testing and modifying it."
      ],
      "metadata": {
        "id": "iqHh0fTbnrJV"
      }
    },
    {
      "cell_type": "code",
      "source": [
        "def tri_recursion(k):\n",
        "  if(k > 0):\n",
        "    result = k + tri_recursion(k - 1)\n",
        "    print(result)\n",
        "  else:\n",
        "    result = 0\n",
        "  return result\n",
        "\n",
        "print(\"\\n\\nRecursion Example Results\")\n",
        "tri_recursion(6)"
      ],
      "metadata": {
        "id": "_439E6GMnuym",
        "outputId": "98916984-0864-45ad-c94b-1e906fdcd82a",
        "colab": {
          "base_uri": "https://localhost:8080/"
        }
      },
      "execution_count": null,
      "outputs": [
        {
          "output_type": "stream",
          "name": "stdout",
          "text": [
            "\n",
            "\n",
            "Recursion Example Results\n",
            "1\n",
            "3\n",
            "6\n",
            "10\n",
            "15\n",
            "21\n"
          ]
        },
        {
          "output_type": "execute_result",
          "data": {
            "text/plain": [
              "21"
            ]
          },
          "metadata": {},
          "execution_count": 11
        }
      ]
    },
    {
      "cell_type": "markdown",
      "source": [
        "**Python Lambda**"
      ],
      "metadata": {
        "id": "RV3CPvtZoRto"
      }
    },
    {
      "cell_type": "markdown",
      "source": [
        "A lambda function is a small anonymous function.\n",
        "\n",
        "A lambda function can take any number of arguments, but can only have one expression.\n",
        "\n",
        "Syntax\n",
        "lambda arguments : expression\n",
        "The expression is executed and the result is returned:"
      ],
      "metadata": {
        "id": "Bu_WmhCxoSwN"
      }
    },
    {
      "cell_type": "code",
      "source": [],
      "metadata": {
        "id": "HnGCRYMFoayO"
      },
      "execution_count": null,
      "outputs": []
    }
  ]
}