{
  "nbformat": 4,
  "nbformat_minor": 0,
  "metadata": {
    "colab": {
      "provenance": [],
      "authorship_tag": "ABX9TyN7xIwv98xDeAIcwPdOJOQ7",
      "include_colab_link": true
    },
    "kernelspec": {
      "name": "python3",
      "display_name": "Python 3"
    },
    "language_info": {
      "name": "python"
    }
  },
  "cells": [
    {
      "cell_type": "markdown",
      "metadata": {
        "id": "view-in-github",
        "colab_type": "text"
      },
      "source": [
        "<a href=\"https://colab.research.google.com/github/alxbruno/python_lessons/blob/main/Colab/challenges01.ipynb\" target=\"_parent\"><img src=\"https://colab.research.google.com/assets/colab-badge.svg\" alt=\"Open In Colab\"/></a>"
      ]
    },
    {
      "cell_type": "markdown",
      "source": [
        "Challenge 001"
      ],
      "metadata": {
        "id": "7eiiXc-GqnbU"
      }
    },
    {
      "cell_type": "code",
      "execution_count": 32,
      "metadata": {
        "id": "taNmfnq4qM7j",
        "colab": {
          "base_uri": "https://localhost:8080/"
        },
        "outputId": "1678b5b1-d70d-4757-dbe5-99bc8642a7c8"
      },
      "outputs": [
        {
          "output_type": "stream",
          "name": "stdout",
          "text": [
            "Enter first name and surname: Alex Bruno\n",
            "Hello Alex Bruno\n"
          ]
        }
      ],
      "source": [
        "x=input(\"Enter username: \")\n",
        "y=\"Hello \"\n",
        "print(y+x)\n",
        "\n"
      ]
    },
    {
      "cell_type": "code",
      "execution_count": 30,
      "metadata": {
        "outputId": "e08e46be-c294-41ab-8b43-eadf2dd2e2d5",
        "colab": {
          "base_uri": "https://localhost:8080/"
        },
        "id": "QsLMLUdO3I0L"
      },
      "outputs": [
        {
          "output_type": "stream",
          "name": "stdout",
          "text": [
            "Enter username: zaza\n",
            "Hello zaza\n"
          ]
        }
      ],
      "source": [
        "x=input(\"Enter username: \")\n",
        "print(\"Hello \"+x)\n",
        "\n"
      ]
    },
    {
      "cell_type": "markdown",
      "source": [
        "Challenge 002"
      ],
      "metadata": {
        "id": "YSK7pclS-CX6"
      }
    },
    {
      "cell_type": "code",
      "source": [
        "x=input(\"What is your first name: \")\n",
        "y=input(\"What is your surname: \")\n",
        "print(\"Hello \" + x + \" \" + y)"
      ],
      "metadata": {
        "colab": {
          "base_uri": "https://localhost:8080/"
        },
        "id": "FG_U9Ak2-E1R",
        "outputId": "c5918cce-0d14-4c07-8867-56dc4aaeb072"
      },
      "execution_count": 37,
      "outputs": [
        {
          "output_type": "stream",
          "name": "stdout",
          "text": [
            "What is your first name: Alex\n",
            "what is your surname: Bruno\n",
            "Hello Alex Bruno\n"
          ]
        }
      ]
    },
    {
      "cell_type": "markdown",
      "source": [
        "Challenge 003"
      ],
      "metadata": {
        "id": "yhKRS2KU_4IJ"
      }
    },
    {
      "cell_type": "code",
      "source": [
        "print(\"What do you call a bear with no teeth \\n a gummy bear!\")"
      ],
      "metadata": {
        "colab": {
          "base_uri": "https://localhost:8080/"
        },
        "id": "I1t3_cGnAGek",
        "outputId": "8ff38b66-f380-4603-fb0b-d53ff5486ca1"
      },
      "execution_count": 45,
      "outputs": [
        {
          "output_type": "stream",
          "name": "stdout",
          "text": [
            "what do you call a bear with no teeth \n",
            " a gummy bear!\n"
          ]
        }
      ]
    },
    {
      "cell_type": "markdown",
      "source": [
        "Challenge 004\n",
        "\n",
        "I created a variable called x and had a user choose a random number and put the random number in x\n",
        "\n",
        "I created a variable called y and had a user choose a random number and put the random number in y\n",
        "\n"
      ],
      "metadata": {
        "id": "t8uryGl1D0rN"
      }
    },
    {
      "cell_type": "code",
      "source": [
        "x=int(input(\"Enter a number: \"))\n",
        "y=int(input(\"Enter a number: \"))\n",
        "print(\"The total is \")\n",
        "print(x+y)"
      ],
      "metadata": {
        "colab": {
          "base_uri": "https://localhost:8080/"
        },
        "id": "cR5oX7H0D0Rr",
        "outputId": "1adedf58-a371-41d4-e528-36a04de8ef84"
      },
      "execution_count": 55,
      "outputs": [
        {
          "output_type": "stream",
          "name": "stdout",
          "text": [
            "enter a number: 30\n",
            "enter a number: 11\n",
            "The total is \n",
            "41\n"
          ]
        }
      ]
    },
    {
      "cell_type": "code",
      "source": [
        "x=int(input(\"Enter a number: \"))\n",
        "y=int(input(\"Enter a number: \"))\n",
        "z = x+y\n",
        "print(\"The total is\\n\", z)"
      ],
      "metadata": {
        "outputId": "a00d1476-69a7-4b83-9858-3d3bceb5e638",
        "colab": {
          "base_uri": "https://localhost:8080/"
        },
        "id": "V6Xv6EfCIVMD"
      },
      "execution_count": 108,
      "outputs": [
        {
          "output_type": "stream",
          "name": "stdout",
          "text": [
            "enter a number: 4\n",
            "enter a number: 5\n",
            "The total is\n",
            " 9\n"
          ]
        }
      ]
    },
    {
      "cell_type": "markdown",
      "source": [
        "challenge 005"
      ],
      "metadata": {
        "id": "etW-eoMWTNmI"
      }
    },
    {
      "cell_type": "code",
      "source": [
        "x=int(input(\"Enter a number: \"))\n",
        "y=int(input(\"Enter a number: \"))\n",
        "z=int(input(\"Enter a number: \"))\n",
        "print(\"The answer is\")\n",
        "c=(x+y)*z\n",
        "print(c)"
      ],
      "metadata": {
        "colab": {
          "base_uri": "https://localhost:8080/"
        },
        "id": "qoPrlC4CTQWH",
        "outputId": "26adabfb-e3b8-4fbd-9a34-e5d4bfb6b2de"
      },
      "execution_count": 115,
      "outputs": [
        {
          "output_type": "stream",
          "name": "stdout",
          "text": [
            "enter a number: 123\n",
            "enter a number: 23\n",
            "enter a number: 14\n",
            "The answer is\n"
          ]
        },
        {
          "output_type": "execute_result",
          "data": {
            "text/plain": [
              "2044"
            ]
          },
          "metadata": {},
          "execution_count": 115
        }
      ]
    },
    {
      "cell_type": "code",
      "source": [
        "x=int(input(\"Enter a number: \"))\n",
        "y=int(input(\"Enter a number: \"))\n",
        "z=int(input(\"Enter a number: \"))\n",
        "c=(x+y)*z\n",
        "print(\"The answer is\\n\", c)"
      ],
      "metadata": {
        "colab": {
          "base_uri": "https://localhost:8080/"
        },
        "id": "-7tejoW8UAEw",
        "outputId": "99a9ee22-c426-4e66-d270-0d04bf09d61b"
      },
      "execution_count": 117,
      "outputs": [
        {
          "output_type": "stream",
          "name": "stdout",
          "text": [
            "enter a number: 3\n",
            "enter a number: 2\n",
            "enter a number: 2\n",
            "The answer is\n",
            " 10\n"
          ]
        }
      ]
    },
    {
      "cell_type": "markdown",
      "source": [
        "challenge 006"
      ],
      "metadata": {
        "id": "x2Wia-_7hzRt"
      }
    },
    {
      "cell_type": "code",
      "source": [
        "x=int(input(\"How many pizza slices do you have \"))\n",
        "y=int(input(\"How many pizza slices have you eaten \"))\n",
        "(x-y)"
      ],
      "metadata": {
        "colab": {
          "base_uri": "https://localhost:8080/"
        },
        "id": "CtkggyXBh3RL",
        "outputId": "5077e689-12ab-4cb6-e1e7-2cd93c125b01"
      },
      "execution_count": 121,
      "outputs": [
        {
          "name": "stdout",
          "output_type": "stream",
          "text": [
            "how many pizza slices do you have 3\n",
            "how many pizza slices have you eaten 1\n"
          ]
        },
        {
          "output_type": "execute_result",
          "data": {
            "text/plain": [
              "2"
            ]
          },
          "metadata": {},
          "execution_count": 121
        }
      ]
    },
    {
      "cell_type": "markdown",
      "source": [
        "Challenge 7"
      ],
      "metadata": {
        "id": "TqtWppiejr9t"
      }
    },
    {
      "cell_type": "code",
      "source": [
        "x=str(input(\"Whats your name :\"))\n",
        "y=int(input(\"How old are you :\"))\n",
        "print(\"On your next birthday you will be\")\n",
        "(y+1)"
      ],
      "metadata": {
        "colab": {
          "base_uri": "https://localhost:8080/"
        },
        "id": "lebfwWInjxbc",
        "outputId": "ec7a9a0e-67c3-412b-8ae5-7be97a056fa1"
      },
      "execution_count": 130,
      "outputs": [
        {
          "output_type": "stream",
          "name": "stdout",
          "text": [
            "whats your name :Raqueline\n",
            "how old are you :47\n",
            "on your next birthday you will be\n"
          ]
        },
        {
          "output_type": "execute_result",
          "data": {
            "text/plain": [
              "48"
            ]
          },
          "metadata": {},
          "execution_count": 130
        }
      ]
    },
    {
      "cell_type": "markdown",
      "source": [
        "Challenge 008"
      ],
      "metadata": {
        "id": "Ltg1aFN4mRFc"
      }
    },
    {
      "cell_type": "code",
      "source": [
        "x=int(input(\"Whats the total price of the bill? \"))\n",
        "y=int(input(\"How many diners are there? \"))\n",
        "print(\"This is how much each person has to pay \")\n",
        "(x/y)"
      ],
      "metadata": {
        "colab": {
          "base_uri": "https://localhost:8080/"
        },
        "id": "NPiDNAOHmQls",
        "outputId": "69560f60-48b8-4405-db07-8e70af6d5282"
      },
      "execution_count": 138,
      "outputs": [
        {
          "output_type": "stream",
          "name": "stdout",
          "text": [
            "Whats the total price of the bill? 500\n",
            "How many diners are there? 24\n",
            "This is how much each person has to pay \n"
          ]
        },
        {
          "output_type": "execute_result",
          "data": {
            "text/plain": [
              "20.833333333333332"
            ]
          },
          "metadata": {},
          "execution_count": 138
        }
      ]
    },
    {
      "cell_type": "markdown",
      "source": [
        "Challenge 009"
      ],
      "metadata": {
        "id": "XLJMk6BvonYQ"
      }
    },
    {
      "cell_type": "code",
      "source": [
        "x=int(input(\"Choose a random amount of days \"))\n",
        "H=24\n",
        "print(\"There are this amount of hours\")\n",
        "print(H*x)\n",
        "M=1440\n",
        "print(\"There are this many minutes\")\n",
        "print(M*x)\n",
        "S=86400\n",
        "print(\"There are this amount of seconds\")\n",
        "print(S*x)"
      ],
      "metadata": {
        "colab": {
          "base_uri": "https://localhost:8080/"
        },
        "id": "TNZ7SUo0o1DZ",
        "outputId": "f85da109-5037-4db0-bf62-90cdb03df780"
      },
      "execution_count": 149,
      "outputs": [
        {
          "output_type": "stream",
          "name": "stdout",
          "text": [
            "Choose a random amount of days 1\n",
            "There are this amount of hours\n",
            "24\n",
            "There are this many minutes\n",
            "1440\n",
            "There are this amount of seconds\n",
            "86400\n"
          ]
        }
      ]
    },
    {
      "cell_type": "markdown",
      "source": [
        "challenge 010"
      ],
      "metadata": {
        "id": "IHQbC8CFt6XP"
      }
    },
    {
      "cell_type": "code",
      "source": [
        "x=int(input(\"Choose a random amount of kilograms \"))\n",
        "K=2204\n",
        "print(\"There are this many pounds in that amount of kilograms\")\n",
        "print(K*x)"
      ],
      "metadata": {
        "id": "Kbc0JQIyt8ki",
        "outputId": "d0d82cee-bec0-493a-df7a-feecddb85002",
        "colab": {
          "base_uri": "https://localhost:8080/"
        }
      },
      "execution_count": 153,
      "outputs": [
        {
          "output_type": "stream",
          "name": "stdout",
          "text": [
            "Choose a random amount of kilograms 1\n",
            "There are this many pounds in that amount of kilograms\n",
            "2204\n"
          ]
        }
      ]
    },
    {
      "cell_type": "markdown",
      "source": [
        "Challenge 011"
      ],
      "metadata": {
        "id": "LuK2uryyu-XD"
      }
    },
    {
      "cell_type": "code",
      "source": [
        "x=int(input(\"Choose a number above 100 \"))\n",
        "y=int(input(\"Choose a number under 10 \"))\n",
        "print(\"That number under 10 goes in the number bigger than 100 this many times \")\n",
        "print(x//y)"
      ],
      "metadata": {
        "id": "DglgqkCqu90T",
        "outputId": "2812731e-d8c0-407d-fa08-921b6eb8de7e",
        "colab": {
          "base_uri": "https://localhost:8080/"
        }
      },
      "execution_count": 156,
      "outputs": [
        {
          "output_type": "stream",
          "name": "stdout",
          "text": [
            "Choose a number above 100 110\n",
            "Choose a number under 10 9\n",
            "That number under 10 goes in the number bigger than 100 this many times \n",
            "12\n"
          ]
        }
      ]
    }
  ]
}