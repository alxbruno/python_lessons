{
  "nbformat": 4,
  "nbformat_minor": 0,
  "metadata": {
    "colab": {
      "provenance": [],
      "authorship_tag": "ABX9TyOoyekQnac/ztEazd64e4EN",
      "include_colab_link": true
    },
    "kernelspec": {
      "name": "python3",
      "display_name": "Python 3"
    },
    "language_info": {
      "name": "python"
    }
  },
  "cells": [
    {
      "cell_type": "markdown",
      "metadata": {
        "id": "view-in-github",
        "colab_type": "text"
      },
      "source": [
        "<a href=\"https://colab.research.google.com/github/alxbruno/python_lessons/blob/main/Colab/challenges01.ipynb\" target=\"_parent\"><img src=\"https://colab.research.google.com/assets/colab-badge.svg\" alt=\"Open In Colab\"/></a>"
      ]
    },
    {
      "cell_type": "markdown",
      "source": [
        "Challenger 001"
      ],
      "metadata": {
        "id": "7eiiXc-GqnbU"
      }
    },
    {
      "cell_type": "code",
      "execution_count": 26,
      "metadata": {
        "id": "taNmfnq4qM7j",
        "colab": {
          "base_uri": "https://localhost:8080/"
        },
        "outputId": "e925cf20-cf4f-4dac-d5c3-8facd40f60a1"
      },
      "outputs": [
        {
          "output_type": "stream",
          "name": "stdout",
          "text": [
            "Enter username: zaza\n",
            "Hello zaza\n"
          ]
        }
      ],
      "source": [
        "x=input(\"Enter username: \")\n",
        "y=\"Hello \"\n",
        "print(y+x)\n",
        "\n"
      ]
    },
    {
      "cell_type": "code",
      "execution_count": 30,
      "metadata": {
        "outputId": "e08e46be-c294-41ab-8b43-eadf2dd2e2d5",
        "colab": {
          "base_uri": "https://localhost:8080/"
        },
        "id": "QsLMLUdO3I0L"
      },
      "outputs": [
        {
          "output_type": "stream",
          "name": "stdout",
          "text": [
            "Enter username: zaza\n",
            "Hello zaza\n"
          ]
        }
      ],
      "source": [
        "x=input(\"Enter username: \")\n",
        "print(\"Hello \"+x)\n",
        "\n"
      ]
    }
  ]
}