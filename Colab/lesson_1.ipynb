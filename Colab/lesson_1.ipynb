{
  "nbformat": 4,
  "nbformat_minor": 0,
  "metadata": {
    "colab": {
      "provenance": [],
      "authorship_tag": "ABX9TyNKMb+eu+ZsaMMmBaQqA/jx",
      "include_colab_link": true
    },
    "kernelspec": {
      "name": "python3",
      "display_name": "Python 3"
    },
    "language_info": {
      "name": "python"
    }
  },
  "cells": [
    {
      "cell_type": "markdown",
      "metadata": {
        "id": "view-in-github",
        "colab_type": "text"
      },
      "source": [
        "<a href=\"https://colab.research.google.com/github/alxbruno/python_lessons/blob/main/Colab/lesson_1.ipynb\" target=\"_parent\"><img src=\"https://colab.research.google.com/assets/colab-badge.svg\" alt=\"Open In Colab\"/></a>"
      ]
    },
    {
      "cell_type": "markdown",
      "source": [
        "This lesson belongs to the W3School - Python course -> https://www.w3schools.com/python/"
      ],
      "metadata": {
        "id": "QKWMqMrHhD-E"
      }
    },
    {
      "cell_type": "code",
      "execution_count": 2,
      "metadata": {
        "id": "mejFSaNlaPwY",
        "colab": {
          "base_uri": "https://localhost:8080/"
        },
        "outputId": "98ad46f6-2b6d-4e5c-a0e7-90b14bd81391"
      },
      "outputs": [
        {
          "output_type": "stream",
          "name": "stdout",
          "text": [
            "Alex\n",
            "Igor\n"
          ]
        }
      ],
      "source": [
        "name='Alex'\n",
        "print(name)\n",
        "name='Igor'\n",
        "print(name)"
      ]
    }
  ]
}