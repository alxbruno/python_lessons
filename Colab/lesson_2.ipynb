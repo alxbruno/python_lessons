{
  "nbformat": 4,
  "nbformat_minor": 0,
  "metadata": {
    "colab": {
      "provenance": [],
      "authorship_tag": "ABX9TyNfT5HbTnmVGxD4S9+ZGLrF",
      "include_colab_link": true
    },
    "kernelspec": {
      "name": "python3",
      "display_name": "Python 3"
    },
    "language_info": {
      "name": "python"
    }
  },
  "cells": [
    {
      "cell_type": "markdown",
      "metadata": {
        "id": "view-in-github",
        "colab_type": "text"
      },
      "source": [
        "<a href=\"https://colab.research.google.com/github/alxbruno/python_lessons/blob/main/Colab/lesson_2.ipynb\" target=\"_parent\"><img src=\"https://colab.research.google.com/assets/colab-badge.svg\" alt=\"Open In Colab\"/></a>"
      ]
    },
    {
      "cell_type": "markdown",
      "source": [
        "**Python Variables**\n",
        "\n",
        "**Variables**\n",
        "Variables are containers for storing data values.\n",
        "\n",
        "**Creating Variables**\n",
        "Python has no command for declaring a variable.\n",
        "\n",
        "A variable is created the moment you first assign a value to it.\n",
        "\n"
      ],
      "metadata": {
        "id": "yM_kLz77Hgyt"
      }
    },
    {
      "cell_type": "code",
      "execution_count": null,
      "metadata": {
        "colab": {
          "base_uri": "https://localhost:8080/"
        },
        "id": "3Ac5wuwlHekH",
        "outputId": "041ecc5b-fbd6-4151-d4c8-1fce54c11ce5"
      },
      "outputs": [
        {
          "output_type": "stream",
          "name": "stdout",
          "text": [
            "5\n",
            "john\n"
          ]
        }
      ],
      "source": [
        "x=5\n",
        "y=\"john\"\n",
        "print(x)\n",
        "print(y)"
      ]
    },
    {
      "cell_type": "markdown",
      "source": [
        "Variables do not need to be declared with any particular type, and can even change type after they have been set."
      ],
      "metadata": {
        "id": "eUyVDJSnIA5H"
      }
    },
    {
      "cell_type": "code",
      "source": [
        "x=4   # x is of type int\n",
        "y=\"sally\" #x is now of str\n",
        "print(x)"
      ],
      "metadata": {
        "colab": {
          "base_uri": "https://localhost:8080/"
        },
        "id": "4c0FsoyCICLI",
        "outputId": "ddd9874b-b62c-4752-b3c6-e351e7fea992"
      },
      "execution_count": null,
      "outputs": [
        {
          "output_type": "stream",
          "name": "stdout",
          "text": [
            "4\n"
          ]
        }
      ]
    },
    {
      "cell_type": "markdown",
      "source": [
        "**Casting**\n",
        "\n",
        "If you want to specify the data type of a variable, this can be done with casting.\n",
        "\n"
      ],
      "metadata": {
        "id": "G_qLGhxGJGuY"
      }
    },
    {
      "cell_type": "code",
      "source": [
        "x=str (3)   # x will be '3'\n",
        "y=int (3)   # y will be  3\n",
        "z=float(3)  # z will be  3.0"
      ],
      "metadata": {
        "id": "hySYU07QJLUR"
      },
      "execution_count": null,
      "outputs": []
    },
    {
      "cell_type": "markdown",
      "source": [
        "**Get the Type**\n",
        "\n",
        "You can get the data type of a variable with the type() function.\n",
        "\n"
      ],
      "metadata": {
        "id": "cEin3o6RK_hy"
      }
    },
    {
      "cell_type": "code",
      "source": [
        "x=5\n",
        "y=\"john\"\n",
        "print(type(x))\n",
        "print(type(y))"
      ],
      "metadata": {
        "colab": {
          "base_uri": "https://localhost:8080/"
        },
        "id": "4f2xI6B-LClB",
        "outputId": "a6c7fa1f-6580-4eff-cafe-5e93f9f43b90"
      },
      "execution_count": null,
      "outputs": [
        {
          "output_type": "stream",
          "name": "stdout",
          "text": [
            "<class 'int'>\n",
            "<class 'str'>\n"
          ]
        }
      ]
    },
    {
      "cell_type": "markdown",
      "source": [
        "**Single or Double Quotes?**\n",
        "\n",
        "String variables can be declared either by using single or double quotes:\n",
        "\n"
      ],
      "metadata": {
        "id": "mLRfW7yELd5Q"
      }
    },
    {
      "cell_type": "code",
      "source": [
        "x=\"john\"\n",
        "# is the same as\n",
        "x='john'"
      ],
      "metadata": {
        "id": "Q3wRPJl2Lldg"
      },
      "execution_count": null,
      "outputs": []
    },
    {
      "cell_type": "markdown",
      "source": [
        "**Case-Sensitive**\n",
        "\n",
        "Variable names are case-sensitive.\n",
        "\n"
      ],
      "metadata": {
        "id": "l8Kp1wYlMG8y"
      }
    },
    {
      "cell_type": "code",
      "source": [
        "a=4\n",
        "A=\"sally\"\n",
        "#A will not overwrite a"
      ],
      "metadata": {
        "id": "3od0yAiKMLIU"
      },
      "execution_count": null,
      "outputs": []
    },
    {
      "cell_type": "markdown",
      "source": [
        "**Python - Variable Names**\n",
        "\n",
        "**variable names**\n",
        "A variable can have a short name (like x and y) or a more descriptive name (age, carname, total_volume). Rules for Python variables:\n",
        "A variable name must start with a letter or the underscore character\n",
        "A variable name cannot start with a number\n",
        "A variable name can only contain alpha-numeric characters and underscores (A-z, 0-9, and _ )\n",
        "Variable names are case-sensitive (age, Age and AGE are three different variables)\n",
        "A variable name cannot be any of the Python keywords.\n",
        "\n"
      ],
      "metadata": {
        "id": "zjOQ_PyFOnLo"
      }
    },
    {
      "cell_type": "code",
      "source": [
        "myvar=\"John\"\n",
        "my_var=\"John\"\n",
        "_my_var = \"John\"\n",
        "myVar = \"John\"\n",
        "MYVAR = \"John\"\n",
        "myvar2 = \"John\""
      ],
      "metadata": {
        "id": "QEqSHC2rN52m"
      },
      "execution_count": null,
      "outputs": []
    },
    {
      "cell_type": "markdown",
      "source": [
        "incorrect way"
      ],
      "metadata": {
        "id": "1rcV5OlkPIc2"
      }
    },
    {
      "cell_type": "code",
      "source": [
        "2myvar=\"john\"\n",
        "my-var = \"John\"\n",
        "my var = \"John\"\n"
      ],
      "metadata": {
        "id": "fMucuLhEOxAr",
        "outputId": "1d6b8c32-2981-45bb-8fbf-fea8c77add60",
        "colab": {
          "base_uri": "https://localhost:8080/",
          "height": 130
        }
      },
      "execution_count": null,
      "outputs": [
        {
          "output_type": "error",
          "ename": "SyntaxError",
          "evalue": "ignored",
          "traceback": [
            "\u001b[0;36m  File \u001b[0;32m\"<ipython-input-2-eb200b8af75c>\"\u001b[0;36m, line \u001b[0;32m1\u001b[0m\n\u001b[0;31m    2myvar=\"john\"\u001b[0m\n\u001b[0m    ^\u001b[0m\n\u001b[0;31mSyntaxError\u001b[0m\u001b[0;31m:\u001b[0m invalid decimal literal\n"
          ]
        }
      ]
    },
    {
      "cell_type": "markdown",
      "source": [
        "**Multi Words Variable Names**\n",
        "Variable names with more than one word can be difficult to read.\n",
        "\n",
        "There are several techniques you can use to make them more readable:\n",
        "\n",
        "**Camel Case**\n",
        "Each word, except the first, starts with a capital letter:"
      ],
      "metadata": {
        "id": "KeCg9SGWPSJ9"
      }
    },
    {
      "cell_type": "code",
      "source": [
        "myVariablename=\"John\""
      ],
      "metadata": {
        "id": "1kf2DZmlPUiO"
      },
      "execution_count": null,
      "outputs": []
    },
    {
      "cell_type": "markdown",
      "source": [
        "**Pascal Case**\n",
        "\n",
        "Each word starts with a capital letter:"
      ],
      "metadata": {
        "id": "0zNxp8J_Ph7U"
      }
    },
    {
      "cell_type": "code",
      "source": [
        "MyVariableName=\"John\""
      ],
      "metadata": {
        "id": "CyfUcLHLPycm"
      },
      "execution_count": null,
      "outputs": []
    },
    {
      "cell_type": "markdown",
      "source": [
        "**Snake Case**\n",
        "\n",
        "Each word is separated by an underscore character:"
      ],
      "metadata": {
        "id": "u_jo1X-gaQP-"
      }
    },
    {
      "cell_type": "code",
      "source": [
        "my_variable_name=\"John\""
      ],
      "metadata": {
        "id": "X7vQcllKagub"
      },
      "execution_count": null,
      "outputs": []
    },
    {
      "cell_type": "markdown",
      "source": [
        "**Python - Output Variables**\n",
        "\n",
        "**Output Variables**\n",
        "\n",
        "The Python print() function is often used to output variables."
      ],
      "metadata": {
        "id": "MAbNzvcx8LJC"
      }
    },
    {
      "cell_type": "code",
      "source": [
        "x=\"python is awsome\"\n",
        "print(x)"
      ],
      "metadata": {
        "id": "zboIGAS88VsJ",
        "outputId": "f5ec9ed8-2b11-4bf8-8161-e1d88a125253",
        "colab": {
          "base_uri": "https://localhost:8080/"
        }
      },
      "execution_count": null,
      "outputs": [
        {
          "output_type": "stream",
          "name": "stdout",
          "text": [
            "python is awsome\n"
          ]
        }
      ]
    },
    {
      "cell_type": "markdown",
      "source": [
        "In the print() function, you output multiple variables, separated by a comma:"
      ],
      "metadata": {
        "id": "zI2EWHqG8kNy"
      }
    },
    {
      "cell_type": "code",
      "source": [
        "x=\"python\"\n",
        "y=\"is\"\n",
        "z=\"awsome\"\n",
        "print(x,y,z)"
      ],
      "metadata": {
        "id": "BBzkHso78nPR",
        "outputId": "acb62fbd-b852-4d36-bc3a-937428dd7913",
        "colab": {
          "base_uri": "https://localhost:8080/"
        }
      },
      "execution_count": null,
      "outputs": [
        {
          "output_type": "stream",
          "name": "stdout",
          "text": [
            "python is awsome\n"
          ]
        }
      ]
    },
    {
      "cell_type": "markdown",
      "source": [
        "You can also use the + operator to output multiple variables:"
      ],
      "metadata": {
        "id": "W7q4TfgE88Ty"
      }
    },
    {
      "cell_type": "code",
      "source": [
        "x=\"python \"\n",
        "y=\"is \"\n",
        "z=\"awsome \"\n",
        "print(x+y+z)"
      ],
      "metadata": {
        "id": "lGxgUggr8-nc",
        "outputId": "040b1b49-b9e8-48b4-ecca-5cd33ef130ef",
        "colab": {
          "base_uri": "https://localhost:8080/"
        }
      },
      "execution_count": null,
      "outputs": [
        {
          "output_type": "stream",
          "name": "stdout",
          "text": [
            "python is awsome \n"
          ]
        }
      ]
    },
    {
      "cell_type": "markdown",
      "source": [
        "Notice the space character after \"Python \" and \"is \", without them the result would be \"Pythonisawesome\"."
      ],
      "metadata": {
        "id": "jpdB6Agf9Wcd"
      }
    },
    {
      "cell_type": "markdown",
      "source": [
        "\n",
        "For numbers, the + character works as a mathematical operator:"
      ],
      "metadata": {
        "id": "PIUGn1Mn9YwA"
      }
    },
    {
      "cell_type": "code",
      "source": [
        "x=5\n",
        "y=10\n",
        "print(x+y)"
      ],
      "metadata": {
        "id": "Yp02sSRl9fOY",
        "outputId": "f5a65dad-3435-44d6-ad97-2157d1bc88bd",
        "colab": {
          "base_uri": "https://localhost:8080/"
        }
      },
      "execution_count": null,
      "outputs": [
        {
          "output_type": "stream",
          "name": "stdout",
          "text": [
            "15\n"
          ]
        }
      ]
    },
    {
      "cell_type": "markdown",
      "source": [
        "In the print() function, when you try to combine a string and a number with the + operator, Python will give you an error:"
      ],
      "metadata": {
        "id": "itEDNkXg9pmg"
      }
    },
    {
      "cell_type": "markdown",
      "source": [
        "improper way is"
      ],
      "metadata": {
        "id": "yGsP3j6S9yVl"
      }
    },
    {
      "cell_type": "code",
      "source": [
        "x=5\n",
        "y=\"john\"\n",
        "print(x+y)"
      ],
      "metadata": {
        "id": "bAFvM4ty91zX"
      },
      "execution_count": null,
      "outputs": []
    },
    {
      "cell_type": "markdown",
      "source": [
        "The best way to output multiple variables in the print() function is to separate them with commas, which even support different data types:"
      ],
      "metadata": {
        "id": "8dpdu1ls9-gp"
      }
    },
    {
      "cell_type": "code",
      "source": [
        "x=5\n",
        "y=\"john\"\n",
        "print(x,y)"
      ],
      "metadata": {
        "id": "RWBtpfQh-Bp7",
        "outputId": "dfb30fc5-e8eb-4f18-cc9a-f687e811b9fb",
        "colab": {
          "base_uri": "https://localhost:8080/"
        }
      },
      "execution_count": null,
      "outputs": [
        {
          "output_type": "stream",
          "name": "stdout",
          "text": [
            "5 john\n"
          ]
        }
      ]
    },
    {
      "cell_type": "markdown",
      "source": [
        "**Python - Global Variables**\n",
        "\n",
        "**Global Variables**\n",
        "Variables that are created outside of a function (as in all of the examples above) are known as global variables.\n",
        "\n",
        "Global variables can be used by everyone, both inside of functions and outside.\n",
        "\n"
      ],
      "metadata": {
        "id": "MUrT38nzpsP4"
      }
    },
    {
      "cell_type": "code",
      "source": [
        "# x is a global variable\n",
        "x=\"awsome\"\n",
        "\n",
        "\n",
        "def aba():\n",
        "    global y\n",
        "    y = \"smart\"\n",
        "    print(\"Alex is \"+ x )\n",
        "    #print(\"Alex is \" + z)\n",
        "    print(\"Alex is \" + y)\n",
        "\n",
        "\n",
        "aba()\n",
        "print(x)\n",
        "\n",
        "\n",
        "\n",
        "def ila():\n",
        "    # z is a local variable\n",
        "    z = \"beatiful\"\n",
        "    x = \"ugly\"\n",
        "    print(\"Igor is \" + x)\n",
        "    print(z)\n",
        "    print(\"Igor is \" + z)\n",
        "    print(\"Igor is also \" + y)\n",
        "\n",
        "\n",
        "#print(z)\n",
        "ila()\n",
        "print(x)\n",
        "print(y)"
      ],
      "metadata": {
        "id": "JRwVr_v8pyh2",
        "outputId": "bdca7486-f3e5-45fc-bc95-89252eb01816",
        "colab": {
          "base_uri": "https://localhost:8080/"
        }
      },
      "execution_count": 15,
      "outputs": [
        {
          "output_type": "stream",
          "name": "stdout",
          "text": [
            "Alex is awsome\n",
            "Alex is smart\n",
            "awsome\n",
            "Igor is ugly\n",
            "beatiful\n",
            "Igor is beatiful\n",
            "Igor is also smart\n",
            "awsome\n",
            "smart\n"
          ]
        }
      ]
    },
    {
      "cell_type": "markdown",
      "source": [
        "If you create a variable with the same name inside a function, this variable will be local, and can only be used inside the function. The global variable with the same name will remain as it was, global and with the original value."
      ],
      "metadata": {
        "id": "cVpYzUAUqvdy"
      }
    },
    {
      "cell_type": "code",
      "source": [
        "x = \"awesome\"\n",
        "\n",
        "def myfunc():\n",
        "  x = \"fantastic\"\n",
        "  print(\"Python is \" + x)\n",
        "\n",
        "myfunc()\n",
        "\n",
        "print(\"Python is \" + x)"
      ],
      "metadata": {
        "id": "AktEX0LFq0ld",
        "outputId": "5bce81b1-2659-489a-882e-7e336770f7eb",
        "colab": {
          "base_uri": "https://localhost:8080/"
        }
      },
      "execution_count": 4,
      "outputs": [
        {
          "output_type": "stream",
          "name": "stdout",
          "text": [
            "Python is fantastic\n",
            "Python is awesome\n"
          ]
        }
      ]
    },
    {
      "cell_type": "markdown",
      "source": [
        "**The global Keyword**\n",
        "\n",
        "Normally, when you create a variable inside a function, that variable is local, and can only be used inside that function.\n",
        "\n",
        "To create a global variable inside a function, you can use the global keyword."
      ],
      "metadata": {
        "id": "yBipj39DrFk0"
      }
    },
    {
      "cell_type": "code",
      "source": [
        "def myfunc():\n",
        "  global x\n",
        "  x = \"fantastic\"\n",
        "\n",
        "myfunc()\n",
        "\n",
        "print(\"Python is \" + x)"
      ],
      "metadata": {
        "id": "s1BqriMYrP4G",
        "outputId": "3d34ab63-9ab7-4856-dfff-d78a5c64c09a",
        "colab": {
          "base_uri": "https://localhost:8080/"
        }
      },
      "execution_count": 5,
      "outputs": [
        {
          "output_type": "stream",
          "name": "stdout",
          "text": [
            "Python is fantastic\n"
          ]
        }
      ]
    },
    {
      "cell_type": "markdown",
      "source": [
        "Also, use the global keyword if you want to change a global variable inside a function."
      ],
      "metadata": {
        "id": "czvZvr0crhdT"
      }
    },
    {
      "cell_type": "code",
      "source": [
        "x=\"awsome\"\n",
        "\n",
        "\n",
        "def myfunc():\n",
        "  global x\n",
        "  x=\"fantastic\"\n",
        "\n",
        "\n",
        "myfunc()\n",
        "\n",
        "print(\"python is \"+x)"
      ],
      "metadata": {
        "id": "8eMsNhadrkmN",
        "outputId": "1f25212e-e552-4820-ad3f-fcc91b5bc1e3",
        "colab": {
          "base_uri": "https://localhost:8080/"
        }
      },
      "execution_count": 6,
      "outputs": [
        {
          "output_type": "stream",
          "name": "stdout",
          "text": [
            "python is fantastic\n"
          ]
        }
      ]
    }
  ]
}