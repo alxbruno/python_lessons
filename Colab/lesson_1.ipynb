{
  "nbformat": 4,
  "nbformat_minor": 0,
  "metadata": {
    "colab": {
      "provenance": [],
      "authorship_tag": "ABX9TyP22rjugJpbf2BEPL8lx5zx",
      "include_colab_link": true
    },
    "kernelspec": {
      "name": "python3",
      "display_name": "Python 3"
    },
    "language_info": {
      "name": "python"
    }
  },
  "cells": [
    {
      "cell_type": "markdown",
      "metadata": {
        "id": "view-in-github",
        "colab_type": "text"
      },
      "source": [
        "<a href=\"https://colab.research.google.com/github/alxbruno/python_lessons/blob/main/Colab/lesson_1.ipynb\" target=\"_parent\"><img src=\"https://colab.research.google.com/assets/colab-badge.svg\" alt=\"Open In Colab\"/></a>"
      ]
    },
    {
      "cell_type": "markdown",
      "source": [
        "This lesson belongs to the W3School - Python course -> https://www.w3schools.com/python/\n",
        "\n",
        "**Python Syntax**\n",
        "\n",
        "As we learned in the previous page, Python syntax can be executed by writing directly in the Command Line:"
      ],
      "metadata": {
        "id": "QKWMqMrHhD-E"
      }
    },
    {
      "cell_type": "code",
      "execution_count": 5,
      "metadata": {
        "id": "mejFSaNlaPwY",
        "colab": {
          "base_uri": "https://localhost:8080/"
        },
        "outputId": "0a84e854-b421-4dfa-b499-7d48c0205460"
      },
      "outputs": [
        {
          "output_type": "stream",
          "name": "stdout",
          "text": [
            "hello world!\n"
          ]
        }
      ],
      "source": [
        "print('hello world!')"
      ]
    },
    {
      "cell_type": "markdown",
      "source": [
        "**Python Indentation**\n",
        "\n",
        "Indentation refers to the spaces at the beginning of a code line.\n",
        "\n",
        "Where in other programming languages the indentation in code is for readability only, the indentation in Python is very important.\n",
        "\n",
        "Python uses indentation to indicate a block of code."
      ],
      "metadata": {
        "id": "y7RioHfTjgkB"
      }
    },
    {
      "cell_type": "code",
      "source": [
        "if 5>2:\n",
        "  print(\"five is greater than 2\")"
      ],
      "metadata": {
        "id": "9mDgsEkgjyhp"
      },
      "execution_count": 9,
      "outputs": []
    },
    {
      "cell_type": "markdown",
      "source": [
        "Python will give you an error if you skip the indentation:"
      ],
      "metadata": {
        "id": "-kqc6Mapk59Q"
      }
    },
    {
      "cell_type": "code",
      "source": [
        "if 5>2:\n",
        "print(\"five is greater than two\")"
      ],
      "metadata": {
        "id": "XRe0FZoilU9C",
        "outputId": "cce47214-b95f-4737-aa8d-2400ce3ee347",
        "colab": {
          "base_uri": "https://localhost:8080/",
          "height": 130
        }
      },
      "execution_count": 11,
      "outputs": [
        {
          "output_type": "error",
          "ename": "IndentationError",
          "evalue": "ignored",
          "traceback": [
            "\u001b[0;36m  File \u001b[0;32m\"<ipython-input-11-8c576a6b42b2>\"\u001b[0;36m, line \u001b[0;32m2\u001b[0m\n\u001b[0;31m    print(\"five is greater than two\")\u001b[0m\n\u001b[0m    ^\u001b[0m\n\u001b[0;31mIndentationError\u001b[0m\u001b[0;31m:\u001b[0m expected an indented block after 'if' statement on line 1\n"
          ]
        }
      ]
    },
    {
      "cell_type": "markdown",
      "source": [
        "The number of spaces is up to you as a programmer, the most common use is four, but it has to be at least one.\n",
        "\n"
      ],
      "metadata": {
        "id": "RlxOphs9lu-o"
      }
    },
    {
      "cell_type": "code",
      "source": [
        "if 5>2:\n",
        "  print(\"usando 1 tab\")\n",
        "    \n",
        "if 4<20:\n",
        "    print(\"usando 2 tabs\")\n",
        " \n"
      ],
      "metadata": {
        "id": "YPq9LQ9RluK2",
        "outputId": "ac25cda8-cf53-40c6-f662-7a5ddd6e4ae7",
        "colab": {
          "base_uri": "https://localhost:8080/"
        }
      },
      "execution_count": 14,
      "outputs": [
        {
          "output_type": "stream",
          "name": "stdout",
          "text": [
            "usando 1 tab\n",
            "usando 2 tabs\n"
          ]
        }
      ]
    }
  ]
}